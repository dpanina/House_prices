{
 "cells": [
  {
   "cell_type": "code",
   "execution_count": 77,
   "id": "single-button",
   "metadata": {},
   "outputs": [],
   "source": [
    "import pandas as pd\n",
    "import numpy as np\n",
    "import matplotlib.pyplot as plt\n",
    "import seaborn as sns\n",
    "\n",
    "import sklearn\n",
    "from sklearn.metrics import accuracy_score\n",
    "from sklearn.model_selection import train_test_split\n",
    "\n",
    "from sklearn.model_selection import GridSearchCV\n",
    "from sklearn.neighbors import KNeighborsRegressor\n",
    "from sklearn.ensemble import GradientBoostingRegressor \n",
    "from sklearn.metrics import mean_squared_error, r2_score\n",
    "from sklearn.metrics import make_scorer, mean_squared_log_error\n",
    "from sklearn.linear_model import ElasticNet"
   ]
  },
  {
   "cell_type": "markdown",
   "id": "worldwide-interval",
   "metadata": {},
   "source": [
    "# train_test_valid"
   ]
  },
  {
   "cell_type": "code",
   "execution_count": 82,
   "id": "light-shower",
   "metadata": {},
   "outputs": [],
   "source": [
    "df_all = pd.read_csv('df_clear_new_2305_05%.csv', index_col = ['Id'])\n",
    "df_sample = pd.read_csv('sample_submission.csv')"
   ]
  },
  {
   "cell_type": "code",
   "execution_count": 83,
   "id": "settled-excuse",
   "metadata": {},
   "outputs": [],
   "source": [
    "df_train = df_all[df_all['train_test']=='train']\n",
    "df_test = df_all[df_all['train_test']=='test']\n",
    "\n",
    "target = np.log(df_train['SalePrice'])\n",
    "df_train = df_train.drop(['train_test', 'SalePrice'], axis = 1).copy()\n",
    "df_test = df_test.drop(['train_test', 'SalePrice'], axis = 1).copy()\n"
   ]
  },
  {
   "cell_type": "code",
   "execution_count": 84,
   "id": "quick-retrieval",
   "metadata": {},
   "outputs": [
    {
     "data": {
      "text/plain": [
       "0.0    1429\n",
       "1.0      14\n",
       "Name: Functional_Maj1, dtype: int64"
      ]
     },
     "execution_count": 84,
     "metadata": {},
     "output_type": "execute_result"
    }
   ],
   "source": [
    "df_train.iloc[:,218].value_counts()"
   ]
  },
  {
   "cell_type": "code",
   "execution_count": 85,
   "id": "statewide-isolation",
   "metadata": {},
   "outputs": [
    {
     "data": {
      "text/plain": [
       "0.0    1454\n",
       "1.0       5\n",
       "Name: Functional_Maj1, dtype: int64"
      ]
     },
     "execution_count": 85,
     "metadata": {},
     "output_type": "execute_result"
    }
   ],
   "source": [
    "df_test.iloc[:,218].value_counts()"
   ]
  },
  {
   "cell_type": "code",
   "execution_count": 86,
   "id": "decent-consultation",
   "metadata": {},
   "outputs": [
    {
     "data": {
      "text/plain": [
       "<AxesSubplot:xlabel='SalePrice', ylabel='Count'>"
      ]
     },
     "execution_count": 86,
     "metadata": {},
     "output_type": "execute_result"
    },
    {
     "data": {
      "image/png": "[encoded data removed]",
      "text/plain": [
       "<Figure size 432x288 with 1 Axes>"
      ]
     },
     "metadata": {
      "needs_background": "light"
     },
     "output_type": "display_data"
    }
   ],
   "source": [
    "sns.histplot(target, kde = True)"
   ]
  },
  {
   "cell_type": "code",
   "execution_count": 87,
   "id": "efficient-techno",
   "metadata": {},
   "outputs": [],
   "source": [
    "x, y = df_train.to_numpy(), target.to_numpy()"
   ]
  },
  {
   "cell_type": "code",
   "execution_count": 88,
   "id": "southwest-funeral",
   "metadata": {},
   "outputs": [],
   "source": [
    "x_train, x_valid, y_train, y_valid = train_test_split(x, y, test_size=.3, random_state=1)\n",
    "x_train.shape,  x_valid.shape, y_train.shape, y_valid.shape\n",
    "\n",
    "#Normalizaton\n",
    "from sklearn.preprocessing import StandardScaler\n",
    "scaler = StandardScaler()\n",
    "x_train_norm = scaler.fit_transform(x_train)\n",
    "x_valid_norm = scaler.transform(x_valid)"
   ]
  },
  {
   "cell_type": "code",
   "execution_count": 89,
   "id": "searching-superintendent",
   "metadata": {},
   "outputs": [],
   "source": [
    "#sns.histplot(pd.DataFrame(x_train_norm), kde = True)"
   ]
  },
  {
   "cell_type": "code",
   "execution_count": 90,
   "id": "hundred-lincoln",
   "metadata": {},
   "outputs": [
    {
     "data": {
      "text/plain": [
       "(1443, 270)"
      ]
     },
     "execution_count": 90,
     "metadata": {},
     "output_type": "execute_result"
    }
   ],
   "source": [
    "x_train.shape,  x_valid.shape, y_train.shape, y_valid.shape\n",
    "df_train.shape"
   ]
  },
  {
   "cell_type": "markdown",
   "id": "internal-murray",
   "metadata": {},
   "source": [
    "x_train, x_valid, y_train, y_valid = train_valid_split(x, y, test_size=.3, random_state=1)\n",
    "x_train.shape,  x_valid.shape, y_train.shape, y_valid.shape\n",
    "\n",
    "from sklearn.preprocessing import PowerTransformer\n",
    "scaler = PowerTransformer()\n",
    "x_train_norm = scaler.fit_transform(x_train)\n",
    "x_valid_norm = scaler.transform(x_valid)"
   ]
  },
  {
   "cell_type": "markdown",
   "id": "opposed-ocean",
   "metadata": {},
   "source": [
    "# GBR"
   ]
  },
  {
   "cell_type": "code",
   "execution_count": 91,
   "id": "precise-cedar",
   "metadata": {},
   "outputs": [],
   "source": [
    "GBR = GradientBoostingRegressor()\n",
    "\n",
    "# будут рассмотрены все возможные комбинаци этих значений\n",
    "param_grid = {\n",
    "    'loss': ['ls', 'lad','huber'],\n",
    "    'learning_rate': [0.01, 0.05],\n",
    "    'n_estimators': [1000],\n",
    "    'max_depth': [3],\n",
    "    'max_leaf_nodes': [15, 16],\n",
    "    'max_features': ['log2', 'sqrt'],\n",
    "    'tol': [0.005],\n",
    "    'min_samples_leaf': [4, 5],\n",
    "    'min_samples_split': [4, 3]\n",
    "}\n",
    "\n",
    "# создаем объект\n",
    "cv = GridSearchCV(\n",
    "    estimator=GBR,\n",
    "    param_grid=param_grid,\n",
    "    scoring=make_scorer(lambda t,p: mean_squared_error(t,p)**.5, greater_is_better=False),\n",
    "    return_train_score=True,\n",
    "    #refit=True,\n",
    "    cv=5, # количество фолдов\n",
    "    verbose=4, # сколько печатать сообщений\n",
    "    n_jobs=-1, # насколько параллелельно считаем\n",
    ")"
   ]
  },
  {
   "cell_type": "code",
   "execution_count": 92,
   "id": "swiss-spray",
   "metadata": {},
   "outputs": [
    {
     "name": "stdout",
     "output_type": "stream",
     "text": [
      "Fitting 5 folds for each of 96 candidates, totalling 480 fits\n"
     ]
    },
    {
     "data": {
      "text/plain": [
       "GridSearchCV(cv=5, estimator=GradientBoostingRegressor(), n_jobs=-1,\n",
       "             param_grid={'learning_rate': [0.01, 0.05],\n",
       "                         'loss': ['ls', 'lad', 'huber'], 'max_depth': [3],\n",
       "                         'max_features': ['log2', 'sqrt'],\n",
       "                         'max_leaf_nodes': [15, 16], 'min_samples_leaf': [4, 5],\n",
       "                         'min_samples_split': [4, 3], 'n_estimators': [1000],\n",
       "                         'tol': [0.005]},\n",
       "             return_train_score=True,\n",
       "             scoring=make_scorer(<lambda>, greater_is_better=False), verbose=4)"
      ]
     },
     "execution_count": 92,
     "metadata": {},
     "output_type": "execute_result"
    }
   ],
   "source": [
    "cv.fit(x_train_norm, y_train)"
   ]
  },
  {
   "cell_type": "code",
   "execution_count": 98,
   "id": "starting-necklace",
   "metadata": {},
   "outputs": [
    {
     "data": {
      "text/plain": [
       "({'learning_rate': 0.05,\n",
       "  'loss': 'huber',\n",
       "  'max_depth': 3,\n",
       "  'max_features': 'log2',\n",
       "  'max_leaf_nodes': 16,\n",
       "  'min_samples_leaf': 4,\n",
       "  'min_samples_split': 3,\n",
       "  'n_estimators': 1000,\n",
       "  'tol': 0.005},\n",
       " -0.11932728295566104)"
      ]
     },
     "execution_count": 98,
     "metadata": {},
     "output_type": "execute_result"
    }
   ],
   "source": [
    "cv.best_params_, cv.best_score_"
   ]
  },
  {
   "cell_type": "code",
   "execution_count": 99,
   "id": "illegal-thailand",
   "metadata": {},
   "outputs": [
    {
     "data": {
      "text/plain": [
       "Index(['mean_fit_time', 'std_fit_time', 'mean_score_time', 'std_score_time',\n",
       "       'param_learning_rate', 'param_loss', 'param_max_depth',\n",
       "       'param_max_features', 'param_max_leaf_nodes', 'param_min_samples_leaf',\n",
       "       'param_min_samples_split', 'param_n_estimators', 'param_tol', 'params',\n",
       "       'split0_test_score', 'split1_test_score', 'split2_test_score',\n",
       "       'split3_test_score', 'split4_test_score', 'mean_test_score',\n",
       "       'std_test_score', 'rank_test_score', 'split0_train_score',\n",
       "       'split1_train_score', 'split2_train_score', 'split3_train_score',\n",
       "       'split4_train_score', 'mean_train_score', 'std_train_score'],\n",
       "      dtype='object')"
      ]
     },
     "execution_count": 99,
     "metadata": {},
     "output_type": "execute_result"
    }
   ],
   "source": [
    "pd.DataFrame(cv.cv_results_).columns"
   ]
  },
  {
   "cell_type": "code",
   "execution_count": 100,
   "id": "expanded-torture",
   "metadata": {},
   "outputs": [
    {
     "data": {
      "text/html": [
       "<div>\n",
       "<style scoped>\n",
       "    .dataframe tbody tr th:only-of-type {\n",
       "        vertical-align: middle;\n",
       "    }\n",
       "\n",
       "    .dataframe tbody tr th {\n",
       "        vertical-align: top;\n",
       "    }\n",
       "\n",
       "    .dataframe thead th {\n",
       "        text-align: right;\n",
       "    }\n",
       "</style>\n",
       "<table border=\"1\" class=\"dataframe\">\n",
       "  <thead>\n",
       "    <tr style=\"text-align: right;\">\n",
       "      <th></th>\n",
       "      <th>mean_train_score</th>\n",
       "      <th>mean_test_score</th>\n",
       "      <th>std_test_score</th>\n",
       "      <th>params</th>\n",
       "    </tr>\n",
       "  </thead>\n",
       "  <tbody>\n",
       "    <tr>\n",
       "      <th>85</th>\n",
       "      <td>-0.065604</td>\n",
       "      <td>-0.119327</td>\n",
       "      <td>0.003489</td>\n",
       "      <td>{'learning_rate': 0.05, 'loss': 'huber', 'max_...</td>\n",
       "    </tr>\n",
       "    <tr>\n",
       "      <th>92</th>\n",
       "      <td>-0.058877</td>\n",
       "      <td>-0.119650</td>\n",
       "      <td>0.004844</td>\n",
       "      <td>{'learning_rate': 0.05, 'loss': 'huber', 'max_...</td>\n",
       "    </tr>\n",
       "    <tr>\n",
       "      <th>61</th>\n",
       "      <td>-0.050505</td>\n",
       "      <td>-0.120168</td>\n",
       "      <td>0.005074</td>\n",
       "      <td>{'learning_rate': 0.05, 'loss': 'ls', 'max_dep...</td>\n",
       "    </tr>\n",
       "    <tr>\n",
       "      <th>94</th>\n",
       "      <td>-0.061126</td>\n",
       "      <td>-0.120273</td>\n",
       "      <td>0.004259</td>\n",
       "      <td>{'learning_rate': 0.05, 'loss': 'huber', 'max_...</td>\n",
       "    </tr>\n",
       "    <tr>\n",
       "      <th>93</th>\n",
       "      <td>-0.058645</td>\n",
       "      <td>-0.120468</td>\n",
       "      <td>0.004196</td>\n",
       "      <td>{'learning_rate': 0.05, 'loss': 'huber', 'max_...</td>\n",
       "    </tr>\n",
       "    <tr>\n",
       "      <th>...</th>\n",
       "      <td>...</td>\n",
       "      <td>...</td>\n",
       "      <td>...</td>\n",
       "      <td>...</td>\n",
       "    </tr>\n",
       "    <tr>\n",
       "      <th>22</th>\n",
       "      <td>-0.119650</td>\n",
       "      <td>-0.138937</td>\n",
       "      <td>0.001566</td>\n",
       "      <td>{'learning_rate': 0.01, 'loss': 'lad', 'max_de...</td>\n",
       "    </tr>\n",
       "    <tr>\n",
       "      <th>21</th>\n",
       "      <td>-0.118175</td>\n",
       "      <td>-0.139074</td>\n",
       "      <td>0.001518</td>\n",
       "      <td>{'learning_rate': 0.01, 'loss': 'lad', 'max_de...</td>\n",
       "    </tr>\n",
       "    <tr>\n",
       "      <th>18</th>\n",
       "      <td>-0.119712</td>\n",
       "      <td>-0.139483</td>\n",
       "      <td>0.002869</td>\n",
       "      <td>{'learning_rate': 0.01, 'loss': 'lad', 'max_de...</td>\n",
       "    </tr>\n",
       "    <tr>\n",
       "      <th>20</th>\n",
       "      <td>-0.118305</td>\n",
       "      <td>-0.139785</td>\n",
       "      <td>0.002411</td>\n",
       "      <td>{'learning_rate': 0.01, 'loss': 'lad', 'max_de...</td>\n",
       "    </tr>\n",
       "    <tr>\n",
       "      <th>19</th>\n",
       "      <td>-0.118900</td>\n",
       "      <td>-0.140310</td>\n",
       "      <td>0.002708</td>\n",
       "      <td>{'learning_rate': 0.01, 'loss': 'lad', 'max_de...</td>\n",
       "    </tr>\n",
       "  </tbody>\n",
       "</table>\n",
       "<p>96 rows × 4 columns</p>\n",
       "</div>"
      ],
      "text/plain": [
       "    mean_train_score  mean_test_score  std_test_score  \\\n",
       "85         -0.065604        -0.119327        0.003489   \n",
       "92         -0.058877        -0.119650        0.004844   \n",
       "61         -0.050505        -0.120168        0.005074   \n",
       "94         -0.061126        -0.120273        0.004259   \n",
       "93         -0.058645        -0.120468        0.004196   \n",
       "..               ...              ...             ...   \n",
       "22         -0.119650        -0.138937        0.001566   \n",
       "21         -0.118175        -0.139074        0.001518   \n",
       "18         -0.119712        -0.139483        0.002869   \n",
       "20         -0.118305        -0.139785        0.002411   \n",
       "19         -0.118900        -0.140310        0.002708   \n",
       "\n",
       "                                               params  \n",
       "85  {'learning_rate': 0.05, 'loss': 'huber', 'max_...  \n",
       "92  {'learning_rate': 0.05, 'loss': 'huber', 'max_...  \n",
       "61  {'learning_rate': 0.05, 'loss': 'ls', 'max_dep...  \n",
       "94  {'learning_rate': 0.05, 'loss': 'huber', 'max_...  \n",
       "93  {'learning_rate': 0.05, 'loss': 'huber', 'max_...  \n",
       "..                                                ...  \n",
       "22  {'learning_rate': 0.01, 'loss': 'lad', 'max_de...  \n",
       "21  {'learning_rate': 0.01, 'loss': 'lad', 'max_de...  \n",
       "18  {'learning_rate': 0.01, 'loss': 'lad', 'max_de...  \n",
       "20  {'learning_rate': 0.01, 'loss': 'lad', 'max_de...  \n",
       "19  {'learning_rate': 0.01, 'loss': 'lad', 'max_de...  \n",
       "\n",
       "[96 rows x 4 columns]"
      ]
     },
     "execution_count": 100,
     "metadata": {},
     "output_type": "execute_result"
    }
   ],
   "source": [
    "pd.DataFrame(cv.cv_results_)[['mean_train_score', 'mean_test_score', 'std_test_score', 'params']].sort_values('mean_test_score', ascending = False)"
   ]
  },
  {
   "cell_type": "markdown",
   "id": "specialized-birthday",
   "metadata": {},
   "source": [
    "# Kaggle"
   ]
  },
  {
   "cell_type": "code",
   "execution_count": 101,
   "id": "russian-habitat",
   "metadata": {},
   "outputs": [],
   "source": [
    "x_test_kag = df_test.to_numpy()\n",
    "x_test_norm = scaler.transform(x_test_kag)"
   ]
  },
  {
   "cell_type": "code",
   "execution_count": 102,
   "id": "radio-blood",
   "metadata": {},
   "outputs": [
    {
     "data": {
      "text/plain": [
       "(1459, 270)"
      ]
     },
     "execution_count": 102,
     "metadata": {},
     "output_type": "execute_result"
    }
   ],
   "source": [
    "x_test_kag.shape"
   ]
  },
  {
   "cell_type": "code",
   "execution_count": 103,
   "id": "banned-daniel",
   "metadata": {},
   "outputs": [
    {
     "data": {
      "text/plain": [
       "array([121988.37038602, 155879.23287129, 187030.97539253, ...,\n",
       "       149326.93588936, 129350.83433736, 217593.92281843])"
      ]
     },
     "execution_count": 103,
     "metadata": {},
     "output_type": "execute_result"
    }
   ],
   "source": [
    "np.e**cv.best_estimator_.predict(x_test_norm)"
   ]
  },
  {
   "cell_type": "code",
   "execution_count": 104,
   "id": "colored-establishment",
   "metadata": {},
   "outputs": [],
   "source": [
    "df_sample['SalePrice'] = np.e**cv.best_estimator_.predict(x_test_norm)"
   ]
  },
  {
   "cell_type": "code",
   "execution_count": 105,
   "id": "musical-september",
   "metadata": {},
   "outputs": [],
   "source": [
    "df_sample.to_csv('house_prices_kag_boost3_wo_out_05%.csv',columns = ['Id','SalePrice'],index=False)"
   ]
  },
  {
   "cell_type": "code",
   "execution_count": 106,
   "id": "piano-terrain",
   "metadata": {},
   "outputs": [
    {
     "data": {
      "image/png": "[encoded data removed]",
      "text/plain": [
       "<Figure size 432x288 with 1 Axes>"
      ]
     },
     "metadata": {
      "needs_background": "light"
     },
     "output_type": "display_data"
    },
    {
     "data": {
      "image/png": "[encoded data removed]",
      "text/plain": [
       "<Figure size 432x288 with 1 Axes>"
      ]
     },
     "metadata": {
      "needs_background": "light"
     },
     "output_type": "display_data"
    }
   ],
   "source": [
    "plt.hist(x_test_norm.mean(axis=0));\n",
    "plt.show()\n",
    "plt.hist(x_test_norm.std(axis=0));"
   ]
  },
  {
   "cell_type": "code",
   "execution_count": 22,
   "id": "relevant-muscle",
   "metadata": {},
   "outputs": [
    {
     "data": {
      "text/plain": [
       "0.7012999029678173"
      ]
     },
     "execution_count": 22,
     "metadata": {},
     "output_type": "execute_result"
    }
   ],
   "source": [
    "x_test_norm.std(axis=0)[218]"
   ]
  },
  {
   "cell_type": "markdown",
   "id": "original-action",
   "metadata": {},
   "source": [
    "# KNN"
   ]
  },
  {
   "cell_type": "code",
   "execution_count": 107,
   "id": "unavailable-toolbox",
   "metadata": {},
   "outputs": [],
   "source": [
    "# Grid search + cross validation\n",
    "from sklearn.model_selection import GridSearchCV\n",
    "from sklearn.neighbors import KNeighborsRegressor\n",
    "# создаем объект, не задавая параметры. Можно задать параметры, которые не будет изменяться при GS\n",
    "KNR = KNeighborsRegressor( )\n",
    "\n",
    "# будут рассмотрены все возможные комбинаци этих значений\n",
    "param_grid = {\n",
    "    'n_neighbors': [3,5,7],\n",
    "    'p': [1,2,3],\n",
    "    'weights': ['uniform', 'distance'],\n",
    "    'leaf_size':[9, 10] \n",
    "}\n",
    "\n",
    "# создаем объект\n",
    "cv_knn = GridSearchCV(\n",
    "    estimator = KNR, \n",
    "    param_grid = param_grid,\n",
    "    scoring = make_scorer(lambda t,p: mean_squared_log_error(t,p)**.5, greater_is_better=False), # метрика, которую будем *максимизировать*\n",
    "    return_train_score= True,\n",
    "    cv=5, #кол-во фолдов\n",
    "    verbose = 4,\n",
    "    n_jobs = -1, # насколько параллелельно считаем,\n",
    "    refit=True\n",
    "    )"
   ]
  },
  {
   "cell_type": "code",
   "execution_count": 25,
   "id": "green-exception",
   "metadata": {},
   "outputs": [
    {
     "name": "stdout",
     "output_type": "stream",
     "text": [
      "Fitting 5 folds for each of 36 candidates, totalling 180 fits\n"
     ]
    },
    {
     "name": "stderr",
     "output_type": "stream",
     "text": [
      "/opt/anaconda3/lib/python3.7/site-packages/joblib/externals/loky/process_executor.py:691: UserWarning: A worker stopped while some jobs were given to the executor. This can be caused by a too short worker timeout or by a memory leak.\n",
      "  \"timeout or by a memory leak.\", UserWarning\n"
     ]
    },
    {
     "data": {
      "text/plain": [
       "GridSearchCV(cv=5, estimator=KNeighborsRegressor(), n_jobs=-1,\n",
       "             param_grid={'leaf_size': [9, 10], 'n_neighbors': [3, 5, 7],\n",
       "                         'p': [1, 2, 3], 'weights': ['uniform', 'distance']},\n",
       "             return_train_score=True,\n",
       "             scoring=make_scorer(<lambda>, greater_is_better=False), verbose=4)"
      ]
     },
     "execution_count": 25,
     "metadata": {},
     "output_type": "execute_result"
    }
   ],
   "source": [
    "cv_knn.fit(x_train_norm, y_train)"
   ]
  },
  {
   "cell_type": "code",
   "execution_count": 26,
   "id": "entertaining-minute",
   "metadata": {},
   "outputs": [
    {
     "data": {
      "text/plain": [
       "({'leaf_size': 9, 'n_neighbors': 7, 'p': 1, 'weights': 'distance'},\n",
       " -0.01286081783041432)"
      ]
     },
     "execution_count": 26,
     "metadata": {},
     "output_type": "execute_result"
    }
   ],
   "source": [
    "cv_knn.best_params_, cv_knn.best_score_"
   ]
  },
  {
   "cell_type": "code",
   "execution_count": 326,
   "id": "robust-segment",
   "metadata": {},
   "outputs": [
    {
     "data": {
      "text/plain": [
       "(KNeighborsRegressor(leaf_size=9, p=1, weights='distance'),\n",
       " <bound method KNeighborsRegressor.predict of KNeighborsRegressor(leaf_size=9, p=1, weights='distance')>)"
      ]
     },
     "execution_count": 326,
     "metadata": {},
     "output_type": "execute_result"
    }
   ],
   "source": [
    "cv_knn.best_estimator_, cv_knn.best_estimator_.predict"
   ]
  },
  {
   "cell_type": "code",
   "execution_count": 27,
   "id": "regulated-singles",
   "metadata": {},
   "outputs": [
    {
     "name": "stdout",
     "output_type": "stream",
     "text": [
      "\n",
      "    Score:\n",
      "    train 0.00\n",
      "    test 0.17  \n",
      "\n"
     ]
    }
   ],
   "source": [
    "print(f'''\n",
    "    Score:\n",
    "    train {mean_squared_error(y_train, cv_knn.predict(x_train_norm))**.5 :.2f}\n",
    "    test {mean_squared_error(y_valid, cv_knn.predict(x_valid_norm))**.5 :.2f}  \n",
    "''')"
   ]
  },
  {
   "cell_type": "code",
   "execution_count": null,
   "id": "graphic-assist",
   "metadata": {},
   "outputs": [],
   "source": []
  }
 ],
 "metadata": {
  "kernelspec": {
   "display_name": "Python 3",
   "language": "python",
   "name": "python3"
  },
  "language_info": {
   "codemirror_mode": {
    "name": "ipython",
    "version": 3
   },
   "file_extension": ".py",
   "mimetype": "text/x-python",
   "name": "python",
   "nbconvert_exporter": "python",
   "pygments_lexer": "ipython3",
   "version": "3.7.4"
  }
 },
 "nbformat": 4,
 "nbformat_minor": 5
}
