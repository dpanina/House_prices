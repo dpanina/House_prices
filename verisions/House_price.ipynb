{
 "cells": [
  {
   "cell_type": "code",
   "execution_count": 38,
   "id": "sharp-bishop",
   "metadata": {},
   "outputs": [],
   "source": [
    "import pandas as pd\n",
    "import numpy as np\n",
    "import matplotlib.pyplot as plt\n",
    "import seaborn as sns\n",
    "\n",
    "import sklearn\n",
    "from sklearn.metrics import accuracy_score\n",
    "from sklearn.model_selection import train_test_split"
   ]
  },
  {
   "cell_type": "code",
   "execution_count": 39,
   "id": "adolescent-worthy",
   "metadata": {},
   "outputs": [],
   "source": [
    "path ='test.csv'"
   ]
  },
  {
   "cell_type": "code",
   "execution_count": 40,
   "id": "tropical-testament",
   "metadata": {},
   "outputs": [],
   "source": [
    "#!head -n 5 $path"
   ]
  },
  {
   "cell_type": "code",
   "execution_count": 41,
   "id": "mental-termination",
   "metadata": {},
   "outputs": [],
   "source": [
    "df_test = pd.read_csv('test.csv', index_col = ['Id'])\n",
    "df_train = pd.read_csv('train.csv', index_col = ['Id'])\n",
    "df_sample = pd.read_csv('sample_submission.csv')"
   ]
  },
  {
   "cell_type": "code",
   "execution_count": 42,
   "id": "wicked-owner",
   "metadata": {},
   "outputs": [],
   "source": [
    "df_test['train_test'] = 'test'\n",
    "df_train['train_test'] = 'train'"
   ]
  },
  {
   "cell_type": "code",
   "execution_count": 43,
   "id": "visible-catalog",
   "metadata": {},
   "outputs": [
    {
     "data": {
      "text/html": [
       "<div>\n",
       "<style scoped>\n",
       "    .dataframe tbody tr th:only-of-type {\n",
       "        vertical-align: middle;\n",
       "    }\n",
       "\n",
       "    .dataframe tbody tr th {\n",
       "        vertical-align: top;\n",
       "    }\n",
       "\n",
       "    .dataframe thead th {\n",
       "        text-align: right;\n",
       "    }\n",
       "</style>\n",
       "<table border=\"1\" class=\"dataframe\">\n",
       "  <thead>\n",
       "    <tr style=\"text-align: right;\">\n",
       "      <th></th>\n",
       "      <th>MSSubClass</th>\n",
       "      <th>MSZoning</th>\n",
       "      <th>LotFrontage</th>\n",
       "      <th>LotArea</th>\n",
       "      <th>Street</th>\n",
       "      <th>Alley</th>\n",
       "      <th>LotShape</th>\n",
       "      <th>LandContour</th>\n",
       "      <th>Utilities</th>\n",
       "      <th>LotConfig</th>\n",
       "      <th>...</th>\n",
       "      <th>PoolQC</th>\n",
       "      <th>Fence</th>\n",
       "      <th>MiscFeature</th>\n",
       "      <th>MiscVal</th>\n",
       "      <th>MoSold</th>\n",
       "      <th>YrSold</th>\n",
       "      <th>SaleType</th>\n",
       "      <th>SaleCondition</th>\n",
       "      <th>SalePrice</th>\n",
       "      <th>train_test</th>\n",
       "    </tr>\n",
       "    <tr>\n",
       "      <th>Id</th>\n",
       "      <th></th>\n",
       "      <th></th>\n",
       "      <th></th>\n",
       "      <th></th>\n",
       "      <th></th>\n",
       "      <th></th>\n",
       "      <th></th>\n",
       "      <th></th>\n",
       "      <th></th>\n",
       "      <th></th>\n",
       "      <th></th>\n",
       "      <th></th>\n",
       "      <th></th>\n",
       "      <th></th>\n",
       "      <th></th>\n",
       "      <th></th>\n",
       "      <th></th>\n",
       "      <th></th>\n",
       "      <th></th>\n",
       "      <th></th>\n",
       "      <th></th>\n",
       "    </tr>\n",
       "  </thead>\n",
       "  <tbody>\n",
       "    <tr>\n",
       "      <th>1</th>\n",
       "      <td>60</td>\n",
       "      <td>RL</td>\n",
       "      <td>65.0</td>\n",
       "      <td>8450</td>\n",
       "      <td>Pave</td>\n",
       "      <td>NaN</td>\n",
       "      <td>Reg</td>\n",
       "      <td>Lvl</td>\n",
       "      <td>AllPub</td>\n",
       "      <td>Inside</td>\n",
       "      <td>...</td>\n",
       "      <td>NaN</td>\n",
       "      <td>NaN</td>\n",
       "      <td>NaN</td>\n",
       "      <td>0</td>\n",
       "      <td>2</td>\n",
       "      <td>2008</td>\n",
       "      <td>WD</td>\n",
       "      <td>Normal</td>\n",
       "      <td>208500.0</td>\n",
       "      <td>train</td>\n",
       "    </tr>\n",
       "    <tr>\n",
       "      <th>2</th>\n",
       "      <td>20</td>\n",
       "      <td>RL</td>\n",
       "      <td>80.0</td>\n",
       "      <td>9600</td>\n",
       "      <td>Pave</td>\n",
       "      <td>NaN</td>\n",
       "      <td>Reg</td>\n",
       "      <td>Lvl</td>\n",
       "      <td>AllPub</td>\n",
       "      <td>FR2</td>\n",
       "      <td>...</td>\n",
       "      <td>NaN</td>\n",
       "      <td>NaN</td>\n",
       "      <td>NaN</td>\n",
       "      <td>0</td>\n",
       "      <td>5</td>\n",
       "      <td>2007</td>\n",
       "      <td>WD</td>\n",
       "      <td>Normal</td>\n",
       "      <td>181500.0</td>\n",
       "      <td>train</td>\n",
       "    </tr>\n",
       "    <tr>\n",
       "      <th>3</th>\n",
       "      <td>60</td>\n",
       "      <td>RL</td>\n",
       "      <td>68.0</td>\n",
       "      <td>11250</td>\n",
       "      <td>Pave</td>\n",
       "      <td>NaN</td>\n",
       "      <td>IR1</td>\n",
       "      <td>Lvl</td>\n",
       "      <td>AllPub</td>\n",
       "      <td>Inside</td>\n",
       "      <td>...</td>\n",
       "      <td>NaN</td>\n",
       "      <td>NaN</td>\n",
       "      <td>NaN</td>\n",
       "      <td>0</td>\n",
       "      <td>9</td>\n",
       "      <td>2008</td>\n",
       "      <td>WD</td>\n",
       "      <td>Normal</td>\n",
       "      <td>223500.0</td>\n",
       "      <td>train</td>\n",
       "    </tr>\n",
       "    <tr>\n",
       "      <th>4</th>\n",
       "      <td>70</td>\n",
       "      <td>RL</td>\n",
       "      <td>60.0</td>\n",
       "      <td>9550</td>\n",
       "      <td>Pave</td>\n",
       "      <td>NaN</td>\n",
       "      <td>IR1</td>\n",
       "      <td>Lvl</td>\n",
       "      <td>AllPub</td>\n",
       "      <td>Corner</td>\n",
       "      <td>...</td>\n",
       "      <td>NaN</td>\n",
       "      <td>NaN</td>\n",
       "      <td>NaN</td>\n",
       "      <td>0</td>\n",
       "      <td>2</td>\n",
       "      <td>2006</td>\n",
       "      <td>WD</td>\n",
       "      <td>Abnorml</td>\n",
       "      <td>140000.0</td>\n",
       "      <td>train</td>\n",
       "    </tr>\n",
       "    <tr>\n",
       "      <th>5</th>\n",
       "      <td>60</td>\n",
       "      <td>RL</td>\n",
       "      <td>84.0</td>\n",
       "      <td>14260</td>\n",
       "      <td>Pave</td>\n",
       "      <td>NaN</td>\n",
       "      <td>IR1</td>\n",
       "      <td>Lvl</td>\n",
       "      <td>AllPub</td>\n",
       "      <td>FR2</td>\n",
       "      <td>...</td>\n",
       "      <td>NaN</td>\n",
       "      <td>NaN</td>\n",
       "      <td>NaN</td>\n",
       "      <td>0</td>\n",
       "      <td>12</td>\n",
       "      <td>2008</td>\n",
       "      <td>WD</td>\n",
       "      <td>Normal</td>\n",
       "      <td>250000.0</td>\n",
       "      <td>train</td>\n",
       "    </tr>\n",
       "  </tbody>\n",
       "</table>\n",
       "<p>5 rows × 81 columns</p>\n",
       "</div>"
      ],
      "text/plain": [
       "    MSSubClass MSZoning  LotFrontage  LotArea Street Alley LotShape  \\\n",
       "Id                                                                    \n",
       "1           60       RL         65.0     8450   Pave   NaN      Reg   \n",
       "2           20       RL         80.0     9600   Pave   NaN      Reg   \n",
       "3           60       RL         68.0    11250   Pave   NaN      IR1   \n",
       "4           70       RL         60.0     9550   Pave   NaN      IR1   \n",
       "5           60       RL         84.0    14260   Pave   NaN      IR1   \n",
       "\n",
       "   LandContour Utilities LotConfig  ... PoolQC Fence MiscFeature MiscVal  \\\n",
       "Id                                  ...                                    \n",
       "1          Lvl    AllPub    Inside  ...    NaN   NaN         NaN       0   \n",
       "2          Lvl    AllPub       FR2  ...    NaN   NaN         NaN       0   \n",
       "3          Lvl    AllPub    Inside  ...    NaN   NaN         NaN       0   \n",
       "4          Lvl    AllPub    Corner  ...    NaN   NaN         NaN       0   \n",
       "5          Lvl    AllPub       FR2  ...    NaN   NaN         NaN       0   \n",
       "\n",
       "   MoSold YrSold  SaleType  SaleCondition  SalePrice  train_test  \n",
       "Id                                                                \n",
       "1       2   2008        WD         Normal   208500.0       train  \n",
       "2       5   2007        WD         Normal   181500.0       train  \n",
       "3       9   2008        WD         Normal   223500.0       train  \n",
       "4       2   2006        WD        Abnorml   140000.0       train  \n",
       "5      12   2008        WD         Normal   250000.0       train  \n",
       "\n",
       "[5 rows x 81 columns]"
      ]
     },
     "execution_count": 43,
     "metadata": {},
     "output_type": "execute_result"
    }
   ],
   "source": [
    "df = pd.concat([df_train, df_test], axis = 0)\n",
    "df.head()"
   ]
  },
  {
   "cell_type": "code",
   "execution_count": 44,
   "id": "minus-currency",
   "metadata": {},
   "outputs": [
    {
     "data": {
      "text/html": [
       "<div>\n",
       "<style scoped>\n",
       "    .dataframe tbody tr th:only-of-type {\n",
       "        vertical-align: middle;\n",
       "    }\n",
       "\n",
       "    .dataframe tbody tr th {\n",
       "        vertical-align: top;\n",
       "    }\n",
       "\n",
       "    .dataframe thead th {\n",
       "        text-align: right;\n",
       "    }\n",
       "</style>\n",
       "<table border=\"1\" class=\"dataframe\">\n",
       "  <thead>\n",
       "    <tr style=\"text-align: right;\">\n",
       "      <th></th>\n",
       "      <th>MSSubClass</th>\n",
       "      <th>LotFrontage</th>\n",
       "      <th>LotArea</th>\n",
       "      <th>OverallQual</th>\n",
       "      <th>OverallCond</th>\n",
       "      <th>YearBuilt</th>\n",
       "      <th>YearRemodAdd</th>\n",
       "      <th>MasVnrArea</th>\n",
       "      <th>BsmtFinSF1</th>\n",
       "      <th>BsmtFinSF2</th>\n",
       "      <th>...</th>\n",
       "      <th>WoodDeckSF</th>\n",
       "      <th>OpenPorchSF</th>\n",
       "      <th>EnclosedPorch</th>\n",
       "      <th>3SsnPorch</th>\n",
       "      <th>ScreenPorch</th>\n",
       "      <th>PoolArea</th>\n",
       "      <th>MiscVal</th>\n",
       "      <th>MoSold</th>\n",
       "      <th>YrSold</th>\n",
       "      <th>SalePrice</th>\n",
       "    </tr>\n",
       "  </thead>\n",
       "  <tbody>\n",
       "    <tr>\n",
       "      <th>MSSubClass</th>\n",
       "      <td>1.000000</td>\n",
       "      <td>-0.417359</td>\n",
       "      <td>-0.201730</td>\n",
       "      <td>0.033638</td>\n",
       "      <td>-0.065625</td>\n",
       "      <td>0.034409</td>\n",
       "      <td>0.043315</td>\n",
       "      <td>0.005433</td>\n",
       "      <td>-0.064311</td>\n",
       "      <td>-0.072530</td>\n",
       "      <td>...</td>\n",
       "      <td>-0.017654</td>\n",
       "      <td>-0.015923</td>\n",
       "      <td>-0.020867</td>\n",
       "      <td>-0.037529</td>\n",
       "      <td>-0.049181</td>\n",
       "      <td>-0.003080</td>\n",
       "      <td>-0.028867</td>\n",
       "      <td>-0.001231</td>\n",
       "      <td>-0.015028</td>\n",
       "      <td>-0.084284</td>\n",
       "    </tr>\n",
       "    <tr>\n",
       "      <th>LotFrontage</th>\n",
       "      <td>-0.417359</td>\n",
       "      <td>1.000000</td>\n",
       "      <td>0.489896</td>\n",
       "      <td>0.217645</td>\n",
       "      <td>-0.075508</td>\n",
       "      <td>0.122811</td>\n",
       "      <td>0.091557</td>\n",
       "      <td>0.221079</td>\n",
       "      <td>0.219408</td>\n",
       "      <td>0.047431</td>\n",
       "      <td>...</td>\n",
       "      <td>0.122070</td>\n",
       "      <td>0.164896</td>\n",
       "      <td>0.011509</td>\n",
       "      <td>0.028289</td>\n",
       "      <td>0.075858</td>\n",
       "      <td>0.174119</td>\n",
       "      <td>0.044272</td>\n",
       "      <td>0.011254</td>\n",
       "      <td>-0.007917</td>\n",
       "      <td>0.351799</td>\n",
       "    </tr>\n",
       "    <tr>\n",
       "      <th>LotArea</th>\n",
       "      <td>-0.201730</td>\n",
       "      <td>0.489896</td>\n",
       "      <td>1.000000</td>\n",
       "      <td>0.100541</td>\n",
       "      <td>-0.035617</td>\n",
       "      <td>0.024128</td>\n",
       "      <td>0.021612</td>\n",
       "      <td>0.125596</td>\n",
       "      <td>0.194031</td>\n",
       "      <td>0.084059</td>\n",
       "      <td>...</td>\n",
       "      <td>0.158045</td>\n",
       "      <td>0.104797</td>\n",
       "      <td>0.020974</td>\n",
       "      <td>0.015995</td>\n",
       "      <td>0.054375</td>\n",
       "      <td>0.093708</td>\n",
       "      <td>0.069029</td>\n",
       "      <td>0.004156</td>\n",
       "      <td>-0.024234</td>\n",
       "      <td>0.263843</td>\n",
       "    </tr>\n",
       "    <tr>\n",
       "      <th>OverallQual</th>\n",
       "      <td>0.033638</td>\n",
       "      <td>0.217645</td>\n",
       "      <td>0.100541</td>\n",
       "      <td>1.000000</td>\n",
       "      <td>-0.093847</td>\n",
       "      <td>0.597554</td>\n",
       "      <td>0.571532</td>\n",
       "      <td>0.432947</td>\n",
       "      <td>0.281810</td>\n",
       "      <td>-0.042771</td>\n",
       "      <td>...</td>\n",
       "      <td>0.255317</td>\n",
       "      <td>0.298084</td>\n",
       "      <td>-0.139256</td>\n",
       "      <td>0.018715</td>\n",
       "      <td>0.042910</td>\n",
       "      <td>0.030740</td>\n",
       "      <td>0.005562</td>\n",
       "      <td>0.030405</td>\n",
       "      <td>-0.019614</td>\n",
       "      <td>0.790982</td>\n",
       "    </tr>\n",
       "    <tr>\n",
       "      <th>OverallCond</th>\n",
       "      <td>-0.065625</td>\n",
       "      <td>-0.075508</td>\n",
       "      <td>-0.035617</td>\n",
       "      <td>-0.093847</td>\n",
       "      <td>1.000000</td>\n",
       "      <td>-0.368477</td>\n",
       "      <td>0.047654</td>\n",
       "      <td>-0.136007</td>\n",
       "      <td>-0.050418</td>\n",
       "      <td>0.041501</td>\n",
       "      <td>...</td>\n",
       "      <td>0.020123</td>\n",
       "      <td>-0.068978</td>\n",
       "      <td>0.071044</td>\n",
       "      <td>0.043739</td>\n",
       "      <td>0.043713</td>\n",
       "      <td>-0.016876</td>\n",
       "      <td>0.033956</td>\n",
       "      <td>-0.006256</td>\n",
       "      <td>0.030102</td>\n",
       "      <td>-0.077856</td>\n",
       "    </tr>\n",
       "    <tr>\n",
       "      <th>YearBuilt</th>\n",
       "      <td>0.034409</td>\n",
       "      <td>0.122811</td>\n",
       "      <td>0.024128</td>\n",
       "      <td>0.597554</td>\n",
       "      <td>-0.368477</td>\n",
       "      <td>1.000000</td>\n",
       "      <td>0.612235</td>\n",
       "      <td>0.314051</td>\n",
       "      <td>0.279581</td>\n",
       "      <td>-0.027595</td>\n",
       "      <td>...</td>\n",
       "      <td>0.229426</td>\n",
       "      <td>0.198554</td>\n",
       "      <td>-0.374073</td>\n",
       "      <td>0.015958</td>\n",
       "      <td>-0.041046</td>\n",
       "      <td>0.002304</td>\n",
       "      <td>-0.010886</td>\n",
       "      <td>0.013938</td>\n",
       "      <td>-0.012344</td>\n",
       "      <td>0.522897</td>\n",
       "    </tr>\n",
       "    <tr>\n",
       "      <th>YearRemodAdd</th>\n",
       "      <td>0.043315</td>\n",
       "      <td>0.091557</td>\n",
       "      <td>0.021612</td>\n",
       "      <td>0.571532</td>\n",
       "      <td>0.047654</td>\n",
       "      <td>0.612235</td>\n",
       "      <td>1.000000</td>\n",
       "      <td>0.196875</td>\n",
       "      <td>0.152126</td>\n",
       "      <td>-0.062153</td>\n",
       "      <td>...</td>\n",
       "      <td>0.218513</td>\n",
       "      <td>0.242182</td>\n",
       "      <td>-0.220456</td>\n",
       "      <td>0.037433</td>\n",
       "      <td>-0.046878</td>\n",
       "      <td>-0.011407</td>\n",
       "      <td>-0.003124</td>\n",
       "      <td>0.017693</td>\n",
       "      <td>0.033203</td>\n",
       "      <td>0.507101</td>\n",
       "    </tr>\n",
       "    <tr>\n",
       "      <th>MasVnrArea</th>\n",
       "      <td>0.005433</td>\n",
       "      <td>0.221079</td>\n",
       "      <td>0.125596</td>\n",
       "      <td>0.432947</td>\n",
       "      <td>-0.136007</td>\n",
       "      <td>0.314051</td>\n",
       "      <td>0.196875</td>\n",
       "      <td>1.000000</td>\n",
       "      <td>0.303490</td>\n",
       "      <td>-0.015645</td>\n",
       "      <td>...</td>\n",
       "      <td>0.166200</td>\n",
       "      <td>0.144650</td>\n",
       "      <td>-0.111499</td>\n",
       "      <td>0.013612</td>\n",
       "      <td>0.065209</td>\n",
       "      <td>0.004512</td>\n",
       "      <td>0.044811</td>\n",
       "      <td>-0.000117</td>\n",
       "      <td>-0.018510</td>\n",
       "      <td>0.477493</td>\n",
       "    </tr>\n",
       "    <tr>\n",
       "      <th>BsmtFinSF1</th>\n",
       "      <td>-0.064311</td>\n",
       "      <td>0.219408</td>\n",
       "      <td>0.194031</td>\n",
       "      <td>0.281810</td>\n",
       "      <td>-0.050418</td>\n",
       "      <td>0.279581</td>\n",
       "      <td>0.152126</td>\n",
       "      <td>0.303490</td>\n",
       "      <td>1.000000</td>\n",
       "      <td>-0.055045</td>\n",
       "      <td>...</td>\n",
       "      <td>0.223492</td>\n",
       "      <td>0.124163</td>\n",
       "      <td>-0.099712</td>\n",
       "      <td>0.050908</td>\n",
       "      <td>0.096823</td>\n",
       "      <td>0.084462</td>\n",
       "      <td>0.093295</td>\n",
       "      <td>-0.000942</td>\n",
       "      <td>0.022556</td>\n",
       "      <td>0.386420</td>\n",
       "    </tr>\n",
       "    <tr>\n",
       "      <th>BsmtFinSF2</th>\n",
       "      <td>-0.072530</td>\n",
       "      <td>0.047431</td>\n",
       "      <td>0.084059</td>\n",
       "      <td>-0.042771</td>\n",
       "      <td>0.041501</td>\n",
       "      <td>-0.027595</td>\n",
       "      <td>-0.062153</td>\n",
       "      <td>-0.015645</td>\n",
       "      <td>-0.055045</td>\n",
       "      <td>1.000000</td>\n",
       "      <td>...</td>\n",
       "      <td>0.098399</td>\n",
       "      <td>-0.005876</td>\n",
       "      <td>0.032740</td>\n",
       "      <td>-0.023279</td>\n",
       "      <td>0.063302</td>\n",
       "      <td>0.044524</td>\n",
       "      <td>-0.005139</td>\n",
       "      <td>-0.009593</td>\n",
       "      <td>0.008883</td>\n",
       "      <td>-0.011378</td>\n",
       "    </tr>\n",
       "    <tr>\n",
       "      <th>BsmtUnfSF</th>\n",
       "      <td>-0.125994</td>\n",
       "      <td>0.113714</td>\n",
       "      <td>0.021362</td>\n",
       "      <td>0.275175</td>\n",
       "      <td>-0.138202</td>\n",
       "      <td>0.130473</td>\n",
       "      <td>0.165175</td>\n",
       "      <td>0.090163</td>\n",
       "      <td>-0.477404</td>\n",
       "      <td>-0.238241</td>\n",
       "      <td>...</td>\n",
       "      <td>-0.039302</td>\n",
       "      <td>0.119764</td>\n",
       "      <td>0.005006</td>\n",
       "      <td>-0.005810</td>\n",
       "      <td>-0.049158</td>\n",
       "      <td>-0.032273</td>\n",
       "      <td>-0.010492</td>\n",
       "      <td>0.022607</td>\n",
       "      <td>-0.038015</td>\n",
       "      <td>0.214479</td>\n",
       "    </tr>\n",
       "    <tr>\n",
       "      <th>TotalBsmtSF</th>\n",
       "      <td>-0.219965</td>\n",
       "      <td>0.354822</td>\n",
       "      <td>0.254138</td>\n",
       "      <td>0.549294</td>\n",
       "      <td>-0.174002</td>\n",
       "      <td>0.408515</td>\n",
       "      <td>0.298107</td>\n",
       "      <td>0.397240</td>\n",
       "      <td>0.536467</td>\n",
       "      <td>0.089410</td>\n",
       "      <td>...</td>\n",
       "      <td>0.229600</td>\n",
       "      <td>0.245521</td>\n",
       "      <td>-0.085510</td>\n",
       "      <td>0.037892</td>\n",
       "      <td>0.075363</td>\n",
       "      <td>0.072216</td>\n",
       "      <td>0.084002</td>\n",
       "      <td>0.017888</td>\n",
       "      <td>-0.011184</td>\n",
       "      <td>0.613581</td>\n",
       "    </tr>\n",
       "    <tr>\n",
       "      <th>1stFlrSF</th>\n",
       "      <td>-0.248641</td>\n",
       "      <td>0.458247</td>\n",
       "      <td>0.332460</td>\n",
       "      <td>0.479152</td>\n",
       "      <td>-0.157418</td>\n",
       "      <td>0.310814</td>\n",
       "      <td>0.242245</td>\n",
       "      <td>0.395834</td>\n",
       "      <td>0.458092</td>\n",
       "      <td>0.084330</td>\n",
       "      <td>...</td>\n",
       "      <td>0.227347</td>\n",
       "      <td>0.238502</td>\n",
       "      <td>-0.065796</td>\n",
       "      <td>0.044086</td>\n",
       "      <td>0.098381</td>\n",
       "      <td>0.121900</td>\n",
       "      <td>0.093062</td>\n",
       "      <td>0.040143</td>\n",
       "      <td>-0.013442</td>\n",
       "      <td>0.605852</td>\n",
       "    </tr>\n",
       "    <tr>\n",
       "      <th>2ndFlrSF</th>\n",
       "      <td>0.309309</td>\n",
       "      <td>0.026545</td>\n",
       "      <td>0.031515</td>\n",
       "      <td>0.245596</td>\n",
       "      <td>0.005494</td>\n",
       "      <td>0.017588</td>\n",
       "      <td>0.158985</td>\n",
       "      <td>0.121014</td>\n",
       "      <td>-0.162301</td>\n",
       "      <td>-0.097744</td>\n",
       "      <td>...</td>\n",
       "      <td>0.089922</td>\n",
       "      <td>0.185387</td>\n",
       "      <td>0.054645</td>\n",
       "      <td>-0.032458</td>\n",
       "      <td>0.011070</td>\n",
       "      <td>0.044503</td>\n",
       "      <td>-0.005299</td>\n",
       "      <td>0.014185</td>\n",
       "      <td>-0.019229</td>\n",
       "      <td>0.319334</td>\n",
       "    </tr>\n",
       "    <tr>\n",
       "      <th>LowQualFinSF</th>\n",
       "      <td>0.026482</td>\n",
       "      <td>0.004894</td>\n",
       "      <td>0.000554</td>\n",
       "      <td>-0.048393</td>\n",
       "      <td>0.009048</td>\n",
       "      <td>-0.144191</td>\n",
       "      <td>-0.060371</td>\n",
       "      <td>-0.057912</td>\n",
       "      <td>-0.066028</td>\n",
       "      <td>-0.004923</td>\n",
       "      <td>...</td>\n",
       "      <td>-0.015622</td>\n",
       "      <td>-0.000692</td>\n",
       "      <td>0.087212</td>\n",
       "      <td>-0.004545</td>\n",
       "      <td>0.006835</td>\n",
       "      <td>0.035177</td>\n",
       "      <td>-0.005973</td>\n",
       "      <td>0.011528</td>\n",
       "      <td>-0.002257</td>\n",
       "      <td>-0.025606</td>\n",
       "    </tr>\n",
       "    <tr>\n",
       "      <th>GrLivArea</th>\n",
       "      <td>0.071677</td>\n",
       "      <td>0.382462</td>\n",
       "      <td>0.284519</td>\n",
       "      <td>0.575126</td>\n",
       "      <td>-0.116569</td>\n",
       "      <td>0.242666</td>\n",
       "      <td>0.316972</td>\n",
       "      <td>0.402994</td>\n",
       "      <td>0.211669</td>\n",
       "      <td>-0.017872</td>\n",
       "      <td>...</td>\n",
       "      <td>0.251017</td>\n",
       "      <td>0.341907</td>\n",
       "      <td>0.003274</td>\n",
       "      <td>0.006268</td>\n",
       "      <td>0.086284</td>\n",
       "      <td>0.135441</td>\n",
       "      <td>0.067118</td>\n",
       "      <td>0.044198</td>\n",
       "      <td>-0.026919</td>\n",
       "      <td>0.708624</td>\n",
       "    </tr>\n",
       "    <tr>\n",
       "      <th>BsmtFullBath</th>\n",
       "      <td>0.009950</td>\n",
       "      <td>0.113245</td>\n",
       "      <td>0.128349</td>\n",
       "      <td>0.164543</td>\n",
       "      <td>-0.042133</td>\n",
       "      <td>0.211580</td>\n",
       "      <td>0.134947</td>\n",
       "      <td>0.141593</td>\n",
       "      <td>0.638847</td>\n",
       "      <td>0.162835</td>\n",
       "      <td>...</td>\n",
       "      <td>0.186107</td>\n",
       "      <td>0.081265</td>\n",
       "      <td>-0.068393</td>\n",
       "      <td>0.027378</td>\n",
       "      <td>0.053119</td>\n",
       "      <td>0.043970</td>\n",
       "      <td>-0.004629</td>\n",
       "      <td>-0.003568</td>\n",
       "      <td>0.045255</td>\n",
       "      <td>0.227122</td>\n",
       "    </tr>\n",
       "    <tr>\n",
       "      <th>BsmtHalfBath</th>\n",
       "      <td>-0.001878</td>\n",
       "      <td>-0.025629</td>\n",
       "      <td>0.026292</td>\n",
       "      <td>-0.040732</td>\n",
       "      <td>0.084181</td>\n",
       "      <td>-0.030282</td>\n",
       "      <td>-0.046285</td>\n",
       "      <td>0.015006</td>\n",
       "      <td>0.078361</td>\n",
       "      <td>0.099485</td>\n",
       "      <td>...</td>\n",
       "      <td>0.051549</td>\n",
       "      <td>-0.034917</td>\n",
       "      <td>-0.009675</td>\n",
       "      <td>0.026861</td>\n",
       "      <td>0.042069</td>\n",
       "      <td>0.066851</td>\n",
       "      <td>0.036902</td>\n",
       "      <td>0.023014</td>\n",
       "      <td>-0.020028</td>\n",
       "      <td>-0.016844</td>\n",
       "    </tr>\n",
       "    <tr>\n",
       "      <th>FullBath</th>\n",
       "      <td>0.139140</td>\n",
       "      <td>0.181668</td>\n",
       "      <td>0.125826</td>\n",
       "      <td>0.528483</td>\n",
       "      <td>-0.215504</td>\n",
       "      <td>0.471169</td>\n",
       "      <td>0.457980</td>\n",
       "      <td>0.259777</td>\n",
       "      <td>0.081525</td>\n",
       "      <td>-0.075432</td>\n",
       "      <td>...</td>\n",
       "      <td>0.181266</td>\n",
       "      <td>0.260423</td>\n",
       "      <td>-0.118983</td>\n",
       "      <td>0.015192</td>\n",
       "      <td>-0.015910</td>\n",
       "      <td>0.028091</td>\n",
       "      <td>-0.010024</td>\n",
       "      <td>0.046274</td>\n",
       "      <td>-0.004882</td>\n",
       "      <td>0.560664</td>\n",
       "    </tr>\n",
       "    <tr>\n",
       "      <th>HalfBath</th>\n",
       "      <td>0.178750</td>\n",
       "      <td>0.039452</td>\n",
       "      <td>0.034244</td>\n",
       "      <td>0.272668</td>\n",
       "      <td>-0.088577</td>\n",
       "      <td>0.269743</td>\n",
       "      <td>0.211430</td>\n",
       "      <td>0.191950</td>\n",
       "      <td>-0.007311</td>\n",
       "      <td>-0.032448</td>\n",
       "      <td>...</td>\n",
       "      <td>0.116701</td>\n",
       "      <td>0.182048</td>\n",
       "      <td>-0.081978</td>\n",
       "      <td>-0.023417</td>\n",
       "      <td>0.035622</td>\n",
       "      <td>0.001424</td>\n",
       "      <td>0.026553</td>\n",
       "      <td>-0.001136</td>\n",
       "      <td>0.001587</td>\n",
       "      <td>0.284108</td>\n",
       "    </tr>\n",
       "    <tr>\n",
       "      <th>BedroomAbvGr</th>\n",
       "      <td>-0.008796</td>\n",
       "      <td>0.234892</td>\n",
       "      <td>0.132801</td>\n",
       "      <td>0.073075</td>\n",
       "      <td>-0.008477</td>\n",
       "      <td>-0.053101</td>\n",
       "      <td>-0.021912</td>\n",
       "      <td>0.078126</td>\n",
       "      <td>-0.113547</td>\n",
       "      <td>-0.031223</td>\n",
       "      <td>...</td>\n",
       "      <td>0.031644</td>\n",
       "      <td>0.086212</td>\n",
       "      <td>0.049940</td>\n",
       "      <td>-0.048279</td>\n",
       "      <td>0.007254</td>\n",
       "      <td>0.036544</td>\n",
       "      <td>0.000245</td>\n",
       "      <td>0.055997</td>\n",
       "      <td>-0.020453</td>\n",
       "      <td>0.168213</td>\n",
       "    </tr>\n",
       "    <tr>\n",
       "      <th>KitchenAbvGr</th>\n",
       "      <td>0.260155</td>\n",
       "      <td>0.004676</td>\n",
       "      <td>-0.020854</td>\n",
       "      <td>-0.159325</td>\n",
       "      <td>-0.086700</td>\n",
       "      <td>-0.137614</td>\n",
       "      <td>-0.142431</td>\n",
       "      <td>-0.051389</td>\n",
       "      <td>-0.086354</td>\n",
       "      <td>-0.037779</td>\n",
       "      <td>...</td>\n",
       "      <td>-0.087399</td>\n",
       "      <td>-0.068181</td>\n",
       "      <td>0.027639</td>\n",
       "      <td>-0.021462</td>\n",
       "      <td>-0.056573</td>\n",
       "      <td>-0.013116</td>\n",
       "      <td>0.025078</td>\n",
       "      <td>0.035493</td>\n",
       "      <td>0.035173</td>\n",
       "      <td>-0.135907</td>\n",
       "    </tr>\n",
       "    <tr>\n",
       "      <th>TotRmsAbvGrd</th>\n",
       "      <td>0.040509</td>\n",
       "      <td>0.349513</td>\n",
       "      <td>0.213802</td>\n",
       "      <td>0.389761</td>\n",
       "      <td>-0.092027</td>\n",
       "      <td>0.114280</td>\n",
       "      <td>0.198250</td>\n",
       "      <td>0.278228</td>\n",
       "      <td>0.052141</td>\n",
       "      <td>-0.048423</td>\n",
       "      <td>...</td>\n",
       "      <td>0.156543</td>\n",
       "      <td>0.238156</td>\n",
       "      <td>0.015345</td>\n",
       "      <td>-0.025764</td>\n",
       "      <td>0.032324</td>\n",
       "      <td>0.072061</td>\n",
       "      <td>0.060903</td>\n",
       "      <td>0.045137</td>\n",
       "      <td>-0.032354</td>\n",
       "      <td>0.533723</td>\n",
       "    </tr>\n",
       "    <tr>\n",
       "      <th>Fireplaces</th>\n",
       "      <td>-0.055151</td>\n",
       "      <td>0.261970</td>\n",
       "      <td>0.261185</td>\n",
       "      <td>0.390753</td>\n",
       "      <td>-0.030999</td>\n",
       "      <td>0.170680</td>\n",
       "      <td>0.134157</td>\n",
       "      <td>0.275195</td>\n",
       "      <td>0.293089</td>\n",
       "      <td>0.065625</td>\n",
       "      <td>...</td>\n",
       "      <td>0.227608</td>\n",
       "      <td>0.158621</td>\n",
       "      <td>0.000971</td>\n",
       "      <td>0.018852</td>\n",
       "      <td>0.169784</td>\n",
       "      <td>0.099123</td>\n",
       "      <td>0.008535</td>\n",
       "      <td>0.032352</td>\n",
       "      <td>-0.006752</td>\n",
       "      <td>0.466929</td>\n",
       "    </tr>\n",
       "    <tr>\n",
       "      <th>GarageYrBlt</th>\n",
       "      <td>0.087898</td>\n",
       "      <td>0.076673</td>\n",
       "      <td>-0.008628</td>\n",
       "      <td>0.571803</td>\n",
       "      <td>-0.325849</td>\n",
       "      <td>0.834812</td>\n",
       "      <td>0.652365</td>\n",
       "      <td>0.255112</td>\n",
       "      <td>0.194270</td>\n",
       "      <td>-0.068549</td>\n",
       "      <td>...</td>\n",
       "      <td>0.222584</td>\n",
       "      <td>0.231639</td>\n",
       "      <td>-0.300751</td>\n",
       "      <td>0.020699</td>\n",
       "      <td>-0.062320</td>\n",
       "      <td>-0.014467</td>\n",
       "      <td>-0.009203</td>\n",
       "      <td>0.024017</td>\n",
       "      <td>-0.004543</td>\n",
       "      <td>0.486362</td>\n",
       "    </tr>\n",
       "    <tr>\n",
       "      <th>GarageCars</th>\n",
       "      <td>-0.046597</td>\n",
       "      <td>0.310587</td>\n",
       "      <td>0.180434</td>\n",
       "      <td>0.600744</td>\n",
       "      <td>-0.181787</td>\n",
       "      <td>0.538074</td>\n",
       "      <td>0.426022</td>\n",
       "      <td>0.361190</td>\n",
       "      <td>0.255482</td>\n",
       "      <td>-0.014827</td>\n",
       "      <td>...</td>\n",
       "      <td>0.240715</td>\n",
       "      <td>0.203544</td>\n",
       "      <td>-0.132846</td>\n",
       "      <td>0.023383</td>\n",
       "      <td>0.043112</td>\n",
       "      <td>0.030424</td>\n",
       "      <td>-0.016934</td>\n",
       "      <td>0.050882</td>\n",
       "      <td>-0.022918</td>\n",
       "      <td>0.640409</td>\n",
       "    </tr>\n",
       "    <tr>\n",
       "      <th>GarageArea</th>\n",
       "      <td>-0.103394</td>\n",
       "      <td>0.359786</td>\n",
       "      <td>0.213251</td>\n",
       "      <td>0.565122</td>\n",
       "      <td>-0.154149</td>\n",
       "      <td>0.480735</td>\n",
       "      <td>0.376765</td>\n",
       "      <td>0.374061</td>\n",
       "      <td>0.310449</td>\n",
       "      <td>0.003139</td>\n",
       "      <td>...</td>\n",
       "      <td>0.238075</td>\n",
       "      <td>0.232559</td>\n",
       "      <td>-0.106417</td>\n",
       "      <td>0.029440</td>\n",
       "      <td>0.062389</td>\n",
       "      <td>0.053049</td>\n",
       "      <td>0.008446</td>\n",
       "      <td>0.040335</td>\n",
       "      <td>-0.013451</td>\n",
       "      <td>0.623431</td>\n",
       "    </tr>\n",
       "    <tr>\n",
       "      <th>WoodDeckSF</th>\n",
       "      <td>-0.017654</td>\n",
       "      <td>0.122070</td>\n",
       "      <td>0.158045</td>\n",
       "      <td>0.255317</td>\n",
       "      <td>0.020123</td>\n",
       "      <td>0.229426</td>\n",
       "      <td>0.218513</td>\n",
       "      <td>0.166200</td>\n",
       "      <td>0.223492</td>\n",
       "      <td>0.098399</td>\n",
       "      <td>...</td>\n",
       "      <td>1.000000</td>\n",
       "      <td>0.038457</td>\n",
       "      <td>-0.119114</td>\n",
       "      <td>-0.003935</td>\n",
       "      <td>-0.052134</td>\n",
       "      <td>0.094231</td>\n",
       "      <td>0.056883</td>\n",
       "      <td>0.018120</td>\n",
       "      <td>-0.000180</td>\n",
       "      <td>0.324413</td>\n",
       "    </tr>\n",
       "    <tr>\n",
       "      <th>OpenPorchSF</th>\n",
       "      <td>-0.015923</td>\n",
       "      <td>0.164896</td>\n",
       "      <td>0.104797</td>\n",
       "      <td>0.298084</td>\n",
       "      <td>-0.068978</td>\n",
       "      <td>0.198554</td>\n",
       "      <td>0.242182</td>\n",
       "      <td>0.144650</td>\n",
       "      <td>0.124163</td>\n",
       "      <td>-0.005876</td>\n",
       "      <td>...</td>\n",
       "      <td>0.038457</td>\n",
       "      <td>1.000000</td>\n",
       "      <td>-0.059672</td>\n",
       "      <td>-0.009392</td>\n",
       "      <td>0.047777</td>\n",
       "      <td>0.064212</td>\n",
       "      <td>0.077357</td>\n",
       "      <td>0.034167</td>\n",
       "      <td>-0.037377</td>\n",
       "      <td>0.315856</td>\n",
       "    </tr>\n",
       "    <tr>\n",
       "      <th>EnclosedPorch</th>\n",
       "      <td>-0.020867</td>\n",
       "      <td>0.011509</td>\n",
       "      <td>0.020974</td>\n",
       "      <td>-0.139256</td>\n",
       "      <td>0.071044</td>\n",
       "      <td>-0.374073</td>\n",
       "      <td>-0.220456</td>\n",
       "      <td>-0.111499</td>\n",
       "      <td>-0.099712</td>\n",
       "      <td>0.032740</td>\n",
       "      <td>...</td>\n",
       "      <td>-0.119114</td>\n",
       "      <td>-0.059672</td>\n",
       "      <td>1.000000</td>\n",
       "      <td>-0.032822</td>\n",
       "      <td>-0.064377</td>\n",
       "      <td>0.092534</td>\n",
       "      <td>0.008654</td>\n",
       "      <td>-0.020976</td>\n",
       "      <td>-0.001134</td>\n",
       "      <td>-0.128578</td>\n",
       "    </tr>\n",
       "    <tr>\n",
       "      <th>3SsnPorch</th>\n",
       "      <td>-0.037529</td>\n",
       "      <td>0.028289</td>\n",
       "      <td>0.015995</td>\n",
       "      <td>0.018715</td>\n",
       "      <td>0.043739</td>\n",
       "      <td>0.015958</td>\n",
       "      <td>0.037433</td>\n",
       "      <td>0.013612</td>\n",
       "      <td>0.050908</td>\n",
       "      <td>-0.023279</td>\n",
       "      <td>...</td>\n",
       "      <td>-0.003935</td>\n",
       "      <td>-0.009392</td>\n",
       "      <td>-0.032822</td>\n",
       "      <td>1.000000</td>\n",
       "      <td>-0.029546</td>\n",
       "      <td>-0.006525</td>\n",
       "      <td>-0.000788</td>\n",
       "      <td>0.027391</td>\n",
       "      <td>0.022560</td>\n",
       "      <td>0.044584</td>\n",
       "    </tr>\n",
       "    <tr>\n",
       "      <th>ScreenPorch</th>\n",
       "      <td>-0.049181</td>\n",
       "      <td>0.075858</td>\n",
       "      <td>0.054375</td>\n",
       "      <td>0.042910</td>\n",
       "      <td>0.043713</td>\n",
       "      <td>-0.041046</td>\n",
       "      <td>-0.046878</td>\n",
       "      <td>0.065209</td>\n",
       "      <td>0.096823</td>\n",
       "      <td>0.063302</td>\n",
       "      <td>...</td>\n",
       "      <td>-0.052134</td>\n",
       "      <td>0.047777</td>\n",
       "      <td>-0.064377</td>\n",
       "      <td>-0.029546</td>\n",
       "      <td>1.000000</td>\n",
       "      <td>0.026319</td>\n",
       "      <td>0.007067</td>\n",
       "      <td>0.028535</td>\n",
       "      <td>-0.006634</td>\n",
       "      <td>0.111447</td>\n",
       "    </tr>\n",
       "    <tr>\n",
       "      <th>PoolArea</th>\n",
       "      <td>-0.003080</td>\n",
       "      <td>0.174119</td>\n",
       "      <td>0.093708</td>\n",
       "      <td>0.030740</td>\n",
       "      <td>-0.016876</td>\n",
       "      <td>0.002304</td>\n",
       "      <td>-0.011407</td>\n",
       "      <td>0.004512</td>\n",
       "      <td>0.084462</td>\n",
       "      <td>0.044524</td>\n",
       "      <td>...</td>\n",
       "      <td>0.094231</td>\n",
       "      <td>0.064212</td>\n",
       "      <td>0.092534</td>\n",
       "      <td>-0.006525</td>\n",
       "      <td>0.026319</td>\n",
       "      <td>1.000000</td>\n",
       "      <td>0.011921</td>\n",
       "      <td>-0.042230</td>\n",
       "      <td>-0.052816</td>\n",
       "      <td>0.092404</td>\n",
       "    </tr>\n",
       "    <tr>\n",
       "      <th>MiscVal</th>\n",
       "      <td>-0.028867</td>\n",
       "      <td>0.044272</td>\n",
       "      <td>0.069029</td>\n",
       "      <td>0.005562</td>\n",
       "      <td>0.033956</td>\n",
       "      <td>-0.010886</td>\n",
       "      <td>-0.003124</td>\n",
       "      <td>0.044811</td>\n",
       "      <td>0.093295</td>\n",
       "      <td>-0.005139</td>\n",
       "      <td>...</td>\n",
       "      <td>0.056883</td>\n",
       "      <td>0.077357</td>\n",
       "      <td>0.008654</td>\n",
       "      <td>-0.000788</td>\n",
       "      <td>0.007067</td>\n",
       "      <td>0.011921</td>\n",
       "      <td>1.000000</td>\n",
       "      <td>0.007443</td>\n",
       "      <td>0.008445</td>\n",
       "      <td>-0.021190</td>\n",
       "    </tr>\n",
       "    <tr>\n",
       "      <th>MoSold</th>\n",
       "      <td>-0.001231</td>\n",
       "      <td>0.011254</td>\n",
       "      <td>0.004156</td>\n",
       "      <td>0.030405</td>\n",
       "      <td>-0.006256</td>\n",
       "      <td>0.013938</td>\n",
       "      <td>0.017693</td>\n",
       "      <td>-0.000117</td>\n",
       "      <td>-0.000942</td>\n",
       "      <td>-0.009593</td>\n",
       "      <td>...</td>\n",
       "      <td>0.018120</td>\n",
       "      <td>0.034167</td>\n",
       "      <td>-0.020976</td>\n",
       "      <td>0.027391</td>\n",
       "      <td>0.028535</td>\n",
       "      <td>-0.042230</td>\n",
       "      <td>0.007443</td>\n",
       "      <td>1.000000</td>\n",
       "      <td>-0.153895</td>\n",
       "      <td>0.046432</td>\n",
       "    </tr>\n",
       "    <tr>\n",
       "      <th>YrSold</th>\n",
       "      <td>-0.015028</td>\n",
       "      <td>-0.007917</td>\n",
       "      <td>-0.024234</td>\n",
       "      <td>-0.019614</td>\n",
       "      <td>0.030102</td>\n",
       "      <td>-0.012344</td>\n",
       "      <td>0.033203</td>\n",
       "      <td>-0.018510</td>\n",
       "      <td>0.022556</td>\n",
       "      <td>0.008883</td>\n",
       "      <td>...</td>\n",
       "      <td>-0.000180</td>\n",
       "      <td>-0.037377</td>\n",
       "      <td>-0.001134</td>\n",
       "      <td>0.022560</td>\n",
       "      <td>-0.006634</td>\n",
       "      <td>-0.052816</td>\n",
       "      <td>0.008445</td>\n",
       "      <td>-0.153895</td>\n",
       "      <td>1.000000</td>\n",
       "      <td>-0.028923</td>\n",
       "    </tr>\n",
       "    <tr>\n",
       "      <th>SalePrice</th>\n",
       "      <td>-0.084284</td>\n",
       "      <td>0.351799</td>\n",
       "      <td>0.263843</td>\n",
       "      <td>0.790982</td>\n",
       "      <td>-0.077856</td>\n",
       "      <td>0.522897</td>\n",
       "      <td>0.507101</td>\n",
       "      <td>0.477493</td>\n",
       "      <td>0.386420</td>\n",
       "      <td>-0.011378</td>\n",
       "      <td>...</td>\n",
       "      <td>0.324413</td>\n",
       "      <td>0.315856</td>\n",
       "      <td>-0.128578</td>\n",
       "      <td>0.044584</td>\n",
       "      <td>0.111447</td>\n",
       "      <td>0.092404</td>\n",
       "      <td>-0.021190</td>\n",
       "      <td>0.046432</td>\n",
       "      <td>-0.028923</td>\n",
       "      <td>1.000000</td>\n",
       "    </tr>\n",
       "  </tbody>\n",
       "</table>\n",
       "<p>37 rows × 37 columns</p>\n",
       "</div>"
      ],
      "text/plain": [
       "               MSSubClass  LotFrontage   LotArea  OverallQual  OverallCond  \\\n",
       "MSSubClass       1.000000    -0.417359 -0.201730     0.033638    -0.065625   \n",
       "LotFrontage     -0.417359     1.000000  0.489896     0.217645    -0.075508   \n",
       "LotArea         -0.201730     0.489896  1.000000     0.100541    -0.035617   \n",
       "OverallQual      0.033638     0.217645  0.100541     1.000000    -0.093847   \n",
       "OverallCond     -0.065625    -0.075508 -0.035617    -0.093847     1.000000   \n",
       "YearBuilt        0.034409     0.122811  0.024128     0.597554    -0.368477   \n",
       "YearRemodAdd     0.043315     0.091557  0.021612     0.571532     0.047654   \n",
       "MasVnrArea       0.005433     0.221079  0.125596     0.432947    -0.136007   \n",
       "BsmtFinSF1      -0.064311     0.219408  0.194031     0.281810    -0.050418   \n",
       "BsmtFinSF2      -0.072530     0.047431  0.084059    -0.042771     0.041501   \n",
       "BsmtUnfSF       -0.125994     0.113714  0.021362     0.275175    -0.138202   \n",
       "TotalBsmtSF     -0.219965     0.354822  0.254138     0.549294    -0.174002   \n",
       "1stFlrSF        -0.248641     0.458247  0.332460     0.479152    -0.157418   \n",
       "2ndFlrSF         0.309309     0.026545  0.031515     0.245596     0.005494   \n",
       "LowQualFinSF     0.026482     0.004894  0.000554    -0.048393     0.009048   \n",
       "GrLivArea        0.071677     0.382462  0.284519     0.575126    -0.116569   \n",
       "BsmtFullBath     0.009950     0.113245  0.128349     0.164543    -0.042133   \n",
       "BsmtHalfBath    -0.001878    -0.025629  0.026292    -0.040732     0.084181   \n",
       "FullBath         0.139140     0.181668  0.125826     0.528483    -0.215504   \n",
       "HalfBath         0.178750     0.039452  0.034244     0.272668    -0.088577   \n",
       "BedroomAbvGr    -0.008796     0.234892  0.132801     0.073075    -0.008477   \n",
       "KitchenAbvGr     0.260155     0.004676 -0.020854    -0.159325    -0.086700   \n",
       "TotRmsAbvGrd     0.040509     0.349513  0.213802     0.389761    -0.092027   \n",
       "Fireplaces      -0.055151     0.261970  0.261185     0.390753    -0.030999   \n",
       "GarageYrBlt      0.087898     0.076673 -0.008628     0.571803    -0.325849   \n",
       "GarageCars      -0.046597     0.310587  0.180434     0.600744    -0.181787   \n",
       "GarageArea      -0.103394     0.359786  0.213251     0.565122    -0.154149   \n",
       "WoodDeckSF      -0.017654     0.122070  0.158045     0.255317     0.020123   \n",
       "OpenPorchSF     -0.015923     0.164896  0.104797     0.298084    -0.068978   \n",
       "EnclosedPorch   -0.020867     0.011509  0.020974    -0.139256     0.071044   \n",
       "3SsnPorch       -0.037529     0.028289  0.015995     0.018715     0.043739   \n",
       "ScreenPorch     -0.049181     0.075858  0.054375     0.042910     0.043713   \n",
       "PoolArea        -0.003080     0.174119  0.093708     0.030740    -0.016876   \n",
       "MiscVal         -0.028867     0.044272  0.069029     0.005562     0.033956   \n",
       "MoSold          -0.001231     0.011254  0.004156     0.030405    -0.006256   \n",
       "YrSold          -0.015028    -0.007917 -0.024234    -0.019614     0.030102   \n",
       "SalePrice       -0.084284     0.351799  0.263843     0.790982    -0.077856   \n",
       "\n",
       "               YearBuilt  YearRemodAdd  MasVnrArea  BsmtFinSF1  BsmtFinSF2  \\\n",
       "MSSubClass      0.034409      0.043315    0.005433   -0.064311   -0.072530   \n",
       "LotFrontage     0.122811      0.091557    0.221079    0.219408    0.047431   \n",
       "LotArea         0.024128      0.021612    0.125596    0.194031    0.084059   \n",
       "OverallQual     0.597554      0.571532    0.432947    0.281810   -0.042771   \n",
       "OverallCond    -0.368477      0.047654   -0.136007   -0.050418    0.041501   \n",
       "YearBuilt       1.000000      0.612235    0.314051    0.279581   -0.027595   \n",
       "YearRemodAdd    0.612235      1.000000    0.196875    0.152126   -0.062153   \n",
       "MasVnrArea      0.314051      0.196875    1.000000    0.303490   -0.015645   \n",
       "BsmtFinSF1      0.279581      0.152126    0.303490    1.000000   -0.055045   \n",
       "BsmtFinSF2     -0.027595     -0.062153   -0.015645   -0.055045    1.000000   \n",
       "BsmtUnfSF       0.130473      0.165175    0.090163   -0.477404   -0.238241   \n",
       "TotalBsmtSF     0.408515      0.298107    0.397240    0.536467    0.089410   \n",
       "1stFlrSF        0.310814      0.242245    0.395834    0.458092    0.084330   \n",
       "2ndFlrSF        0.017588      0.158985    0.121014   -0.162301   -0.097744   \n",
       "LowQualFinSF   -0.144191     -0.060371   -0.057912   -0.066028   -0.004923   \n",
       "GrLivArea       0.242666      0.316972    0.402994    0.211669   -0.017872   \n",
       "BsmtFullBath    0.211580      0.134947    0.141593    0.638847    0.162835   \n",
       "BsmtHalfBath   -0.030282     -0.046285    0.015006    0.078361    0.099485   \n",
       "FullBath        0.471169      0.457980    0.259777    0.081525   -0.075432   \n",
       "HalfBath        0.269743      0.211430    0.191950   -0.007311   -0.032448   \n",
       "BedroomAbvGr   -0.053101     -0.021912    0.078126   -0.113547   -0.031223   \n",
       "KitchenAbvGr   -0.137614     -0.142431   -0.051389   -0.086354   -0.037779   \n",
       "TotRmsAbvGrd    0.114280      0.198250    0.278228    0.052141   -0.048423   \n",
       "Fireplaces      0.170680      0.134157    0.275195    0.293089    0.065625   \n",
       "GarageYrBlt     0.834812      0.652365    0.255112    0.194270   -0.068549   \n",
       "GarageCars      0.538074      0.426022    0.361190    0.255482   -0.014827   \n",
       "GarageArea      0.480735      0.376765    0.374061    0.310449    0.003139   \n",
       "WoodDeckSF      0.229426      0.218513    0.166200    0.223492    0.098399   \n",
       "OpenPorchSF     0.198554      0.242182    0.144650    0.124163   -0.005876   \n",
       "EnclosedPorch  -0.374073     -0.220456   -0.111499   -0.099712    0.032740   \n",
       "3SsnPorch       0.015958      0.037433    0.013612    0.050908   -0.023279   \n",
       "ScreenPorch    -0.041046     -0.046878    0.065209    0.096823    0.063302   \n",
       "PoolArea        0.002304     -0.011407    0.004512    0.084462    0.044524   \n",
       "MiscVal        -0.010886     -0.003124    0.044811    0.093295   -0.005139   \n",
       "MoSold          0.013938      0.017693   -0.000117   -0.000942   -0.009593   \n",
       "YrSold         -0.012344      0.033203   -0.018510    0.022556    0.008883   \n",
       "SalePrice       0.522897      0.507101    0.477493    0.386420   -0.011378   \n",
       "\n",
       "               ...  WoodDeckSF  OpenPorchSF  EnclosedPorch  3SsnPorch  \\\n",
       "MSSubClass     ...   -0.017654    -0.015923      -0.020867  -0.037529   \n",
       "LotFrontage    ...    0.122070     0.164896       0.011509   0.028289   \n",
       "LotArea        ...    0.158045     0.104797       0.020974   0.015995   \n",
       "OverallQual    ...    0.255317     0.298084      -0.139256   0.018715   \n",
       "OverallCond    ...    0.020123    -0.068978       0.071044   0.043739   \n",
       "YearBuilt      ...    0.229426     0.198554      -0.374073   0.015958   \n",
       "YearRemodAdd   ...    0.218513     0.242182      -0.220456   0.037433   \n",
       "MasVnrArea     ...    0.166200     0.144650      -0.111499   0.013612   \n",
       "BsmtFinSF1     ...    0.223492     0.124163      -0.099712   0.050908   \n",
       "BsmtFinSF2     ...    0.098399    -0.005876       0.032740  -0.023279   \n",
       "BsmtUnfSF      ...   -0.039302     0.119764       0.005006  -0.005810   \n",
       "TotalBsmtSF    ...    0.229600     0.245521      -0.085510   0.037892   \n",
       "1stFlrSF       ...    0.227347     0.238502      -0.065796   0.044086   \n",
       "2ndFlrSF       ...    0.089922     0.185387       0.054645  -0.032458   \n",
       "LowQualFinSF   ...   -0.015622    -0.000692       0.087212  -0.004545   \n",
       "GrLivArea      ...    0.251017     0.341907       0.003274   0.006268   \n",
       "BsmtFullBath   ...    0.186107     0.081265      -0.068393   0.027378   \n",
       "BsmtHalfBath   ...    0.051549    -0.034917      -0.009675   0.026861   \n",
       "FullBath       ...    0.181266     0.260423      -0.118983   0.015192   \n",
       "HalfBath       ...    0.116701     0.182048      -0.081978  -0.023417   \n",
       "BedroomAbvGr   ...    0.031644     0.086212       0.049940  -0.048279   \n",
       "KitchenAbvGr   ...   -0.087399    -0.068181       0.027639  -0.021462   \n",
       "TotRmsAbvGrd   ...    0.156543     0.238156       0.015345  -0.025764   \n",
       "Fireplaces     ...    0.227608     0.158621       0.000971   0.018852   \n",
       "GarageYrBlt    ...    0.222584     0.231639      -0.300751   0.020699   \n",
       "GarageCars     ...    0.240715     0.203544      -0.132846   0.023383   \n",
       "GarageArea     ...    0.238075     0.232559      -0.106417   0.029440   \n",
       "WoodDeckSF     ...    1.000000     0.038457      -0.119114  -0.003935   \n",
       "OpenPorchSF    ...    0.038457     1.000000      -0.059672  -0.009392   \n",
       "EnclosedPorch  ...   -0.119114    -0.059672       1.000000  -0.032822   \n",
       "3SsnPorch      ...   -0.003935    -0.009392      -0.032822   1.000000   \n",
       "ScreenPorch    ...   -0.052134     0.047777      -0.064377  -0.029546   \n",
       "PoolArea       ...    0.094231     0.064212       0.092534  -0.006525   \n",
       "MiscVal        ...    0.056883     0.077357       0.008654  -0.000788   \n",
       "MoSold         ...    0.018120     0.034167      -0.020976   0.027391   \n",
       "YrSold         ...   -0.000180    -0.037377      -0.001134   0.022560   \n",
       "SalePrice      ...    0.324413     0.315856      -0.128578   0.044584   \n",
       "\n",
       "               ScreenPorch  PoolArea   MiscVal    MoSold    YrSold  SalePrice  \n",
       "MSSubClass       -0.049181 -0.003080 -0.028867 -0.001231 -0.015028  -0.084284  \n",
       "LotFrontage       0.075858  0.174119  0.044272  0.011254 -0.007917   0.351799  \n",
       "LotArea           0.054375  0.093708  0.069029  0.004156 -0.024234   0.263843  \n",
       "OverallQual       0.042910  0.030740  0.005562  0.030405 -0.019614   0.790982  \n",
       "OverallCond       0.043713 -0.016876  0.033956 -0.006256  0.030102  -0.077856  \n",
       "YearBuilt        -0.041046  0.002304 -0.010886  0.013938 -0.012344   0.522897  \n",
       "YearRemodAdd     -0.046878 -0.011407 -0.003124  0.017693  0.033203   0.507101  \n",
       "MasVnrArea        0.065209  0.004512  0.044811 -0.000117 -0.018510   0.477493  \n",
       "BsmtFinSF1        0.096823  0.084462  0.093295 -0.000942  0.022556   0.386420  \n",
       "BsmtFinSF2        0.063302  0.044524 -0.005139 -0.009593  0.008883  -0.011378  \n",
       "BsmtUnfSF        -0.049158 -0.032273 -0.010492  0.022607 -0.038015   0.214479  \n",
       "TotalBsmtSF       0.075363  0.072216  0.084002  0.017888 -0.011184   0.613581  \n",
       "1stFlrSF          0.098381  0.121900  0.093062  0.040143 -0.013442   0.605852  \n",
       "2ndFlrSF          0.011070  0.044503 -0.005299  0.014185 -0.019229   0.319334  \n",
       "LowQualFinSF      0.006835  0.035177 -0.005973  0.011528 -0.002257  -0.025606  \n",
       "GrLivArea         0.086284  0.135441  0.067118  0.044198 -0.026919   0.708624  \n",
       "BsmtFullBath      0.053119  0.043970 -0.004629 -0.003568  0.045255   0.227122  \n",
       "BsmtHalfBath      0.042069  0.066851  0.036902  0.023014 -0.020028  -0.016844  \n",
       "FullBath         -0.015910  0.028091 -0.010024  0.046274 -0.004882   0.560664  \n",
       "HalfBath          0.035622  0.001424  0.026553 -0.001136  0.001587   0.284108  \n",
       "BedroomAbvGr      0.007254  0.036544  0.000245  0.055997 -0.020453   0.168213  \n",
       "KitchenAbvGr     -0.056573 -0.013116  0.025078  0.035493  0.035173  -0.135907  \n",
       "TotRmsAbvGrd      0.032324  0.072061  0.060903  0.045137 -0.032354   0.533723  \n",
       "Fireplaces        0.169784  0.099123  0.008535  0.032352 -0.006752   0.466929  \n",
       "GarageYrBlt      -0.062320 -0.014467 -0.009203  0.024017 -0.004543   0.486362  \n",
       "GarageCars        0.043112  0.030424 -0.016934  0.050882 -0.022918   0.640409  \n",
       "GarageArea        0.062389  0.053049  0.008446  0.040335 -0.013451   0.623431  \n",
       "WoodDeckSF       -0.052134  0.094231  0.056883  0.018120 -0.000180   0.324413  \n",
       "OpenPorchSF       0.047777  0.064212  0.077357  0.034167 -0.037377   0.315856  \n",
       "EnclosedPorch    -0.064377  0.092534  0.008654 -0.020976 -0.001134  -0.128578  \n",
       "3SsnPorch        -0.029546 -0.006525 -0.000788  0.027391  0.022560   0.044584  \n",
       "ScreenPorch       1.000000  0.026319  0.007067  0.028535 -0.006634   0.111447  \n",
       "PoolArea          0.026319  1.000000  0.011921 -0.042230 -0.052816   0.092404  \n",
       "MiscVal           0.007067  0.011921  1.000000  0.007443  0.008445  -0.021190  \n",
       "MoSold            0.028535 -0.042230  0.007443  1.000000 -0.153895   0.046432  \n",
       "YrSold           -0.006634 -0.052816  0.008445 -0.153895  1.000000  -0.028923  \n",
       "SalePrice         0.111447  0.092404 -0.021190  0.046432 -0.028923   1.000000  \n",
       "\n",
       "[37 rows x 37 columns]"
      ]
     },
     "execution_count": 44,
     "metadata": {},
     "output_type": "execute_result"
    }
   ],
   "source": [
    "corr_matrix = df.corr()\n",
    "corr_matrix"
   ]
  },
  {
   "cell_type": "markdown",
   "id": "japanese-economics",
   "metadata": {},
   "source": [
    "# Замена Nan"
   ]
  },
  {
   "cell_type": "code",
   "execution_count": 45,
   "id": "scheduled-trace",
   "metadata": {},
   "outputs": [
    {
     "data": {
      "text/plain": [
       "<AxesSubplot:xlabel='LotArea', ylabel='Count'>"
      ]
     },
     "execution_count": 45,
     "metadata": {},
     "output_type": "execute_result"
    },
    {
     "data": {
      "image/png": "[encoded data removed]",
      "text/plain": [
       "<Figure size 2880x720 with 1 Axes>"
      ]
     },
     "metadata": {
      "needs_background": "light"
     },
     "output_type": "display_data"
    }
   ],
   "source": [
    "plt.figure(figsize = (40,10))\n",
    "plt.xlim(1000,20000)\n",
    "sns.histplot(data = df, x = 'LotArea' )"
   ]
  },
  {
   "cell_type": "code",
   "execution_count": 46,
   "id": "certain-anatomy",
   "metadata": {},
   "outputs": [
    {
     "data": {
      "text/plain": [
       "GarageCars    2.0\n",
       "dtype: float64"
      ]
     },
     "execution_count": 46,
     "metadata": {},
     "output_type": "execute_result"
    }
   ],
   "source": [
    "round(df[df['GarageType']=='Detchd'][['GarageCars']].mean())"
   ]
  },
  {
   "cell_type": "code",
   "execution_count": 47,
   "id": "organic-fishing",
   "metadata": {},
   "outputs": [],
   "source": [
    "df['GarageCars'] = df['GarageCars'].fillna(round(df[df['GarageType']=='Detchd']['GarageCars'].mean()))"
   ]
  },
  {
   "cell_type": "code",
   "execution_count": 48,
   "id": "passive-moore",
   "metadata": {},
   "outputs": [],
   "source": [
    "df['GarageArea'] = df['GarageArea'].fillna(round(df[df['GarageType']=='Detchd']['GarageArea'].mean()))"
   ]
  },
  {
   "cell_type": "code",
   "execution_count": 49,
   "id": "awful-burst",
   "metadata": {},
   "outputs": [],
   "source": [
    "#df['BsmtFinSF2'] = df['BsmtFinSF2'].fillna(round(df['BsmtFinSF2'].mean()))\n",
    "#df['TotalBsmtSF'] = df['TotalBsmtSF'].fillna(round(df['TotalBsmtSF'].mean()))\n",
    "#df['BsmtHalfBath'] = df['BsmtHalfBath'].fillna(0)\n",
    "#df['GarageYrBlt'] = df['GarageYrBlt'].fillna(lambda row: mean_GarageYrBlt.loc[row['GarageType']])\n",
    "\n",
    "df['Alley'].fillna('no_alley', inplace=True)\n",
    "df['MSZoning'] = df['MSZoning'].fillna('RL')\n",
    "df['Utilities'] = df['Utilities'].fillna('AllPub')\n",
    "df['Exterior1st'] = df['Exterior1st'].fillna('VinylSd')\n",
    "df['Exterior2nd'] = df['Exterior2nd'].fillna('VinylSd')\n",
    "df['MasVnrType'].fillna('no_inform', inplace=True)\n",
    "df['Electrical'] = df['Electrical'].fillna('SBrkr')\n",
    "df['KitchenQual'] = df['KitchenQual'].fillna('no_inform')\n",
    "df['Functional'] = df['Functional'].fillna('Typ')\n",
    "df['SaleType'] = df['SaleType'].fillna('WD')\n",
    "df['BsmtQual'] = df['BsmtQual'].fillna('no_basement')\n",
    "df['BsmtCond'] = df['BsmtCond'].fillna('no_basement')\n",
    "df['BsmtExposure'] = df['BsmtExposure'].fillna('no_basement')\n",
    "df['BsmtFinType1'] = df['BsmtFinType1'].fillna('no_basement')\n",
    "df['BsmtFinType2'] = df['BsmtFinType2'].fillna('no_basement')\n",
    "df['FireplaceQu'] = df['FireplaceQu'].fillna('no_fireplace')\n",
    "df['GarageType'] = df['GarageType'].fillna('no_garage')\n",
    "df['GarageFinish'] = df['GarageFinish'].fillna('no_garage')\n",
    "df['GarageQual'] = df['GarageQual'].fillna('no_garage')\n",
    "df['GarageCond'] = df['GarageCond'].fillna('no_garage')\n",
    "df['GarageCond'] = df['GarageCond'].fillna('no_garage')\n",
    "df['PoolQC'] = df['PoolQC'].fillna('no_pool')\n",
    "df['Fence'] = df['Fence'].fillna('no_fence')\n",
    "df['MiscFeature'] = df['MiscFeature'].fillna('no_feature')"
   ]
  },
  {
   "cell_type": "code",
   "execution_count": 50,
   "id": "cultural-pakistan",
   "metadata": {},
   "outputs": [
    {
     "data": {
      "text/plain": [
       "MSZoning         0\n",
       "Street           0\n",
       "Alley            0\n",
       "LotShape         0\n",
       "LandContour      0\n",
       "Utilities        0\n",
       "LotConfig        0\n",
       "LandSlope        0\n",
       "Neighborhood     0\n",
       "Condition1       0\n",
       "Condition2       0\n",
       "BldgType         0\n",
       "HouseStyle       0\n",
       "RoofStyle        0\n",
       "RoofMatl         0\n",
       "Exterior1st      0\n",
       "Exterior2nd      0\n",
       "MasVnrType       0\n",
       "ExterQual        0\n",
       "ExterCond        0\n",
       "Foundation       0\n",
       "BsmtQual         0\n",
       "BsmtCond         0\n",
       "BsmtExposure     0\n",
       "BsmtFinType1     0\n",
       "BsmtFinType2     0\n",
       "Heating          0\n",
       "HeatingQC        0\n",
       "CentralAir       0\n",
       "Electrical       0\n",
       "KitchenQual      0\n",
       "Functional       0\n",
       "FireplaceQu      0\n",
       "GarageType       0\n",
       "GarageFinish     0\n",
       "GarageQual       0\n",
       "GarageCond       0\n",
       "PavedDrive       0\n",
       "PoolQC           0\n",
       "Fence            0\n",
       "MiscFeature      0\n",
       "SaleType         0\n",
       "SaleCondition    0\n",
       "train_test       0\n",
       "dtype: int64"
      ]
     },
     "execution_count": 50,
     "metadata": {},
     "output_type": "execute_result"
    }
   ],
   "source": [
    "df.select_dtypes(include=['object']).isnull().sum()"
   ]
  },
  {
   "cell_type": "code",
   "execution_count": 51,
   "id": "cooked-campbell",
   "metadata": {},
   "outputs": [],
   "source": [
    "df['BsmtFinSF1'] = df['BsmtFinSF1'].fillna(round(df['BsmtFinSF1'].mean()))\n",
    "df['BsmtFinSF2'] = df['BsmtFinSF2'].fillna(round(df['BsmtFinSF2'].mean()))\n",
    "df['BsmtUnfSF'] = df['BsmtUnfSF'].fillna(round(df['BsmtUnfSF'].mean()))\n",
    "df['TotalBsmtSF'] = df['TotalBsmtSF'].fillna(round(df['TotalBsmtSF'].mean()))\n",
    "df['BsmtHalfBath'] = df['BsmtHalfBath'].fillna(0)\n",
    "df['BsmtFullBath'] = df['BsmtFullBath'].fillna(0)\n",
    "df['GarageYrBlt']=df['GarageYrBlt'].fillna(df.groupby('GarageType')['GarageYrBlt'].transform('mean'))\n",
    "df['MasVnrArea'] = df['MasVnrArea'].fillna(round(df['MasVnrArea'].mean()))\n",
    "df['LotFrontage'] = df['LotFrontage'].fillna(df.groupby('Alley')['LotFrontage'].transform('mean'))"
   ]
  },
  {
   "cell_type": "code",
   "execution_count": 52,
   "id": "younger-declaration",
   "metadata": {},
   "outputs": [
    {
     "data": {
      "text/plain": [
       "157"
      ]
     },
     "execution_count": 52,
     "metadata": {},
     "output_type": "execute_result"
    }
   ],
   "source": [
    "df[df['LotFrontage'].isnull()][['LotFrontage']]\n",
    "df['GarageYrBlt'].iloc[7:13]\n",
    "#df['GarageType'].isnull().sum()\n",
    "df['GarageYrBlt'].isnull().sum()"
   ]
  },
  {
   "cell_type": "code",
   "execution_count": 53,
   "id": "innovative-ethernet",
   "metadata": {},
   "outputs": [
    {
     "data": {
      "text/plain": [
       "MSSubClass          0\n",
       "LotFrontage         0\n",
       "LotArea             0\n",
       "OverallQual         0\n",
       "OverallCond         0\n",
       "YearBuilt           0\n",
       "YearRemodAdd        0\n",
       "MasVnrArea          0\n",
       "BsmtFinSF1          0\n",
       "BsmtFinSF2          0\n",
       "BsmtUnfSF           0\n",
       "TotalBsmtSF         0\n",
       "1stFlrSF            0\n",
       "2ndFlrSF            0\n",
       "LowQualFinSF        0\n",
       "GrLivArea           0\n",
       "BsmtFullBath        0\n",
       "BsmtHalfBath        0\n",
       "FullBath            0\n",
       "HalfBath            0\n",
       "BedroomAbvGr        0\n",
       "KitchenAbvGr        0\n",
       "TotRmsAbvGrd        0\n",
       "Fireplaces          0\n",
       "GarageYrBlt       157\n",
       "GarageCars          0\n",
       "GarageArea          0\n",
       "WoodDeckSF          0\n",
       "OpenPorchSF         0\n",
       "EnclosedPorch       0\n",
       "3SsnPorch           0\n",
       "ScreenPorch         0\n",
       "PoolArea            0\n",
       "MiscVal             0\n",
       "MoSold              0\n",
       "YrSold              0\n",
       "SalePrice        1459\n",
       "dtype: int64"
      ]
     },
     "execution_count": 53,
     "metadata": {},
     "output_type": "execute_result"
    }
   ],
   "source": [
    "df.select_dtypes(include=['int64', 'float64']).isnull().sum()"
   ]
  },
  {
   "cell_type": "code",
   "execution_count": 54,
   "id": "early-friendship",
   "metadata": {},
   "outputs": [
    {
     "data": {
      "text/html": [
       "<div>\n",
       "<style scoped>\n",
       "    .dataframe tbody tr th:only-of-type {\n",
       "        vertical-align: middle;\n",
       "    }\n",
       "\n",
       "    .dataframe tbody tr th {\n",
       "        vertical-align: top;\n",
       "    }\n",
       "\n",
       "    .dataframe thead th {\n",
       "        text-align: right;\n",
       "    }\n",
       "</style>\n",
       "<table border=\"1\" class=\"dataframe\">\n",
       "  <thead>\n",
       "    <tr style=\"text-align: right;\">\n",
       "      <th></th>\n",
       "      <th>MSSubClass</th>\n",
       "      <th>MSZoning</th>\n",
       "      <th>LotFrontage</th>\n",
       "      <th>LotArea</th>\n",
       "      <th>Street</th>\n",
       "      <th>Alley</th>\n",
       "      <th>LotShape</th>\n",
       "      <th>LandContour</th>\n",
       "      <th>Utilities</th>\n",
       "      <th>LotConfig</th>\n",
       "      <th>...</th>\n",
       "      <th>PoolQC</th>\n",
       "      <th>Fence</th>\n",
       "      <th>MiscFeature</th>\n",
       "      <th>MiscVal</th>\n",
       "      <th>MoSold</th>\n",
       "      <th>YrSold</th>\n",
       "      <th>SaleType</th>\n",
       "      <th>SaleCondition</th>\n",
       "      <th>SalePrice</th>\n",
       "      <th>train_test</th>\n",
       "    </tr>\n",
       "    <tr>\n",
       "      <th>Id</th>\n",
       "      <th></th>\n",
       "      <th></th>\n",
       "      <th></th>\n",
       "      <th></th>\n",
       "      <th></th>\n",
       "      <th></th>\n",
       "      <th></th>\n",
       "      <th></th>\n",
       "      <th></th>\n",
       "      <th></th>\n",
       "      <th></th>\n",
       "      <th></th>\n",
       "      <th></th>\n",
       "      <th></th>\n",
       "      <th></th>\n",
       "      <th></th>\n",
       "      <th></th>\n",
       "      <th></th>\n",
       "      <th></th>\n",
       "      <th></th>\n",
       "      <th></th>\n",
       "    </tr>\n",
       "  </thead>\n",
       "  <tbody>\n",
       "  </tbody>\n",
       "</table>\n",
       "<p>0 rows × 81 columns</p>\n",
       "</div>"
      ],
      "text/plain": [
       "Empty DataFrame\n",
       "Columns: [MSSubClass, MSZoning, LotFrontage, LotArea, Street, Alley, LotShape, LandContour, Utilities, LotConfig, LandSlope, Neighborhood, Condition1, Condition2, BldgType, HouseStyle, OverallQual, OverallCond, YearBuilt, YearRemodAdd, RoofStyle, RoofMatl, Exterior1st, Exterior2nd, MasVnrType, MasVnrArea, ExterQual, ExterCond, Foundation, BsmtQual, BsmtCond, BsmtExposure, BsmtFinType1, BsmtFinSF1, BsmtFinType2, BsmtFinSF2, BsmtUnfSF, TotalBsmtSF, Heating, HeatingQC, CentralAir, Electrical, 1stFlrSF, 2ndFlrSF, LowQualFinSF, GrLivArea, BsmtFullBath, BsmtHalfBath, FullBath, HalfBath, BedroomAbvGr, KitchenAbvGr, KitchenQual, TotRmsAbvGrd, Functional, Fireplaces, FireplaceQu, GarageType, GarageYrBlt, GarageFinish, GarageCars, GarageArea, GarageQual, GarageCond, PavedDrive, WoodDeckSF, OpenPorchSF, EnclosedPorch, 3SsnPorch, ScreenPorch, PoolArea, PoolQC, Fence, MiscFeature, MiscVal, MoSold, YrSold, SaleType, SaleCondition, SalePrice, train_test]\n",
       "Index: []\n",
       "\n",
       "[0 rows x 81 columns]"
      ]
     },
     "execution_count": 54,
     "metadata": {},
     "output_type": "execute_result"
    }
   ],
   "source": [
    "#Для тестирования\n",
    "\n",
    "df[df['MasVnrArea'].isnull()]['MasVnrType'].value_counts()\n",
    "#df['BsmtFullBath'].value_counts()\n",
    "#df['Age_fill'] = df.apply(lambda row: mean_age.loc[(row['Sex'], row['Pclass'])], axis=1)\n",
    "df[df['MasVnrArea'].isnull()]"
   ]
  },
  {
   "cell_type": "code",
   "execution_count": 55,
   "id": "broad-producer",
   "metadata": {},
   "outputs": [],
   "source": [
    "#Для тестирования\n",
    "\n",
    "#df[df['Utilities '].isnull()]['BldgType'].value_counts()\n",
    "#df['KitchenQual'].value_counts()\n",
    "#df['Age_fill'] = df.apply(lambda row: mean_age.loc[(row['Sex'], row['Pclass'])], axis=1)\n",
    "#df[df['SaleType'].isnull()]\n",
    "#df['MiscFeature'].value_counts()\n",
    "#df.groupby(['KitchenAbvGr','KitchenQual'])['KitchenAbvGr'].count()\n",
    "\n",
    "#mean_age = df.groupby(['Sex', 'Pclass'])['Age'].median().round()"
   ]
  },
  {
   "cell_type": "code",
   "execution_count": 56,
   "id": "skilled-yield",
   "metadata": {},
   "outputs": [
    {
     "data": {
      "text/plain": [
       "<AxesSubplot:>"
      ]
     },
     "execution_count": 56,
     "metadata": {},
     "output_type": "execute_result"
    },
    {
     "data": {
      "image/png": "[encoded data removed]",
      "text/plain": [
       "<Figure size 432x288 with 1 Axes>"
      ]
     },
     "metadata": {
      "needs_background": "light"
     },
     "output_type": "display_data"
    }
   ],
   "source": [
    "df['LotFrontage'].hist()"
   ]
  },
  {
   "cell_type": "code",
   "execution_count": 57,
   "id": "modern-camcorder",
   "metadata": {},
   "outputs": [
    {
     "data": {
      "text/plain": [
       "<AxesSubplot:>"
      ]
     },
     "execution_count": 57,
     "metadata": {},
     "output_type": "execute_result"
    },
    {
     "data": {
      "image/png": "[encoded data removed]",
      "text/plain": [
       "<Figure size 432x288 with 1 Axes>"
      ]
     },
     "metadata": {
      "needs_background": "light"
     },
     "output_type": "display_data"
    }
   ],
   "source": [
    "df[df['Alley']=='Grvl']['SalePrice'].hist()"
   ]
  },
  {
   "cell_type": "code",
   "execution_count": 58,
   "id": "piano-central",
   "metadata": {},
   "outputs": [],
   "source": [
    "features = [#'Id',  \n",
    "            'LotFrontage', \n",
    "            'LotArea',  \n",
    "            'YearBuilt', \n",
    "            'YearRemodAdd',\n",
    "            'MasVnrArea', #Masonry veneer area in square feet \n",
    "            'BsmtFinSF1', \n",
    "            'BsmtFinSF2', \n",
    "            'BsmtUnfSF', \n",
    "            'TotalBsmtSF', \n",
    "            '1stFlrSF', \n",
    "            '2ndFlrSF',\n",
    "            'LowQualFinSF', \n",
    "            'GrLivArea', \n",
    "            'BsmtFullBath', \n",
    "            'BsmtHalfBath', \n",
    "            'FullBath',\n",
    "            'HalfBath', \n",
    "            'BedroomAbvGr', \n",
    "            'KitchenAbvGr',\n",
    "            'TotRmsAbvGrd', \n",
    "            'Fireplaces',\n",
    "            #'GarageYrBlt',\n",
    "            'GarageCars', \n",
    "            'GarageArea',\n",
    "            'WoodDeckSF', \n",
    "            'OpenPorchSF',\n",
    "            'EnclosedPorch', \n",
    "            '3SsnPorch', \n",
    "            'ScreenPorch', \n",
    "            'PoolArea', \n",
    "            'MiscVal', \n",
    "            'MoSold', \n",
    "            'YrSold', \n",
    "            \n",
    "]\n",
    "\n",
    "cat_features = ['MSZoning',\n",
    "            'Street',\n",
    "            'Alley', \n",
    "            'LotShape', \n",
    "            'LandContour', \n",
    "            'Utilities', \n",
    "            'LotConfig',\n",
    "            'LandSlope', \n",
    "            'Neighborhood', \n",
    "            'Condition1', \n",
    "            'Condition2',\n",
    "            'GarageQual',\n",
    "            'BldgType',\n",
    "            'HouseStyle', \n",
    "            'RoofStyle', \n",
    "            'RoofMatl', \n",
    "            'Exterior1st', \n",
    "            'Exterior2nd', \n",
    "            'MasVnrType',\n",
    "            'ExterQual', \n",
    "            'ExterCond', \n",
    "            'Foundation', \n",
    "            'BsmtQual',\n",
    "            'BsmtCond', \n",
    "            'BsmtExposure', \n",
    "            'BsmtFinType1',\n",
    "            'BsmtFinType2',\n",
    "            'Heating',\n",
    "            'HeatingQC', \n",
    "            'CentralAir', \n",
    "            'Electrical', \n",
    "            'KitchenQual',\n",
    "            'Functional',\n",
    "            'FireplaceQu', \n",
    "            'GarageType',\n",
    "            'GarageFinish', \n",
    "            'GarageCond', \n",
    "            'PavedDrive', \n",
    "            'PoolQC',\n",
    "            'Fence', \n",
    "            'MiscFeature', \n",
    "            'SaleType',\n",
    "            'SaleCondition',\n",
    "            'OverallQual', \n",
    "            'OverallCond',\n",
    "            'MSSubClass'\n",
    "               ]\n",
    "            \n",
    "\n",
    "    \n",
    "            \n",
    "tr_te = 'train_test'          \n",
    "target = 'SalePrice'"
   ]
  },
  {
   "cell_type": "code",
   "execution_count": 59,
   "id": "civilian-november",
   "metadata": {},
   "outputs": [
    {
     "data": {
      "text/plain": [
       "count      1460.000000\n",
       "mean     180921.195890\n",
       "std       79442.502883\n",
       "min       34900.000000\n",
       "25%      129975.000000\n",
       "50%      163000.000000\n",
       "75%      214000.000000\n",
       "max      755000.000000\n",
       "Name: SalePrice, dtype: float64"
      ]
     },
     "execution_count": 59,
     "metadata": {},
     "output_type": "execute_result"
    }
   ],
   "source": [
    "df[df[tr_te] =='train']['SalePrice'].describe()"
   ]
  },
  {
   "cell_type": "code",
   "execution_count": 60,
   "id": "strange-cemetery",
   "metadata": {},
   "outputs": [
    {
     "data": {
      "text/plain": [
       "<AxesSubplot:>"
      ]
     },
     "execution_count": 60,
     "metadata": {},
     "output_type": "execute_result"
    },
    {
     "data": {
      "image/png": "[encoded data removed]",
      "text/plain": [
       "<Figure size 432x288 with 1 Axes>"
      ]
     },
     "metadata": {
      "needs_background": "light"
     },
     "output_type": "display_data"
    }
   ],
   "source": [
    "df[df[tr_te] =='train']['SalePrice'].hist()"
   ]
  },
  {
   "cell_type": "code",
   "execution_count": 61,
   "id": "expensive-scheme",
   "metadata": {},
   "outputs": [
    {
     "data": {
      "text/plain": [
       "79442.50288288663"
      ]
     },
     "execution_count": 61,
     "metadata": {},
     "output_type": "execute_result"
    }
   ],
   "source": [
    "df.groupby(['LandSlope']).std().round()[target]/df.groupby(['LandSlope']).mean().round()[target]\n",
    "df[target].std()"
   ]
  },
  {
   "cell_type": "code",
   "execution_count": 62,
   "id": "preliminary-proof",
   "metadata": {},
   "outputs": [
    {
     "name": "stdout",
     "output_type": "stream",
     "text": [
      "LandSlope\n",
      "Gtl    0.44\n",
      "Mod    0.47\n",
      "Sev    0.42\n",
      "Name: SalePrice, dtype: float64\n"
     ]
    },
    {
     "data": {
      "image/png": "[encoded data removed]",
      "text/plain": [
       "<Figure size 432x288 with 1 Axes>"
      ]
     },
     "metadata": {
      "needs_background": "light"
     },
     "output_type": "display_data"
    },
    {
     "name": "stdout",
     "output_type": "stream",
     "text": [
      "\n",
      "LandSlope\n",
      "Gtl    0.44\n",
      "Mod    0.47\n",
      "Sev    0.42\n",
      "Name: SalePrice, dtype: float64\n"
     ]
    },
    {
     "data": {
      "image/png": "[encoded data removed]",
      "text/plain": [
       "<Figure size 432x288 with 1 Axes>"
      ]
     },
     "metadata": {
      "needs_background": "light"
     },
     "output_type": "display_data"
    },
    {
     "name": "stdout",
     "output_type": "stream",
     "text": [
      "\n",
      "LandSlope\n",
      "Gtl    0.44\n",
      "Mod    0.47\n",
      "Sev    0.42\n",
      "Name: SalePrice, dtype: float64\n"
     ]
    },
    {
     "data": {
      "image/png": "[encoded data removed]",
      "text/plain": [
       "<Figure size 432x288 with 1 Axes>"
      ]
     },
     "metadata": {
      "needs_background": "light"
     },
     "output_type": "display_data"
    },
    {
     "name": "stdout",
     "output_type": "stream",
     "text": [
      "\n",
      "LandSlope\n",
      "Gtl    0.44\n",
      "Mod    0.47\n",
      "Sev    0.42\n",
      "Name: SalePrice, dtype: float64\n"
     ]
    },
    {
     "data": {
      "image/png": "[encoded data removed]",
      "text/plain": [
       "<Figure size 432x288 with 1 Axes>"
      ]
     },
     "metadata": {
      "needs_background": "light"
     },
     "output_type": "display_data"
    },
    {
     "name": "stdout",
     "output_type": "stream",
     "text": [
      "\n",
      "LandSlope\n",
      "Gtl    0.44\n",
      "Mod    0.47\n",
      "Sev    0.42\n",
      "Name: SalePrice, dtype: float64\n"
     ]
    },
    {
     "data": {
      "image/png": "[encoded data removed]",
      "text/plain": [
       "<Figure size 432x288 with 1 Axes>"
      ]
     },
     "metadata": {
      "needs_background": "light"
     },
     "output_type": "display_data"
    },
    {
     "name": "stdout",
     "output_type": "stream",
     "text": [
      "\n",
      "LandSlope\n",
      "Gtl    0.44\n",
      "Mod    0.47\n",
      "Sev    0.42\n",
      "Name: SalePrice, dtype: float64\n"
     ]
    },
    {
     "data": {
      "image/png": "[encoded data removed]",
      "text/plain": [
       "<Figure size 432x288 with 1 Axes>"
      ]
     },
     "metadata": {
      "needs_background": "light"
     },
     "output_type": "display_data"
    },
    {
     "name": "stdout",
     "output_type": "stream",
     "text": [
      "\n",
      "LandSlope\n",
      "Gtl    0.44\n",
      "Mod    0.47\n",
      "Sev    0.42\n",
      "Name: SalePrice, dtype: float64\n"
     ]
    },
    {
     "data": {
      "image/png": "[encoded data removed]",
      "text/plain": [
       "<Figure size 432x288 with 1 Axes>"
      ]
     },
     "metadata": {
      "needs_background": "light"
     },
     "output_type": "display_data"
    },
    {
     "name": "stdout",
     "output_type": "stream",
     "text": [
      "\n",
      "LandSlope\n",
      "Gtl    0.44\n",
      "Mod    0.47\n",
      "Sev    0.42\n",
      "Name: SalePrice, dtype: float64\n"
     ]
    },
    {
     "data": {
      "image/png": "[encoded data removed]",
      "text/plain": [
       "<Figure size 432x288 with 1 Axes>"
      ]
     },
     "metadata": {
      "needs_background": "light"
     },
     "output_type": "display_data"
    },
    {
     "name": "stdout",
     "output_type": "stream",
     "text": [
      "\n",
      "LandSlope\n",
      "Gtl    0.44\n",
      "Mod    0.47\n",
      "Sev    0.42\n",
      "Name: SalePrice, dtype: float64\n"
     ]
    },
    {
     "data": {
      "image/png": "[encoded data removed]",
      "text/plain": [
       "<Figure size 432x288 with 1 Axes>"
      ]
     },
     "metadata": {
      "needs_background": "light"
     },
     "output_type": "display_data"
    },
    {
     "name": "stdout",
     "output_type": "stream",
     "text": [
      "\n",
      "LandSlope\n",
      "Gtl    0.44\n",
      "Mod    0.47\n",
      "Sev    0.42\n",
      "Name: SalePrice, dtype: float64\n"
     ]
    },
    {
     "data": {
      "image/png": "[encoded data removed]",
      "text/plain": [
       "<Figure size 432x288 with 1 Axes>"
      ]
     },
     "metadata": {
      "needs_background": "light"
     },
     "output_type": "display_data"
    },
    {
     "name": "stdout",
     "output_type": "stream",
     "text": [
      "\n",
      "LandSlope\n",
      "Gtl    0.44\n",
      "Mod    0.47\n",
      "Sev    0.42\n",
      "Name: SalePrice, dtype: float64\n"
     ]
    },
    {
     "data": {
      "image/png": "[encoded data removed]",
      "text/plain": [
       "<Figure size 432x288 with 1 Axes>"
      ]
     },
     "metadata": {
      "needs_background": "light"
     },
     "output_type": "display_data"
    },
    {
     "name": "stdout",
     "output_type": "stream",
     "text": [
      "\n",
      "LandSlope\n",
      "Gtl    0.44\n",
      "Mod    0.47\n",
      "Sev    0.42\n",
      "Name: SalePrice, dtype: float64\n"
     ]
    },
    {
     "data": {
      "image/png": "[encoded data removed]",
      "text/plain": [
       "<Figure size 432x288 with 1 Axes>"
      ]
     },
     "metadata": {
      "needs_background": "light"
     },
     "output_type": "display_data"
    },
    {
     "name": "stdout",
     "output_type": "stream",
     "text": [
      "\n",
      "LandSlope\n",
      "Gtl    0.44\n",
      "Mod    0.47\n",
      "Sev    0.42\n",
      "Name: SalePrice, dtype: float64\n"
     ]
    },
    {
     "data": {
      "image/png": "[encoded data removed]",
      "text/plain": [
       "<Figure size 432x288 with 1 Axes>"
      ]
     },
     "metadata": {
      "needs_background": "light"
     },
     "output_type": "display_data"
    },
    {
     "name": "stdout",
     "output_type": "stream",
     "text": [
      "\n",
      "LandSlope\n",
      "Gtl    0.44\n",
      "Mod    0.47\n",
      "Sev    0.42\n",
      "Name: SalePrice, dtype: float64\n"
     ]
    },
    {
     "data": {
      "image/png": "[encoded data removed]",
      "text/plain": [
       "<Figure size 432x288 with 1 Axes>"
      ]
     },
     "metadata": {
      "needs_background": "light"
     },
     "output_type": "display_data"
    },
    {
     "name": "stdout",
     "output_type": "stream",
     "text": [
      "\n",
      "LandSlope\n",
      "Gtl    0.44\n",
      "Mod    0.47\n",
      "Sev    0.42\n",
      "Name: SalePrice, dtype: float64\n"
     ]
    },
    {
     "data": {
      "image/png": "[encoded data removed]",
      "text/plain": [
       "<Figure size 432x288 with 1 Axes>"
      ]
     },
     "metadata": {
      "needs_background": "light"
     },
     "output_type": "display_data"
    },
    {
     "name": "stdout",
     "output_type": "stream",
     "text": [
      "\n",
      "LandSlope\n",
      "Gtl    0.44\n",
      "Mod    0.47\n",
      "Sev    0.42\n",
      "Name: SalePrice, dtype: float64\n"
     ]
    },
    {
     "data": {
      "image/png": "[encoded data removed]",
      "text/plain": [
       "<Figure size 432x288 with 1 Axes>"
      ]
     },
     "metadata": {
      "needs_background": "light"
     },
     "output_type": "display_data"
    },
    {
     "name": "stdout",
     "output_type": "stream",
     "text": [
      "\n",
      "LandSlope\n",
      "Gtl    0.44\n",
      "Mod    0.47\n",
      "Sev    0.42\n",
      "Name: SalePrice, dtype: float64\n"
     ]
    },
    {
     "data": {
      "image/png": "[encoded data removed]",
      "text/plain": [
       "<Figure size 432x288 with 1 Axes>"
      ]
     },
     "metadata": {
      "needs_background": "light"
     },
     "output_type": "display_data"
    },
    {
     "name": "stdout",
     "output_type": "stream",
     "text": [
      "\n",
      "LandSlope\n",
      "Gtl    0.44\n",
      "Mod    0.47\n",
      "Sev    0.42\n",
      "Name: SalePrice, dtype: float64\n"
     ]
    },
    {
     "data": {
      "image/png": "[encoded data removed]",
      "text/plain": [
       "<Figure size 432x288 with 1 Axes>"
      ]
     },
     "metadata": {
      "needs_background": "light"
     },
     "output_type": "display_data"
    },
    {
     "name": "stdout",
     "output_type": "stream",
     "text": [
      "\n",
      "LandSlope\n",
      "Gtl    0.44\n",
      "Mod    0.47\n",
      "Sev    0.42\n",
      "Name: SalePrice, dtype: float64\n"
     ]
    },
    {
     "data": {
      "image/png": "[encoded data removed]",
      "text/plain": [
       "<Figure size 432x288 with 1 Axes>"
      ]
     },
     "metadata": {
      "needs_background": "light"
     },
     "output_type": "display_data"
    },
    {
     "name": "stdout",
     "output_type": "stream",
     "text": [
      "\n",
      "LandSlope\n",
      "Gtl    0.44\n",
      "Mod    0.47\n",
      "Sev    0.42\n",
      "Name: SalePrice, dtype: float64\n"
     ]
    },
    {
     "data": {
      "image/png": "[encoded data removed]",
      "text/plain": [
       "<Figure size 432x288 with 1 Axes>"
      ]
     },
     "metadata": {
      "needs_background": "light"
     },
     "output_type": "display_data"
    },
    {
     "name": "stdout",
     "output_type": "stream",
     "text": [
      "\n",
      "LandSlope\n",
      "Gtl    0.44\n",
      "Mod    0.47\n",
      "Sev    0.42\n",
      "Name: SalePrice, dtype: float64\n"
     ]
    },
    {
     "data": {
      "image/png": "[encoded data removed]",
      "text/plain": [
       "<Figure size 432x288 with 1 Axes>"
      ]
     },
     "metadata": {
      "needs_background": "light"
     },
     "output_type": "display_data"
    },
    {
     "name": "stdout",
     "output_type": "stream",
     "text": [
      "\n",
      "LandSlope\n",
      "Gtl    0.44\n",
      "Mod    0.47\n",
      "Sev    0.42\n",
      "Name: SalePrice, dtype: float64\n"
     ]
    },
    {
     "data": {
      "image/png": "[encoded data removed]",
      "text/plain": [
       "<Figure size 432x288 with 1 Axes>"
      ]
     },
     "metadata": {
      "needs_background": "light"
     },
     "output_type": "display_data"
    },
    {
     "name": "stdout",
     "output_type": "stream",
     "text": [
      "\n",
      "LandSlope\n",
      "Gtl    0.44\n",
      "Mod    0.47\n",
      "Sev    0.42\n",
      "Name: SalePrice, dtype: float64\n"
     ]
    },
    {
     "data": {
      "image/png": "[encoded data removed]",
      "text/plain": [
       "<Figure size 432x288 with 1 Axes>"
      ]
     },
     "metadata": {
      "needs_background": "light"
     },
     "output_type": "display_data"
    },
    {
     "name": "stdout",
     "output_type": "stream",
     "text": [
      "\n",
      "LandSlope\n",
      "Gtl    0.44\n",
      "Mod    0.47\n",
      "Sev    0.42\n",
      "Name: SalePrice, dtype: float64\n"
     ]
    },
    {
     "data": {
      "image/png": "[encoded data removed]",
      "text/plain": [
       "<Figure size 432x288 with 1 Axes>"
      ]
     },
     "metadata": {
      "needs_background": "light"
     },
     "output_type": "display_data"
    },
    {
     "name": "stdout",
     "output_type": "stream",
     "text": [
      "\n",
      "LandSlope\n",
      "Gtl    0.44\n",
      "Mod    0.47\n",
      "Sev    0.42\n",
      "Name: SalePrice, dtype: float64\n"
     ]
    },
    {
     "data": {
      "image/png": "[encoded data removed]",
      "text/plain": [
       "<Figure size 432x288 with 1 Axes>"
      ]
     },
     "metadata": {
      "needs_background": "light"
     },
     "output_type": "display_data"
    },
    {
     "name": "stdout",
     "output_type": "stream",
     "text": [
      "\n",
      "LandSlope\n",
      "Gtl    0.44\n",
      "Mod    0.47\n",
      "Sev    0.42\n",
      "Name: SalePrice, dtype: float64\n"
     ]
    },
    {
     "data": {
      "image/png": "[encoded data removed]",
      "text/plain": [
       "<Figure size 432x288 with 1 Axes>"
      ]
     },
     "metadata": {
      "needs_background": "light"
     },
     "output_type": "display_data"
    },
    {
     "name": "stdout",
     "output_type": "stream",
     "text": [
      "\n",
      "LandSlope\n",
      "Gtl    0.44\n",
      "Mod    0.47\n",
      "Sev    0.42\n",
      "Name: SalePrice, dtype: float64\n"
     ]
    },
    {
     "data": {
      "image/png": "[encoded data removed]",
      "text/plain": [
       "<Figure size 432x288 with 1 Axes>"
      ]
     },
     "metadata": {
      "needs_background": "light"
     },
     "output_type": "display_data"
    },
    {
     "name": "stdout",
     "output_type": "stream",
     "text": [
      "\n",
      "LandSlope\n",
      "Gtl    0.44\n",
      "Mod    0.47\n",
      "Sev    0.42\n",
      "Name: SalePrice, dtype: float64\n"
     ]
    },
    {
     "data": {
      "image/png": "[encoded data removed]",
      "text/plain": [
       "<Figure size 432x288 with 1 Axes>"
      ]
     },
     "metadata": {
      "needs_background": "light"
     },
     "output_type": "display_data"
    },
    {
     "name": "stdout",
     "output_type": "stream",
     "text": [
      "\n",
      "LandSlope\n",
      "Gtl    0.44\n",
      "Mod    0.47\n",
      "Sev    0.42\n",
      "Name: SalePrice, dtype: float64\n"
     ]
    },
    {
     "data": {
      "image/png": "[encoded data removed]",
      "text/plain": [
       "<Figure size 432x288 with 1 Axes>"
      ]
     },
     "metadata": {
      "needs_background": "light"
     },
     "output_type": "display_data"
    },
    {
     "name": "stdout",
     "output_type": "stream",
     "text": [
      "\n",
      "LandSlope\n",
      "Gtl    0.44\n",
      "Mod    0.47\n",
      "Sev    0.42\n",
      "Name: SalePrice, dtype: float64\n"
     ]
    },
    {
     "data": {
      "image/png": "[encoded data removed]",
      "text/plain": [
       "<Figure size 432x288 with 1 Axes>"
      ]
     },
     "metadata": {
      "needs_background": "light"
     },
     "output_type": "display_data"
    },
    {
     "name": "stdout",
     "output_type": "stream",
     "text": [
      "\n",
      "LandSlope\n",
      "Gtl    0.44\n",
      "Mod    0.47\n",
      "Sev    0.42\n",
      "Name: SalePrice, dtype: float64\n"
     ]
    },
    {
     "data": {
      "image/png": "[encoded data removed]",
      "text/plain": [
       "<Figure size 432x288 with 1 Axes>"
      ]
     },
     "metadata": {
      "needs_background": "light"
     },
     "output_type": "display_data"
    },
    {
     "name": "stdout",
     "output_type": "stream",
     "text": [
      "\n",
      "LandSlope\n",
      "Gtl    0.44\n",
      "Mod    0.47\n",
      "Sev    0.42\n",
      "Name: SalePrice, dtype: float64\n"
     ]
    },
    {
     "data": {
      "image/png": "[encoded data removed]",
      "text/plain": [
       "<Figure size 432x288 with 1 Axes>"
      ]
     },
     "metadata": {
      "needs_background": "light"
     },
     "output_type": "display_data"
    },
    {
     "name": "stdout",
     "output_type": "stream",
     "text": [
      "\n",
      "LandSlope\n",
      "Gtl    0.44\n",
      "Mod    0.47\n",
      "Sev    0.42\n",
      "Name: SalePrice, dtype: float64\n"
     ]
    },
    {
     "data": {
      "image/png": "[encoded data removed]",
      "text/plain": [
       "<Figure size 432x288 with 1 Axes>"
      ]
     },
     "metadata": {
      "needs_background": "light"
     },
     "output_type": "display_data"
    },
    {
     "name": "stdout",
     "output_type": "stream",
     "text": [
      "\n",
      "LandSlope\n",
      "Gtl    0.44\n",
      "Mod    0.47\n",
      "Sev    0.42\n",
      "Name: SalePrice, dtype: float64\n"
     ]
    },
    {
     "data": {
      "image/png": "[encoded data removed]",
      "text/plain": [
       "<Figure size 432x288 with 1 Axes>"
      ]
     },
     "metadata": {
      "needs_background": "light"
     },
     "output_type": "display_data"
    },
    {
     "name": "stdout",
     "output_type": "stream",
     "text": [
      "\n",
      "LandSlope\n",
      "Gtl    0.44\n",
      "Mod    0.47\n",
      "Sev    0.42\n",
      "Name: SalePrice, dtype: float64\n"
     ]
    },
    {
     "data": {
      "image/png": "[encoded data removed]",
      "text/plain": [
       "<Figure size 432x288 with 1 Axes>"
      ]
     },
     "metadata": {
      "needs_background": "light"
     },
     "output_type": "display_data"
    },
    {
     "name": "stdout",
     "output_type": "stream",
     "text": [
      "\n",
      "LandSlope\n",
      "Gtl    0.44\n",
      "Mod    0.47\n",
      "Sev    0.42\n",
      "Name: SalePrice, dtype: float64\n"
     ]
    },
    {
     "data": {
      "image/png": "[encoded data removed]",
      "text/plain": [
       "<Figure size 432x288 with 1 Axes>"
      ]
     },
     "metadata": {
      "needs_background": "light"
     },
     "output_type": "display_data"
    },
    {
     "name": "stdout",
     "output_type": "stream",
     "text": [
      "\n",
      "LandSlope\n",
      "Gtl    0.44\n",
      "Mod    0.47\n",
      "Sev    0.42\n",
      "Name: SalePrice, dtype: float64\n"
     ]
    },
    {
     "data": {
      "image/png": "[encoded data removed]",
      "text/plain": [
       "<Figure size 432x288 with 1 Axes>"
      ]
     },
     "metadata": {
      "needs_background": "light"
     },
     "output_type": "display_data"
    },
    {
     "name": "stdout",
     "output_type": "stream",
     "text": [
      "\n",
      "LandSlope\n",
      "Gtl    0.44\n",
      "Mod    0.47\n",
      "Sev    0.42\n",
      "Name: SalePrice, dtype: float64\n"
     ]
    },
    {
     "data": {
      "image/png": "[encoded data removed]",
      "text/plain": [
       "<Figure size 432x288 with 1 Axes>"
      ]
     },
     "metadata": {
      "needs_background": "light"
     },
     "output_type": "display_data"
    },
    {
     "name": "stdout",
     "output_type": "stream",
     "text": [
      "\n",
      "LandSlope\n",
      "Gtl    0.44\n",
      "Mod    0.47\n",
      "Sev    0.42\n",
      "Name: SalePrice, dtype: float64\n"
     ]
    },
    {
     "data": {
      "image/png": "[encoded data removed]",
      "text/plain": [
       "<Figure size 432x288 with 1 Axes>"
      ]
     },
     "metadata": {
      "needs_background": "light"
     },
     "output_type": "display_data"
    },
    {
     "name": "stdout",
     "output_type": "stream",
     "text": [
      "\n",
      "LandSlope\n",
      "Gtl    0.44\n",
      "Mod    0.47\n",
      "Sev    0.42\n",
      "Name: SalePrice, dtype: float64\n"
     ]
    },
    {
     "data": {
      "image/png": "[encoded data removed]",
      "text/plain": [
       "<Figure size 432x288 with 1 Axes>"
      ]
     },
     "metadata": {
      "needs_background": "light"
     },
     "output_type": "display_data"
    },
    {
     "name": "stdout",
     "output_type": "stream",
     "text": [
      "\n",
      "LandSlope\n",
      "Gtl    0.44\n",
      "Mod    0.47\n",
      "Sev    0.42\n",
      "Name: SalePrice, dtype: float64\n"
     ]
    },
    {
     "data": {
      "image/png": "[encoded data removed]",
      "text/plain": [
       "<Figure size 432x288 with 1 Axes>"
      ]
     },
     "metadata": {
      "needs_background": "light"
     },
     "output_type": "display_data"
    },
    {
     "name": "stdout",
     "output_type": "stream",
     "text": [
      "\n",
      "LandSlope\n",
      "Gtl    0.44\n",
      "Mod    0.47\n",
      "Sev    0.42\n",
      "Name: SalePrice, dtype: float64\n"
     ]
    },
    {
     "data": {
      "image/png": "[encoded data removed]",
      "text/plain": [
       "<Figure size 432x288 with 1 Axes>"
      ]
     },
     "metadata": {
      "needs_background": "light"
     },
     "output_type": "display_data"
    },
    {
     "name": "stdout",
     "output_type": "stream",
     "text": [
      "\n",
      "LandSlope\n",
      "Gtl    0.44\n",
      "Mod    0.47\n",
      "Sev    0.42\n",
      "Name: SalePrice, dtype: float64\n"
     ]
    },
    {
     "data": {
      "image/png": "[encoded data removed]",
      "text/plain": [
       "<Figure size 432x288 with 1 Axes>"
      ]
     },
     "metadata": {
      "needs_background": "light"
     },
     "output_type": "display_data"
    },
    {
     "name": "stdout",
     "output_type": "stream",
     "text": [
      "\n",
      "LandSlope\n",
      "Gtl    0.44\n",
      "Mod    0.47\n",
      "Sev    0.42\n",
      "Name: SalePrice, dtype: float64\n"
     ]
    },
    {
     "data": {
      "image/png": "[encoded data removed]",
      "text/plain": [
       "<Figure size 432x288 with 1 Axes>"
      ]
     },
     "metadata": {
      "needs_background": "light"
     },
     "output_type": "display_data"
    },
    {
     "name": "stdout",
     "output_type": "stream",
     "text": [
      "\n",
      "LandSlope\n",
      "Gtl    0.44\n",
      "Mod    0.47\n",
      "Sev    0.42\n",
      "Name: SalePrice, dtype: float64\n"
     ]
    },
    {
     "data": {
      "image/png": "[encoded data removed]",
      "text/plain": [
       "<Figure size 432x288 with 1 Axes>"
      ]
     },
     "metadata": {
      "needs_background": "light"
     },
     "output_type": "display_data"
    },
    {
     "name": "stdout",
     "output_type": "stream",
     "text": [
      "\n",
      "LandSlope\n",
      "Gtl    0.44\n",
      "Mod    0.47\n",
      "Sev    0.42\n",
      "Name: SalePrice, dtype: float64\n"
     ]
    },
    {
     "data": {
      "image/png": "[encoded data removed]",
      "text/plain": [
       "<Figure size 432x288 with 1 Axes>"
      ]
     },
     "metadata": {
      "needs_background": "light"
     },
     "output_type": "display_data"
    },
    {
     "name": "stdout",
     "output_type": "stream",
     "text": [
      "\n",
      "\n"
     ]
    }
   ],
   "source": [
    "for feature in cat_features:\n",
    "    plt.title(feature)\n",
    "    print(((df.groupby(['LandSlope']).std()[target]/df.groupby(['LandSlope']).mean()[target])).round(2))\n",
    "    sns.barplot(y=df[target], x=df[feature], data= df)\n",
    "    plt.show()\n",
    "    print()\n",
    "print();\n",
    "\n",
    "\n",
    "#ax = sns.barplot(x = 'day', y = 'tip', data = tips, ci=100)"
   ]
  },
  {
   "cell_type": "markdown",
   "id": "otherwise-authorization",
   "metadata": {},
   "source": [
    "# One-hot-encoding"
   ]
  },
  {
   "cell_type": "code",
   "execution_count": 63,
   "id": "every-marks",
   "metadata": {},
   "outputs": [
    {
     "data": {
      "text/html": [
       "<div>\n",
       "<style scoped>\n",
       "    .dataframe tbody tr th:only-of-type {\n",
       "        vertical-align: middle;\n",
       "    }\n",
       "\n",
       "    .dataframe tbody tr th {\n",
       "        vertical-align: top;\n",
       "    }\n",
       "\n",
       "    .dataframe thead th {\n",
       "        text-align: right;\n",
       "    }\n",
       "</style>\n",
       "<table border=\"1\" class=\"dataframe\">\n",
       "  <thead>\n",
       "    <tr style=\"text-align: right;\">\n",
       "      <th></th>\n",
       "      <th>MSZoning_C (all)</th>\n",
       "      <th>MSZoning_FV</th>\n",
       "      <th>MSZoning_RH</th>\n",
       "      <th>MSZoning_RL</th>\n",
       "      <th>MSZoning_RM</th>\n",
       "      <th>Street_Grvl</th>\n",
       "      <th>Street_Pave</th>\n",
       "      <th>Alley_Grvl</th>\n",
       "      <th>Alley_Pave</th>\n",
       "      <th>Alley_no_alley</th>\n",
       "      <th>...</th>\n",
       "      <th>MSSubClass_70</th>\n",
       "      <th>MSSubClass_75</th>\n",
       "      <th>MSSubClass_80</th>\n",
       "      <th>MSSubClass_85</th>\n",
       "      <th>MSSubClass_90</th>\n",
       "      <th>MSSubClass_120</th>\n",
       "      <th>MSSubClass_150</th>\n",
       "      <th>MSSubClass_160</th>\n",
       "      <th>MSSubClass_180</th>\n",
       "      <th>MSSubClass_190</th>\n",
       "    </tr>\n",
       "    <tr>\n",
       "      <th>Id</th>\n",
       "      <th></th>\n",
       "      <th></th>\n",
       "      <th></th>\n",
       "      <th></th>\n",
       "      <th></th>\n",
       "      <th></th>\n",
       "      <th></th>\n",
       "      <th></th>\n",
       "      <th></th>\n",
       "      <th></th>\n",
       "      <th></th>\n",
       "      <th></th>\n",
       "      <th></th>\n",
       "      <th></th>\n",
       "      <th></th>\n",
       "      <th></th>\n",
       "      <th></th>\n",
       "      <th></th>\n",
       "      <th></th>\n",
       "      <th></th>\n",
       "      <th></th>\n",
       "    </tr>\n",
       "  </thead>\n",
       "  <tbody>\n",
       "    <tr>\n",
       "      <th>1</th>\n",
       "      <td>0.0</td>\n",
       "      <td>0.0</td>\n",
       "      <td>0.0</td>\n",
       "      <td>1.0</td>\n",
       "      <td>0.0</td>\n",
       "      <td>0.0</td>\n",
       "      <td>1.0</td>\n",
       "      <td>0.0</td>\n",
       "      <td>0.0</td>\n",
       "      <td>1.0</td>\n",
       "      <td>...</td>\n",
       "      <td>0.0</td>\n",
       "      <td>0.0</td>\n",
       "      <td>0.0</td>\n",
       "      <td>0.0</td>\n",
       "      <td>0.0</td>\n",
       "      <td>0.0</td>\n",
       "      <td>0.0</td>\n",
       "      <td>0.0</td>\n",
       "      <td>0.0</td>\n",
       "      <td>0.0</td>\n",
       "    </tr>\n",
       "    <tr>\n",
       "      <th>2</th>\n",
       "      <td>0.0</td>\n",
       "      <td>0.0</td>\n",
       "      <td>0.0</td>\n",
       "      <td>1.0</td>\n",
       "      <td>0.0</td>\n",
       "      <td>0.0</td>\n",
       "      <td>1.0</td>\n",
       "      <td>0.0</td>\n",
       "      <td>0.0</td>\n",
       "      <td>1.0</td>\n",
       "      <td>...</td>\n",
       "      <td>0.0</td>\n",
       "      <td>0.0</td>\n",
       "      <td>0.0</td>\n",
       "      <td>0.0</td>\n",
       "      <td>0.0</td>\n",
       "      <td>0.0</td>\n",
       "      <td>0.0</td>\n",
       "      <td>0.0</td>\n",
       "      <td>0.0</td>\n",
       "      <td>0.0</td>\n",
       "    </tr>\n",
       "    <tr>\n",
       "      <th>3</th>\n",
       "      <td>0.0</td>\n",
       "      <td>0.0</td>\n",
       "      <td>0.0</td>\n",
       "      <td>1.0</td>\n",
       "      <td>0.0</td>\n",
       "      <td>0.0</td>\n",
       "      <td>1.0</td>\n",
       "      <td>0.0</td>\n",
       "      <td>0.0</td>\n",
       "      <td>1.0</td>\n",
       "      <td>...</td>\n",
       "      <td>0.0</td>\n",
       "      <td>0.0</td>\n",
       "      <td>0.0</td>\n",
       "      <td>0.0</td>\n",
       "      <td>0.0</td>\n",
       "      <td>0.0</td>\n",
       "      <td>0.0</td>\n",
       "      <td>0.0</td>\n",
       "      <td>0.0</td>\n",
       "      <td>0.0</td>\n",
       "    </tr>\n",
       "    <tr>\n",
       "      <th>4</th>\n",
       "      <td>0.0</td>\n",
       "      <td>0.0</td>\n",
       "      <td>0.0</td>\n",
       "      <td>1.0</td>\n",
       "      <td>0.0</td>\n",
       "      <td>0.0</td>\n",
       "      <td>1.0</td>\n",
       "      <td>0.0</td>\n",
       "      <td>0.0</td>\n",
       "      <td>1.0</td>\n",
       "      <td>...</td>\n",
       "      <td>1.0</td>\n",
       "      <td>0.0</td>\n",
       "      <td>0.0</td>\n",
       "      <td>0.0</td>\n",
       "      <td>0.0</td>\n",
       "      <td>0.0</td>\n",
       "      <td>0.0</td>\n",
       "      <td>0.0</td>\n",
       "      <td>0.0</td>\n",
       "      <td>0.0</td>\n",
       "    </tr>\n",
       "    <tr>\n",
       "      <th>5</th>\n",
       "      <td>0.0</td>\n",
       "      <td>0.0</td>\n",
       "      <td>0.0</td>\n",
       "      <td>1.0</td>\n",
       "      <td>0.0</td>\n",
       "      <td>0.0</td>\n",
       "      <td>1.0</td>\n",
       "      <td>0.0</td>\n",
       "      <td>0.0</td>\n",
       "      <td>1.0</td>\n",
       "      <td>...</td>\n",
       "      <td>0.0</td>\n",
       "      <td>0.0</td>\n",
       "      <td>0.0</td>\n",
       "      <td>0.0</td>\n",
       "      <td>0.0</td>\n",
       "      <td>0.0</td>\n",
       "      <td>0.0</td>\n",
       "      <td>0.0</td>\n",
       "      <td>0.0</td>\n",
       "      <td>0.0</td>\n",
       "    </tr>\n",
       "  </tbody>\n",
       "</table>\n",
       "<p>5 rows × 303 columns</p>\n",
       "</div>"
      ],
      "text/plain": [
       "    MSZoning_C (all)  MSZoning_FV  MSZoning_RH  MSZoning_RL  MSZoning_RM  \\\n",
       "Id                                                                         \n",
       "1                0.0          0.0          0.0          1.0          0.0   \n",
       "2                0.0          0.0          0.0          1.0          0.0   \n",
       "3                0.0          0.0          0.0          1.0          0.0   \n",
       "4                0.0          0.0          0.0          1.0          0.0   \n",
       "5                0.0          0.0          0.0          1.0          0.0   \n",
       "\n",
       "    Street_Grvl  Street_Pave  Alley_Grvl  Alley_Pave  Alley_no_alley  ...  \\\n",
       "Id                                                                    ...   \n",
       "1           0.0          1.0         0.0         0.0             1.0  ...   \n",
       "2           0.0          1.0         0.0         0.0             1.0  ...   \n",
       "3           0.0          1.0         0.0         0.0             1.0  ...   \n",
       "4           0.0          1.0         0.0         0.0             1.0  ...   \n",
       "5           0.0          1.0         0.0         0.0             1.0  ...   \n",
       "\n",
       "    MSSubClass_70  MSSubClass_75  MSSubClass_80  MSSubClass_85  MSSubClass_90  \\\n",
       "Id                                                                              \n",
       "1             0.0            0.0            0.0            0.0            0.0   \n",
       "2             0.0            0.0            0.0            0.0            0.0   \n",
       "3             0.0            0.0            0.0            0.0            0.0   \n",
       "4             1.0            0.0            0.0            0.0            0.0   \n",
       "5             0.0            0.0            0.0            0.0            0.0   \n",
       "\n",
       "    MSSubClass_120  MSSubClass_150  MSSubClass_160  MSSubClass_180  \\\n",
       "Id                                                                   \n",
       "1              0.0             0.0             0.0             0.0   \n",
       "2              0.0             0.0             0.0             0.0   \n",
       "3              0.0             0.0             0.0             0.0   \n",
       "4              0.0             0.0             0.0             0.0   \n",
       "5              0.0             0.0             0.0             0.0   \n",
       "\n",
       "    MSSubClass_190  \n",
       "Id                  \n",
       "1              0.0  \n",
       "2              0.0  \n",
       "3              0.0  \n",
       "4              0.0  \n",
       "5              0.0  \n",
       "\n",
       "[5 rows x 303 columns]"
      ]
     },
     "execution_count": 63,
     "metadata": {},
     "output_type": "execute_result"
    }
   ],
   "source": [
    "from sklearn.preprocessing import OneHotEncoder\n",
    "onehot_encoder = OneHotEncoder(sparse=False)\n",
    "\n",
    "onehot_encoder.fit(df[cat_features])\n",
    "cat_enc_cols = [f'{c}_{el}' for arr, c in zip(onehot_encoder.categories_, cat_features) for el in arr]\n",
    "\n",
    "one_frame =  pd.DataFrame(onehot_encoder.transform(df[cat_features]),\n",
    "                          columns=cat_enc_cols, index = df.index)\n",
    "one_frame.head()"
   ]
  },
  {
   "cell_type": "code",
   "execution_count": 82,
   "id": "exciting-eight",
   "metadata": {},
   "outputs": [
    {
     "data": {
      "text/html": [
       "<div>\n",
       "<style scoped>\n",
       "    .dataframe tbody tr th:only-of-type {\n",
       "        vertical-align: middle;\n",
       "    }\n",
       "\n",
       "    .dataframe tbody tr th {\n",
       "        vertical-align: top;\n",
       "    }\n",
       "\n",
       "    .dataframe thead th {\n",
       "        text-align: right;\n",
       "    }\n",
       "</style>\n",
       "<table border=\"1\" class=\"dataframe\">\n",
       "  <thead>\n",
       "    <tr style=\"text-align: right;\">\n",
       "      <th></th>\n",
       "      <th>MSSubClass</th>\n",
       "      <th>MSZoning</th>\n",
       "      <th>LotFrontage</th>\n",
       "      <th>LotArea</th>\n",
       "      <th>Street</th>\n",
       "      <th>Alley</th>\n",
       "      <th>LotShape</th>\n",
       "      <th>LandContour</th>\n",
       "      <th>Utilities</th>\n",
       "      <th>LotConfig</th>\n",
       "      <th>...</th>\n",
       "      <th>PoolQC</th>\n",
       "      <th>Fence</th>\n",
       "      <th>MiscFeature</th>\n",
       "      <th>MiscVal</th>\n",
       "      <th>MoSold</th>\n",
       "      <th>YrSold</th>\n",
       "      <th>SaleType</th>\n",
       "      <th>SaleCondition</th>\n",
       "      <th>SalePrice</th>\n",
       "      <th>train_test</th>\n",
       "    </tr>\n",
       "    <tr>\n",
       "      <th>Id</th>\n",
       "      <th></th>\n",
       "      <th></th>\n",
       "      <th></th>\n",
       "      <th></th>\n",
       "      <th></th>\n",
       "      <th></th>\n",
       "      <th></th>\n",
       "      <th></th>\n",
       "      <th></th>\n",
       "      <th></th>\n",
       "      <th></th>\n",
       "      <th></th>\n",
       "      <th></th>\n",
       "      <th></th>\n",
       "      <th></th>\n",
       "      <th></th>\n",
       "      <th></th>\n",
       "      <th></th>\n",
       "      <th></th>\n",
       "      <th></th>\n",
       "      <th></th>\n",
       "    </tr>\n",
       "  </thead>\n",
       "  <tbody>\n",
       "    <tr>\n",
       "      <th>1</th>\n",
       "      <td>60</td>\n",
       "      <td>RL</td>\n",
       "      <td>65.0</td>\n",
       "      <td>8450</td>\n",
       "      <td>Pave</td>\n",
       "      <td>no_alley</td>\n",
       "      <td>Reg</td>\n",
       "      <td>Lvl</td>\n",
       "      <td>AllPub</td>\n",
       "      <td>Inside</td>\n",
       "      <td>...</td>\n",
       "      <td>no_pool</td>\n",
       "      <td>no_fence</td>\n",
       "      <td>no_feature</td>\n",
       "      <td>0</td>\n",
       "      <td>2</td>\n",
       "      <td>2008</td>\n",
       "      <td>WD</td>\n",
       "      <td>Normal</td>\n",
       "      <td>208500.0</td>\n",
       "      <td>train</td>\n",
       "    </tr>\n",
       "    <tr>\n",
       "      <th>2</th>\n",
       "      <td>20</td>\n",
       "      <td>RL</td>\n",
       "      <td>80.0</td>\n",
       "      <td>9600</td>\n",
       "      <td>Pave</td>\n",
       "      <td>no_alley</td>\n",
       "      <td>Reg</td>\n",
       "      <td>Lvl</td>\n",
       "      <td>AllPub</td>\n",
       "      <td>FR2</td>\n",
       "      <td>...</td>\n",
       "      <td>no_pool</td>\n",
       "      <td>no_fence</td>\n",
       "      <td>no_feature</td>\n",
       "      <td>0</td>\n",
       "      <td>5</td>\n",
       "      <td>2007</td>\n",
       "      <td>WD</td>\n",
       "      <td>Normal</td>\n",
       "      <td>181500.0</td>\n",
       "      <td>train</td>\n",
       "    </tr>\n",
       "    <tr>\n",
       "      <th>3</th>\n",
       "      <td>60</td>\n",
       "      <td>RL</td>\n",
       "      <td>68.0</td>\n",
       "      <td>11250</td>\n",
       "      <td>Pave</td>\n",
       "      <td>no_alley</td>\n",
       "      <td>IR1</td>\n",
       "      <td>Lvl</td>\n",
       "      <td>AllPub</td>\n",
       "      <td>Inside</td>\n",
       "      <td>...</td>\n",
       "      <td>no_pool</td>\n",
       "      <td>no_fence</td>\n",
       "      <td>no_feature</td>\n",
       "      <td>0</td>\n",
       "      <td>9</td>\n",
       "      <td>2008</td>\n",
       "      <td>WD</td>\n",
       "      <td>Normal</td>\n",
       "      <td>223500.0</td>\n",
       "      <td>train</td>\n",
       "    </tr>\n",
       "    <tr>\n",
       "      <th>4</th>\n",
       "      <td>70</td>\n",
       "      <td>RL</td>\n",
       "      <td>60.0</td>\n",
       "      <td>9550</td>\n",
       "      <td>Pave</td>\n",
       "      <td>no_alley</td>\n",
       "      <td>IR1</td>\n",
       "      <td>Lvl</td>\n",
       "      <td>AllPub</td>\n",
       "      <td>Corner</td>\n",
       "      <td>...</td>\n",
       "      <td>no_pool</td>\n",
       "      <td>no_fence</td>\n",
       "      <td>no_feature</td>\n",
       "      <td>0</td>\n",
       "      <td>2</td>\n",
       "      <td>2006</td>\n",
       "      <td>WD</td>\n",
       "      <td>Abnorml</td>\n",
       "      <td>140000.0</td>\n",
       "      <td>train</td>\n",
       "    </tr>\n",
       "    <tr>\n",
       "      <th>5</th>\n",
       "      <td>60</td>\n",
       "      <td>RL</td>\n",
       "      <td>84.0</td>\n",
       "      <td>14260</td>\n",
       "      <td>Pave</td>\n",
       "      <td>no_alley</td>\n",
       "      <td>IR1</td>\n",
       "      <td>Lvl</td>\n",
       "      <td>AllPub</td>\n",
       "      <td>FR2</td>\n",
       "      <td>...</td>\n",
       "      <td>no_pool</td>\n",
       "      <td>no_fence</td>\n",
       "      <td>no_feature</td>\n",
       "      <td>0</td>\n",
       "      <td>12</td>\n",
       "      <td>2008</td>\n",
       "      <td>WD</td>\n",
       "      <td>Normal</td>\n",
       "      <td>250000.0</td>\n",
       "      <td>train</td>\n",
       "    </tr>\n",
       "    <tr>\n",
       "      <th>...</th>\n",
       "      <td>...</td>\n",
       "      <td>...</td>\n",
       "      <td>...</td>\n",
       "      <td>...</td>\n",
       "      <td>...</td>\n",
       "      <td>...</td>\n",
       "      <td>...</td>\n",
       "      <td>...</td>\n",
       "      <td>...</td>\n",
       "      <td>...</td>\n",
       "      <td>...</td>\n",
       "      <td>...</td>\n",
       "      <td>...</td>\n",
       "      <td>...</td>\n",
       "      <td>...</td>\n",
       "      <td>...</td>\n",
       "      <td>...</td>\n",
       "      <td>...</td>\n",
       "      <td>...</td>\n",
       "      <td>...</td>\n",
       "      <td>...</td>\n",
       "    </tr>\n",
       "    <tr>\n",
       "      <th>2915</th>\n",
       "      <td>160</td>\n",
       "      <td>RM</td>\n",
       "      <td>21.0</td>\n",
       "      <td>1936</td>\n",
       "      <td>Pave</td>\n",
       "      <td>no_alley</td>\n",
       "      <td>Reg</td>\n",
       "      <td>Lvl</td>\n",
       "      <td>AllPub</td>\n",
       "      <td>Inside</td>\n",
       "      <td>...</td>\n",
       "      <td>no_pool</td>\n",
       "      <td>no_fence</td>\n",
       "      <td>no_feature</td>\n",
       "      <td>0</td>\n",
       "      <td>6</td>\n",
       "      <td>2006</td>\n",
       "      <td>WD</td>\n",
       "      <td>Normal</td>\n",
       "      <td>NaN</td>\n",
       "      <td>test</td>\n",
       "    </tr>\n",
       "    <tr>\n",
       "      <th>2916</th>\n",
       "      <td>160</td>\n",
       "      <td>RM</td>\n",
       "      <td>21.0</td>\n",
       "      <td>1894</td>\n",
       "      <td>Pave</td>\n",
       "      <td>no_alley</td>\n",
       "      <td>Reg</td>\n",
       "      <td>Lvl</td>\n",
       "      <td>AllPub</td>\n",
       "      <td>Inside</td>\n",
       "      <td>...</td>\n",
       "      <td>no_pool</td>\n",
       "      <td>no_fence</td>\n",
       "      <td>no_feature</td>\n",
       "      <td>0</td>\n",
       "      <td>4</td>\n",
       "      <td>2006</td>\n",
       "      <td>WD</td>\n",
       "      <td>Abnorml</td>\n",
       "      <td>NaN</td>\n",
       "      <td>test</td>\n",
       "    </tr>\n",
       "    <tr>\n",
       "      <th>2917</th>\n",
       "      <td>20</td>\n",
       "      <td>RL</td>\n",
       "      <td>160.0</td>\n",
       "      <td>20000</td>\n",
       "      <td>Pave</td>\n",
       "      <td>no_alley</td>\n",
       "      <td>Reg</td>\n",
       "      <td>Lvl</td>\n",
       "      <td>AllPub</td>\n",
       "      <td>Inside</td>\n",
       "      <td>...</td>\n",
       "      <td>no_pool</td>\n",
       "      <td>no_fence</td>\n",
       "      <td>no_feature</td>\n",
       "      <td>0</td>\n",
       "      <td>9</td>\n",
       "      <td>2006</td>\n",
       "      <td>WD</td>\n",
       "      <td>Abnorml</td>\n",
       "      <td>NaN</td>\n",
       "      <td>test</td>\n",
       "    </tr>\n",
       "    <tr>\n",
       "      <th>2918</th>\n",
       "      <td>85</td>\n",
       "      <td>RL</td>\n",
       "      <td>62.0</td>\n",
       "      <td>10441</td>\n",
       "      <td>Pave</td>\n",
       "      <td>no_alley</td>\n",
       "      <td>Reg</td>\n",
       "      <td>Lvl</td>\n",
       "      <td>AllPub</td>\n",
       "      <td>Inside</td>\n",
       "      <td>...</td>\n",
       "      <td>no_pool</td>\n",
       "      <td>MnPrv</td>\n",
       "      <td>Shed</td>\n",
       "      <td>700</td>\n",
       "      <td>7</td>\n",
       "      <td>2006</td>\n",
       "      <td>WD</td>\n",
       "      <td>Normal</td>\n",
       "      <td>NaN</td>\n",
       "      <td>test</td>\n",
       "    </tr>\n",
       "    <tr>\n",
       "      <th>2919</th>\n",
       "      <td>60</td>\n",
       "      <td>RL</td>\n",
       "      <td>74.0</td>\n",
       "      <td>9627</td>\n",
       "      <td>Pave</td>\n",
       "      <td>no_alley</td>\n",
       "      <td>Reg</td>\n",
       "      <td>Lvl</td>\n",
       "      <td>AllPub</td>\n",
       "      <td>Inside</td>\n",
       "      <td>...</td>\n",
       "      <td>no_pool</td>\n",
       "      <td>no_fence</td>\n",
       "      <td>no_feature</td>\n",
       "      <td>0</td>\n",
       "      <td>11</td>\n",
       "      <td>2006</td>\n",
       "      <td>WD</td>\n",
       "      <td>Normal</td>\n",
       "      <td>NaN</td>\n",
       "      <td>test</td>\n",
       "    </tr>\n",
       "  </tbody>\n",
       "</table>\n",
       "<p>2919 rows × 81 columns</p>\n",
       "</div>"
      ],
      "text/plain": [
       "      MSSubClass MSZoning  LotFrontage  LotArea Street     Alley LotShape  \\\n",
       "Id                                                                          \n",
       "1             60       RL         65.0     8450   Pave  no_alley      Reg   \n",
       "2             20       RL         80.0     9600   Pave  no_alley      Reg   \n",
       "3             60       RL         68.0    11250   Pave  no_alley      IR1   \n",
       "4             70       RL         60.0     9550   Pave  no_alley      IR1   \n",
       "5             60       RL         84.0    14260   Pave  no_alley      IR1   \n",
       "...          ...      ...          ...      ...    ...       ...      ...   \n",
       "2915         160       RM         21.0     1936   Pave  no_alley      Reg   \n",
       "2916         160       RM         21.0     1894   Pave  no_alley      Reg   \n",
       "2917          20       RL        160.0    20000   Pave  no_alley      Reg   \n",
       "2918          85       RL         62.0    10441   Pave  no_alley      Reg   \n",
       "2919          60       RL         74.0     9627   Pave  no_alley      Reg   \n",
       "\n",
       "     LandContour Utilities LotConfig  ...   PoolQC     Fence MiscFeature  \\\n",
       "Id                                    ...                                  \n",
       "1            Lvl    AllPub    Inside  ...  no_pool  no_fence  no_feature   \n",
       "2            Lvl    AllPub       FR2  ...  no_pool  no_fence  no_feature   \n",
       "3            Lvl    AllPub    Inside  ...  no_pool  no_fence  no_feature   \n",
       "4            Lvl    AllPub    Corner  ...  no_pool  no_fence  no_feature   \n",
       "5            Lvl    AllPub       FR2  ...  no_pool  no_fence  no_feature   \n",
       "...          ...       ...       ...  ...      ...       ...         ...   \n",
       "2915         Lvl    AllPub    Inside  ...  no_pool  no_fence  no_feature   \n",
       "2916         Lvl    AllPub    Inside  ...  no_pool  no_fence  no_feature   \n",
       "2917         Lvl    AllPub    Inside  ...  no_pool  no_fence  no_feature   \n",
       "2918         Lvl    AllPub    Inside  ...  no_pool     MnPrv        Shed   \n",
       "2919         Lvl    AllPub    Inside  ...  no_pool  no_fence  no_feature   \n",
       "\n",
       "     MiscVal MoSold YrSold  SaleType  SaleCondition  SalePrice  train_test  \n",
       "Id                                                                          \n",
       "1          0      2   2008        WD         Normal   208500.0       train  \n",
       "2          0      5   2007        WD         Normal   181500.0       train  \n",
       "3          0      9   2008        WD         Normal   223500.0       train  \n",
       "4          0      2   2006        WD        Abnorml   140000.0       train  \n",
       "5          0     12   2008        WD         Normal   250000.0       train  \n",
       "...      ...    ...    ...       ...            ...        ...         ...  \n",
       "2915       0      6   2006        WD         Normal        NaN        test  \n",
       "2916       0      4   2006        WD        Abnorml        NaN        test  \n",
       "2917       0      9   2006        WD        Abnorml        NaN        test  \n",
       "2918     700      7   2006        WD         Normal        NaN        test  \n",
       "2919       0     11   2006        WD         Normal        NaN        test  \n",
       "\n",
       "[2919 rows x 81 columns]"
      ]
     },
     "execution_count": 82,
     "metadata": {},
     "output_type": "execute_result"
    }
   ],
   "source": [
    "features = features+cat_enc_cols"
   ]
  },
  {
   "cell_type": "code",
   "execution_count": 65,
   "id": "certain-poster",
   "metadata": {},
   "outputs": [],
   "source": [
    "df_all = pd.merge(df, one_frame, on = 'Id')"
   ]
  },
  {
   "cell_type": "code",
   "execution_count": 66,
   "id": "blocked-culture",
   "metadata": {},
   "outputs": [
    {
     "data": {
      "text/plain": [
       "Index(['MSSubClass', 'MSZoning', 'LotFrontage', 'LotArea', 'Street', 'Alley',\n",
       "       'LotShape', 'LandContour', 'Utilities', 'LotConfig', 'LandSlope',\n",
       "       'Neighborhood', 'Condition1', 'Condition2', 'BldgType', 'HouseStyle',\n",
       "       'OverallQual', 'OverallCond', 'YearBuilt', 'YearRemodAdd', 'RoofStyle',\n",
       "       'RoofMatl', 'Exterior1st', 'Exterior2nd', 'MasVnrType', 'MasVnrArea',\n",
       "       'ExterQual', 'ExterCond', 'Foundation', 'BsmtQual', 'BsmtCond',\n",
       "       'BsmtExposure', 'BsmtFinType1', 'BsmtFinSF1', 'BsmtFinType2',\n",
       "       'BsmtFinSF2', 'BsmtUnfSF', 'TotalBsmtSF', 'Heating', 'HeatingQC',\n",
       "       'CentralAir', 'Electrical', '1stFlrSF', '2ndFlrSF', 'LowQualFinSF',\n",
       "       'GrLivArea', 'BsmtFullBath', 'BsmtHalfBath', 'FullBath', 'HalfBath',\n",
       "       'BedroomAbvGr', 'KitchenAbvGr', 'KitchenQual', 'TotRmsAbvGrd',\n",
       "       'Functional', 'Fireplaces', 'FireplaceQu', 'GarageType', 'GarageYrBlt',\n",
       "       'GarageFinish', 'GarageCars', 'GarageArea', 'GarageQual', 'GarageCond',\n",
       "       'PavedDrive', 'WoodDeckSF', 'OpenPorchSF', 'EnclosedPorch', '3SsnPorch',\n",
       "       'ScreenPorch', 'PoolArea', 'PoolQC', 'Fence', 'MiscFeature', 'MiscVal',\n",
       "       'MoSold', 'YrSold', 'SaleType', 'SaleCondition', 'SalePrice',\n",
       "       'train_test'],\n",
       "      dtype='object')"
      ]
     },
     "execution_count": 66,
     "metadata": {},
     "output_type": "execute_result"
    }
   ],
   "source": [
    "df_train.columns"
   ]
  },
  {
   "cell_type": "code",
   "execution_count": 67,
   "id": "inappropriate-annex",
   "metadata": {},
   "outputs": [],
   "source": [
    "df_train = df_all[df_all['train_test']=='train']\n",
    "df_test = df_all[df_all['train_test']=='test']"
   ]
  },
  {
   "cell_type": "code",
   "execution_count": 68,
   "id": "qualified-document",
   "metadata": {},
   "outputs": [
    {
     "data": {
      "text/plain": [
       "Id\n",
       "1       208500.0\n",
       "2       181500.0\n",
       "3       223500.0\n",
       "4       140000.0\n",
       "5       250000.0\n",
       "          ...   \n",
       "1456    175000.0\n",
       "1457    210000.0\n",
       "1458    266500.0\n",
       "1459    142125.0\n",
       "1460    147500.0\n",
       "Name: SalePrice, Length: 1460, dtype: float64"
      ]
     },
     "execution_count": 68,
     "metadata": {},
     "output_type": "execute_result"
    }
   ],
   "source": [
    "target = df_train['SalePrice']\n",
    "x, y = df_train[features].to_numpy(), target.to_numpy()\n",
    "target"
   ]
  },
  {
   "cell_type": "code",
   "execution_count": 69,
   "id": "anonymous-transportation",
   "metadata": {},
   "outputs": [
    {
     "data": {
      "text/plain": [
       "((1022, 335), (438, 335), (1022,), (438,))"
      ]
     },
     "execution_count": 69,
     "metadata": {},
     "output_type": "execute_result"
    }
   ],
   "source": [
    "x_train, x_test, y_train, y_test = train_test_split(x, y, test_size=.3, random_state=1)\n",
    "x_train.shape,  x_test.shape, y_train.shape, y_test.shape"
   ]
  },
  {
   "cell_type": "code",
   "execution_count": 70,
   "id": "introductory-composer",
   "metadata": {},
   "outputs": [],
   "source": [
    "#Normalizaton\n",
    "from sklearn.preprocessing import StandardScaler\n",
    "scaler = StandardScaler()\n",
    "x_train_norm = scaler.fit_transform(x_train)\n",
    "x_test_norm = scaler.transform(x_test)"
   ]
  },
  {
   "cell_type": "code",
   "execution_count": 71,
   "id": "loving-elite",
   "metadata": {},
   "outputs": [],
   "source": [
    "# Grid search + cross validation\n",
    "\n",
    "from sklearn.model_selection import GridSearchCV\n",
    "from sklearn.ensemble import GradientBoostingRegressor \n",
    "from sklearn.metrics import mean_squared_error, r2_score\n",
    "from sklearn.metrics import make_scorer, mean_squared_log_error\n",
    "\n",
    "# создаем объект, не задавая параметры. Можно задать параметры, которые не будет изменяться при GS\n",
    "GBR = GradientBoostingRegressor()\n",
    "\n",
    "# будут рассмотрены все возможные комбинаци этих значений\n",
    "param_grid = {\n",
    "    'loss': ['ls', 'lad','huber'],\n",
    "    'learning_rate': [0.2, 0.3, 0.5],\n",
    "    'n_estimators': [8, 10,12,20],\n",
    "    'max_depth': [6,5, 8],\n",
    "    'max_leaf_nodes': [35,40,45, None],\n",
    "    'max_features':['log2', 'sqrt'],\n",
    "    'tol':[0.01,0.1, 1, 0.0001]\n",
    "}\n",
    "\n",
    "\n",
    "# создаем объект\n",
    "cv = GridSearchCV(\n",
    "    estimator=GBR,\n",
    "    param_grid=param_grid,\n",
    "    scoring = make_scorer(lambda t,p: mean_squared_log_error(t,p)**.5, greater_is_better=False), # метрика, которую будем *максимизировать*\n",
    "    return_train_score= True,\n",
    "    #refit= make_scorer(lambda t,p: mean_squared_log_error(t,p)**.5, greater_is_better=False),\n",
    "    cv=12, # количество фолдов\n",
    "    verbose=4, # сколько печатать сообщений\n",
    "    n_jobs=-1, # насколько параллелельно считаем\n",
    ")"
   ]
  },
  {
   "cell_type": "code",
   "execution_count": 72,
   "id": "swiss-spray",
   "metadata": {},
   "outputs": [
    {
     "name": "stdout",
     "output_type": "stream",
     "text": [
      "Fitting 12 folds for each of 3456 candidates, totalling 41472 fits\n"
     ]
    },
    {
     "ename": "KeyboardInterrupt",
     "evalue": "",
     "output_type": "error",
     "traceback": [
      "\u001b[0;31m---------------------------------------------------------------------------\u001b[0m",
      "\u001b[0;31mKeyboardInterrupt\u001b[0m                         Traceback (most recent call last)",
      "\u001b[0;32m<ipython-input-72-0109d85e530f>\u001b[0m in \u001b[0;36m<module>\u001b[0;34m\u001b[0m\n\u001b[0;32m----> 1\u001b[0;31m \u001b[0mcv\u001b[0m\u001b[0;34m.\u001b[0m\u001b[0mfit\u001b[0m\u001b[0;34m(\u001b[0m\u001b[0mx_train_norm\u001b[0m\u001b[0;34m,\u001b[0m \u001b[0my_train\u001b[0m\u001b[0;34m)\u001b[0m\u001b[0;34m\u001b[0m\u001b[0;34m\u001b[0m\u001b[0m\n\u001b[0m",
      "\u001b[0;32m/opt/anaconda3/lib/python3.7/site-packages/sklearn/utils/validation.py\u001b[0m in \u001b[0;36minner_f\u001b[0;34m(*args, **kwargs)\u001b[0m\n\u001b[1;32m     61\u001b[0m             \u001b[0mextra_args\u001b[0m \u001b[0;34m=\u001b[0m \u001b[0mlen\u001b[0m\u001b[0;34m(\u001b[0m\u001b[0margs\u001b[0m\u001b[0;34m)\u001b[0m \u001b[0;34m-\u001b[0m \u001b[0mlen\u001b[0m\u001b[0;34m(\u001b[0m\u001b[0mall_args\u001b[0m\u001b[0;34m)\u001b[0m\u001b[0;34m\u001b[0m\u001b[0;34m\u001b[0m\u001b[0m\n\u001b[1;32m     62\u001b[0m             \u001b[0;32mif\u001b[0m \u001b[0mextra_args\u001b[0m \u001b[0;34m<=\u001b[0m \u001b[0;36m0\u001b[0m\u001b[0;34m:\u001b[0m\u001b[0;34m\u001b[0m\u001b[0;34m\u001b[0m\u001b[0m\n\u001b[0;32m---> 63\u001b[0;31m                 \u001b[0;32mreturn\u001b[0m \u001b[0mf\u001b[0m\u001b[0;34m(\u001b[0m\u001b[0;34m*\u001b[0m\u001b[0margs\u001b[0m\u001b[0;34m,\u001b[0m \u001b[0;34m**\u001b[0m\u001b[0mkwargs\u001b[0m\u001b[0;34m)\u001b[0m\u001b[0;34m\u001b[0m\u001b[0;34m\u001b[0m\u001b[0m\n\u001b[0m\u001b[1;32m     64\u001b[0m \u001b[0;34m\u001b[0m\u001b[0m\n\u001b[1;32m     65\u001b[0m             \u001b[0;31m# extra_args > 0\u001b[0m\u001b[0;34m\u001b[0m\u001b[0;34m\u001b[0m\u001b[0;34m\u001b[0m\u001b[0m\n",
      "\u001b[0;32m/opt/anaconda3/lib/python3.7/site-packages/sklearn/model_selection/_search.py\u001b[0m in \u001b[0;36mfit\u001b[0;34m(self, X, y, groups, **fit_params)\u001b[0m\n\u001b[1;32m    839\u001b[0m                 \u001b[0;32mreturn\u001b[0m \u001b[0mresults\u001b[0m\u001b[0;34m\u001b[0m\u001b[0;34m\u001b[0m\u001b[0m\n\u001b[1;32m    840\u001b[0m \u001b[0;34m\u001b[0m\u001b[0m\n\u001b[0;32m--> 841\u001b[0;31m             \u001b[0mself\u001b[0m\u001b[0;34m.\u001b[0m\u001b[0m_run_search\u001b[0m\u001b[0;34m(\u001b[0m\u001b[0mevaluate_candidates\u001b[0m\u001b[0;34m)\u001b[0m\u001b[0;34m\u001b[0m\u001b[0;34m\u001b[0m\u001b[0m\n\u001b[0m\u001b[1;32m    842\u001b[0m \u001b[0;34m\u001b[0m\u001b[0m\n\u001b[1;32m    843\u001b[0m             \u001b[0;31m# multimetric is determined here because in the case of a callable\u001b[0m\u001b[0;34m\u001b[0m\u001b[0;34m\u001b[0m\u001b[0;34m\u001b[0m\u001b[0m\n",
      "\u001b[0;32m/opt/anaconda3/lib/python3.7/site-packages/sklearn/model_selection/_search.py\u001b[0m in \u001b[0;36m_run_search\u001b[0;34m(self, evaluate_candidates)\u001b[0m\n\u001b[1;32m   1286\u001b[0m     \u001b[0;32mdef\u001b[0m \u001b[0m_run_search\u001b[0m\u001b[0;34m(\u001b[0m\u001b[0mself\u001b[0m\u001b[0;34m,\u001b[0m \u001b[0mevaluate_candidates\u001b[0m\u001b[0;34m)\u001b[0m\u001b[0;34m:\u001b[0m\u001b[0;34m\u001b[0m\u001b[0;34m\u001b[0m\u001b[0m\n\u001b[1;32m   1287\u001b[0m         \u001b[0;34m\"\"\"Search all candidates in param_grid\"\"\"\u001b[0m\u001b[0;34m\u001b[0m\u001b[0;34m\u001b[0m\u001b[0m\n\u001b[0;32m-> 1288\u001b[0;31m         \u001b[0mevaluate_candidates\u001b[0m\u001b[0;34m(\u001b[0m\u001b[0mParameterGrid\u001b[0m\u001b[0;34m(\u001b[0m\u001b[0mself\u001b[0m\u001b[0;34m.\u001b[0m\u001b[0mparam_grid\u001b[0m\u001b[0;34m)\u001b[0m\u001b[0;34m)\u001b[0m\u001b[0;34m\u001b[0m\u001b[0;34m\u001b[0m\u001b[0m\n\u001b[0m\u001b[1;32m   1289\u001b[0m \u001b[0;34m\u001b[0m\u001b[0m\n\u001b[1;32m   1290\u001b[0m \u001b[0;34m\u001b[0m\u001b[0m\n",
      "\u001b[0;32m/opt/anaconda3/lib/python3.7/site-packages/sklearn/model_selection/_search.py\u001b[0m in \u001b[0;36mevaluate_candidates\u001b[0;34m(candidate_params, cv, more_results)\u001b[0m\n\u001b[1;32m    807\u001b[0m                                    (split_idx, (train, test)) in product(\n\u001b[1;32m    808\u001b[0m                                    \u001b[0menumerate\u001b[0m\u001b[0;34m(\u001b[0m\u001b[0mcandidate_params\u001b[0m\u001b[0;34m)\u001b[0m\u001b[0;34m,\u001b[0m\u001b[0;34m\u001b[0m\u001b[0;34m\u001b[0m\u001b[0m\n\u001b[0;32m--> 809\u001b[0;31m                                    enumerate(cv.split(X, y, groups))))\n\u001b[0m\u001b[1;32m    810\u001b[0m \u001b[0;34m\u001b[0m\u001b[0m\n\u001b[1;32m    811\u001b[0m                 \u001b[0;32mif\u001b[0m \u001b[0mlen\u001b[0m\u001b[0;34m(\u001b[0m\u001b[0mout\u001b[0m\u001b[0;34m)\u001b[0m \u001b[0;34m<\u001b[0m \u001b[0;36m1\u001b[0m\u001b[0;34m:\u001b[0m\u001b[0;34m\u001b[0m\u001b[0;34m\u001b[0m\u001b[0m\n",
      "\u001b[0;32m/opt/anaconda3/lib/python3.7/site-packages/joblib/parallel.py\u001b[0m in \u001b[0;36m__call__\u001b[0;34m(self, iterable)\u001b[0m\n\u001b[1;32m   1052\u001b[0m \u001b[0;34m\u001b[0m\u001b[0m\n\u001b[1;32m   1053\u001b[0m             \u001b[0;32mwith\u001b[0m \u001b[0mself\u001b[0m\u001b[0;34m.\u001b[0m\u001b[0m_backend\u001b[0m\u001b[0;34m.\u001b[0m\u001b[0mretrieval_context\u001b[0m\u001b[0;34m(\u001b[0m\u001b[0;34m)\u001b[0m\u001b[0;34m:\u001b[0m\u001b[0;34m\u001b[0m\u001b[0;34m\u001b[0m\u001b[0m\n\u001b[0;32m-> 1054\u001b[0;31m                 \u001b[0mself\u001b[0m\u001b[0;34m.\u001b[0m\u001b[0mretrieve\u001b[0m\u001b[0;34m(\u001b[0m\u001b[0;34m)\u001b[0m\u001b[0;34m\u001b[0m\u001b[0;34m\u001b[0m\u001b[0m\n\u001b[0m\u001b[1;32m   1055\u001b[0m             \u001b[0;31m# Make sure that we get a last message telling us we are done\u001b[0m\u001b[0;34m\u001b[0m\u001b[0;34m\u001b[0m\u001b[0;34m\u001b[0m\u001b[0m\n\u001b[1;32m   1056\u001b[0m             \u001b[0melapsed_time\u001b[0m \u001b[0;34m=\u001b[0m \u001b[0mtime\u001b[0m\u001b[0;34m.\u001b[0m\u001b[0mtime\u001b[0m\u001b[0;34m(\u001b[0m\u001b[0;34m)\u001b[0m \u001b[0;34m-\u001b[0m \u001b[0mself\u001b[0m\u001b[0;34m.\u001b[0m\u001b[0m_start_time\u001b[0m\u001b[0;34m\u001b[0m\u001b[0;34m\u001b[0m\u001b[0m\n",
      "\u001b[0;32m/opt/anaconda3/lib/python3.7/site-packages/joblib/parallel.py\u001b[0m in \u001b[0;36mretrieve\u001b[0;34m(self)\u001b[0m\n\u001b[1;32m    931\u001b[0m             \u001b[0;32mtry\u001b[0m\u001b[0;34m:\u001b[0m\u001b[0;34m\u001b[0m\u001b[0;34m\u001b[0m\u001b[0m\n\u001b[1;32m    932\u001b[0m                 \u001b[0;32mif\u001b[0m \u001b[0mgetattr\u001b[0m\u001b[0;34m(\u001b[0m\u001b[0mself\u001b[0m\u001b[0;34m.\u001b[0m\u001b[0m_backend\u001b[0m\u001b[0;34m,\u001b[0m \u001b[0;34m'supports_timeout'\u001b[0m\u001b[0;34m,\u001b[0m \u001b[0;32mFalse\u001b[0m\u001b[0;34m)\u001b[0m\u001b[0;34m:\u001b[0m\u001b[0;34m\u001b[0m\u001b[0;34m\u001b[0m\u001b[0m\n\u001b[0;32m--> 933\u001b[0;31m                     \u001b[0mself\u001b[0m\u001b[0;34m.\u001b[0m\u001b[0m_output\u001b[0m\u001b[0;34m.\u001b[0m\u001b[0mextend\u001b[0m\u001b[0;34m(\u001b[0m\u001b[0mjob\u001b[0m\u001b[0;34m.\u001b[0m\u001b[0mget\u001b[0m\u001b[0;34m(\u001b[0m\u001b[0mtimeout\u001b[0m\u001b[0;34m=\u001b[0m\u001b[0mself\u001b[0m\u001b[0;34m.\u001b[0m\u001b[0mtimeout\u001b[0m\u001b[0;34m)\u001b[0m\u001b[0;34m)\u001b[0m\u001b[0;34m\u001b[0m\u001b[0;34m\u001b[0m\u001b[0m\n\u001b[0m\u001b[1;32m    934\u001b[0m                 \u001b[0;32melse\u001b[0m\u001b[0;34m:\u001b[0m\u001b[0;34m\u001b[0m\u001b[0;34m\u001b[0m\u001b[0m\n\u001b[1;32m    935\u001b[0m                     \u001b[0mself\u001b[0m\u001b[0;34m.\u001b[0m\u001b[0m_output\u001b[0m\u001b[0;34m.\u001b[0m\u001b[0mextend\u001b[0m\u001b[0;34m(\u001b[0m\u001b[0mjob\u001b[0m\u001b[0;34m.\u001b[0m\u001b[0mget\u001b[0m\u001b[0;34m(\u001b[0m\u001b[0;34m)\u001b[0m\u001b[0;34m)\u001b[0m\u001b[0;34m\u001b[0m\u001b[0;34m\u001b[0m\u001b[0m\n",
      "\u001b[0;32m/opt/anaconda3/lib/python3.7/site-packages/joblib/_parallel_backends.py\u001b[0m in \u001b[0;36mwrap_future_result\u001b[0;34m(future, timeout)\u001b[0m\n\u001b[1;32m    540\u001b[0m         AsyncResults.get from multiprocessing.\"\"\"\n\u001b[1;32m    541\u001b[0m         \u001b[0;32mtry\u001b[0m\u001b[0;34m:\u001b[0m\u001b[0;34m\u001b[0m\u001b[0;34m\u001b[0m\u001b[0m\n\u001b[0;32m--> 542\u001b[0;31m             \u001b[0;32mreturn\u001b[0m \u001b[0mfuture\u001b[0m\u001b[0;34m.\u001b[0m\u001b[0mresult\u001b[0m\u001b[0;34m(\u001b[0m\u001b[0mtimeout\u001b[0m\u001b[0;34m=\u001b[0m\u001b[0mtimeout\u001b[0m\u001b[0;34m)\u001b[0m\u001b[0;34m\u001b[0m\u001b[0;34m\u001b[0m\u001b[0m\n\u001b[0m\u001b[1;32m    543\u001b[0m         \u001b[0;32mexcept\u001b[0m \u001b[0mCfTimeoutError\u001b[0m \u001b[0;32mas\u001b[0m \u001b[0me\u001b[0m\u001b[0;34m:\u001b[0m\u001b[0;34m\u001b[0m\u001b[0;34m\u001b[0m\u001b[0m\n\u001b[1;32m    544\u001b[0m             \u001b[0;32mraise\u001b[0m \u001b[0mTimeoutError\u001b[0m \u001b[0;32mfrom\u001b[0m \u001b[0me\u001b[0m\u001b[0;34m\u001b[0m\u001b[0;34m\u001b[0m\u001b[0m\n",
      "\u001b[0;32m/opt/anaconda3/lib/python3.7/concurrent/futures/_base.py\u001b[0m in \u001b[0;36mresult\u001b[0;34m(self, timeout)\u001b[0m\n\u001b[1;32m    428\u001b[0m                 \u001b[0;32mreturn\u001b[0m \u001b[0mself\u001b[0m\u001b[0;34m.\u001b[0m\u001b[0m__get_result\u001b[0m\u001b[0;34m(\u001b[0m\u001b[0;34m)\u001b[0m\u001b[0;34m\u001b[0m\u001b[0;34m\u001b[0m\u001b[0m\n\u001b[1;32m    429\u001b[0m \u001b[0;34m\u001b[0m\u001b[0m\n\u001b[0;32m--> 430\u001b[0;31m             \u001b[0mself\u001b[0m\u001b[0;34m.\u001b[0m\u001b[0m_condition\u001b[0m\u001b[0;34m.\u001b[0m\u001b[0mwait\u001b[0m\u001b[0;34m(\u001b[0m\u001b[0mtimeout\u001b[0m\u001b[0;34m)\u001b[0m\u001b[0;34m\u001b[0m\u001b[0;34m\u001b[0m\u001b[0m\n\u001b[0m\u001b[1;32m    431\u001b[0m \u001b[0;34m\u001b[0m\u001b[0m\n\u001b[1;32m    432\u001b[0m             \u001b[0;32mif\u001b[0m \u001b[0mself\u001b[0m\u001b[0;34m.\u001b[0m\u001b[0m_state\u001b[0m \u001b[0;32min\u001b[0m \u001b[0;34m[\u001b[0m\u001b[0mCANCELLED\u001b[0m\u001b[0;34m,\u001b[0m \u001b[0mCANCELLED_AND_NOTIFIED\u001b[0m\u001b[0;34m]\u001b[0m\u001b[0;34m:\u001b[0m\u001b[0;34m\u001b[0m\u001b[0;34m\u001b[0m\u001b[0m\n",
      "\u001b[0;32m/opt/anaconda3/lib/python3.7/threading.py\u001b[0m in \u001b[0;36mwait\u001b[0;34m(self, timeout)\u001b[0m\n\u001b[1;32m    294\u001b[0m         \u001b[0;32mtry\u001b[0m\u001b[0;34m:\u001b[0m    \u001b[0;31m# restore state no matter what (e.g., KeyboardInterrupt)\u001b[0m\u001b[0;34m\u001b[0m\u001b[0;34m\u001b[0m\u001b[0m\n\u001b[1;32m    295\u001b[0m             \u001b[0;32mif\u001b[0m \u001b[0mtimeout\u001b[0m \u001b[0;32mis\u001b[0m \u001b[0;32mNone\u001b[0m\u001b[0;34m:\u001b[0m\u001b[0;34m\u001b[0m\u001b[0;34m\u001b[0m\u001b[0m\n\u001b[0;32m--> 296\u001b[0;31m                 \u001b[0mwaiter\u001b[0m\u001b[0;34m.\u001b[0m\u001b[0macquire\u001b[0m\u001b[0;34m(\u001b[0m\u001b[0;34m)\u001b[0m\u001b[0;34m\u001b[0m\u001b[0;34m\u001b[0m\u001b[0m\n\u001b[0m\u001b[1;32m    297\u001b[0m                 \u001b[0mgotit\u001b[0m \u001b[0;34m=\u001b[0m \u001b[0;32mTrue\u001b[0m\u001b[0;34m\u001b[0m\u001b[0;34m\u001b[0m\u001b[0m\n\u001b[1;32m    298\u001b[0m             \u001b[0;32melse\u001b[0m\u001b[0;34m:\u001b[0m\u001b[0;34m\u001b[0m\u001b[0;34m\u001b[0m\u001b[0m\n",
      "\u001b[0;31mKeyboardInterrupt\u001b[0m: "
     ]
    }
   ],
   "source": [
    "cv.fit(x_train_norm, y_train)"
   ]
  },
  {
   "cell_type": "code",
   "execution_count": null,
   "id": "handled-paraguay",
   "metadata": {},
   "outputs": [],
   "source": [
    "cv.best_params_, cv.best_score_"
   ]
  },
  {
   "cell_type": "code",
   "execution_count": null,
   "id": "raising-demand",
   "metadata": {},
   "outputs": [],
   "source": [
    "cv.best_estimator_, cv.best_estimator_.predict"
   ]
  },
  {
   "cell_type": "code",
   "execution_count": null,
   "id": "constant-suite",
   "metadata": {},
   "outputs": [],
   "source": [
    "cv.best_estimator_.fit(x_train_norm,y_train)"
   ]
  },
  {
   "cell_type": "code",
   "execution_count": null,
   "id": "prerequisite-ebony",
   "metadata": {},
   "outputs": [],
   "source": [
    "print(f'''\n",
    "    Score:\n",
    "    train {mean_squared_log_error(y_train, cv.best_estimator_.predict(x_train))**.5 :.2f}\n",
    "    test {mean_squared_log_error(y_test, cv.best_estimator_.predict(x_test))**.5 :.2f}  \n",
    "''')\n"
   ]
  },
  {
   "cell_type": "markdown",
   "id": "specialized-birthday",
   "metadata": {},
   "source": [
    "# Kaggle"
   ]
  },
  {
   "cell_type": "code",
   "execution_count": null,
   "id": "russian-habitat",
   "metadata": {},
   "outputs": [],
   "source": [
    "x_test_kag = df_test[features].to_numpy()\n",
    "x_test_test_norm = scaler.transform(x_test_kag)"
   ]
  },
  {
   "cell_type": "code",
   "execution_count": null,
   "id": "banned-daniel",
   "metadata": {},
   "outputs": [],
   "source": [
    "cv.best_estimator_.predict(x_test_test_norm)"
   ]
  },
  {
   "cell_type": "code",
   "execution_count": null,
   "id": "colored-establishment",
   "metadata": {},
   "outputs": [],
   "source": [
    "df_sample['SalePrice'] = cv.best_estimator_.predict(x_test_test_norm)"
   ]
  },
  {
   "cell_type": "code",
   "execution_count": null,
   "id": "musical-september",
   "metadata": {},
   "outputs": [],
   "source": [
    "#df_sample.to_csv('house_prices_kag1.csv',columns = ['Id','SalePrice'],index=False)"
   ]
  },
  {
   "cell_type": "markdown",
   "id": "invalid-float",
   "metadata": {},
   "source": [
    "# knn"
   ]
  },
  {
   "cell_type": "code",
   "execution_count": 73,
   "id": "swiss-binding",
   "metadata": {},
   "outputs": [],
   "source": [
    "# Grid search + cross validation\n",
    "from sklearn.model_selection import GridSearchCV\n",
    "from sklearn.neighbors import KNeighborsRegressor\n",
    "# создаем объект, не задавая параметры. Можно задать параметры, которые не будет изменяться при GS\n",
    "KNR = KNeighborsRegressor( )\n",
    "\n",
    "# будут рассмотрены все возможные комбинаци этих значений\n",
    "param_grid = {\n",
    "    'n_neighbors': [3,5,7,11],\n",
    "    'p': [1,2,3],\n",
    "    'weights': ['uniform', 'distance'],\n",
    "    'leaf_size':[9, 10, 12] \n",
    "}\n",
    "\n",
    "# создаем объект\n",
    "cv_knn = GridSearchCV(\n",
    "    estimator = KNR, \n",
    "    param_grid = param_grid,\n",
    "    scoring = make_scorer(lambda t,p: mean_squared_log_error(t,p)**.5, greater_is_better=False), # метрика, которую будем *максимизировать*\n",
    "    return_train_score= True,\n",
    "    cv=5, #кол-во фолдов\n",
    "    verbose = 4,\n",
    "    n_jobs = -1 # насколько параллелельно считаем,\n",
    "    #refit=True\n",
    "    )"
   ]
  },
  {
   "cell_type": "code",
   "execution_count": 74,
   "id": "terminal-motel",
   "metadata": {},
   "outputs": [
    {
     "name": "stdout",
     "output_type": "stream",
     "text": [
      "Fitting 5 folds for each of 72 candidates, totalling 360 fits\n"
     ]
    },
    {
     "data": {
      "text/plain": [
       "GridSearchCV(cv=5, estimator=KNeighborsRegressor(), n_jobs=-1,\n",
       "             param_grid={'leaf_size': [9, 10, 12], 'n_neighbors': [3, 5, 7, 11],\n",
       "                         'p': [1, 2, 3], 'weights': ['uniform', 'distance']},\n",
       "             return_train_score=True,\n",
       "             scoring=make_scorer(<lambda>, greater_is_better=False), verbose=4)"
      ]
     },
     "execution_count": 74,
     "metadata": {},
     "output_type": "execute_result"
    }
   ],
   "source": [
    "cv_knn.fit(x_train_norm, y_train)"
   ]
  },
  {
   "cell_type": "code",
   "execution_count": 75,
   "id": "extra-budget",
   "metadata": {},
   "outputs": [
    {
     "data": {
      "text/plain": [
       "({'leaf_size': 9, 'n_neighbors': 5, 'p': 1, 'weights': 'distance'},\n",
       " -0.1789187919722896)"
      ]
     },
     "execution_count": 75,
     "metadata": {},
     "output_type": "execute_result"
    }
   ],
   "source": [
    "cv_knn.best_params_, cv_knn.best_score_"
   ]
  },
  {
   "cell_type": "code",
   "execution_count": 76,
   "id": "cardiovascular-heater",
   "metadata": {},
   "outputs": [
    {
     "data": {
      "text/plain": [
       "(KNeighborsRegressor(leaf_size=9, p=1, weights='distance'),\n",
       " <bound method KNeighborsRegressor.predict of KNeighborsRegressor(leaf_size=9, p=1, weights='distance')>)"
      ]
     },
     "execution_count": 76,
     "metadata": {},
     "output_type": "execute_result"
    }
   ],
   "source": [
    "cv_knn.best_estimator_, cv_knn.best_estimator_.predict"
   ]
  },
  {
   "cell_type": "code",
   "execution_count": 77,
   "id": "artistic-firmware",
   "metadata": {},
   "outputs": [
    {
     "data": {
      "text/plain": [
       "KNeighborsRegressor(leaf_size=9, p=1, weights='distance')"
      ]
     },
     "execution_count": 77,
     "metadata": {},
     "output_type": "execute_result"
    }
   ],
   "source": [
    "cv_knn.best_estimator_.fit(x_train_norm,y_train)"
   ]
  },
  {
   "cell_type": "code",
   "execution_count": 78,
   "id": "electronic-estate",
   "metadata": {},
   "outputs": [
    {
     "name": "stdout",
     "output_type": "stream",
     "text": [
      "\n",
      "    Score:\n",
      "    train 0.40\n",
      "    test 0.45  \n",
      "\n"
     ]
    }
   ],
   "source": [
    "print(f'''\n",
    "    Score:\n",
    "    train {mean_squared_log_error(y_train, cv_knn.best_estimator_.predict(x_train))**.5 :.2f}\n",
    "    test {mean_squared_log_error(y_test, cv_knn.best_estimator_.predict(x_test))**.5 :.2f}  \n",
    "''')"
   ]
  },
  {
   "cell_type": "code",
   "execution_count": 80,
   "id": "sublime-december",
   "metadata": {},
   "outputs": [],
   "source": [
    "x_test_kag = df_test[features].to_numpy()\n",
    "x_test_test_norm = scaler.transform(x_test_kag)\n",
    "\n",
    "cv_knn.best_estimator_.predict(x_test_test_norm)\n",
    "df_sample['SalePrice'] = cv_knn.best_estimator_.predict(x_test_test_norm)\n",
    "\n",
    "df_sample.to_csv('house_prices_kag_knn.csv',columns = ['Id','SalePrice'],index=False)"
   ]
  },
  {
   "cell_type": "code",
   "execution_count": 81,
   "id": "mathematical-pierce",
   "metadata": {},
   "outputs": [
    {
     "data": {
      "text/plain": [
       "array([136027.24247262, 145579.38927145, 182511.01305787, ...,\n",
       "       123535.78879736, 106903.25108224, 214501.51364151])"
      ]
     },
     "execution_count": 81,
     "metadata": {},
     "output_type": "execute_result"
    }
   ],
   "source": [
    "cv_knn.best_estimator_.predict(x_test_test_norm)"
   ]
  },
  {
   "cell_type": "markdown",
   "id": "nasty-andrew",
   "metadata": {},
   "source": [
    "# ElasticNet"
   ]
  },
  {
   "cell_type": "code",
   "execution_count": 1086,
   "id": "biological-gardening",
   "metadata": {},
   "outputs": [],
   "source": [
    "from sklearn.linear_model import ElasticNet\n",
    "\n",
    "EN = ElasticNet( )\n",
    "\n",
    "# будут рассмотрены все возможные комбинаци этих значений\n",
    "param_grid = {\n",
    "    'alpha': [0.001,0.005,0.01,0.05,0.1,0.5,1,5,10,50,100],\n",
    "    'l1_ratio': [0.001,0.005,0.01,0.05,0.1,0.5,1,5,10,50,100]\n",
    "}\n",
    "\n",
    "# создаем объект\n",
    "cv_EN = GridSearchCV(\n",
    "    estimator = EN, \n",
    "    param_grid = param_grid,\n",
    "    scoring = make_scorer(lambda t,p: mean_squared_log_error(t,p)**.5, greater_is_better=False), # метрика, которую будем *максимизировать*\n",
    "    return_train_score= True,\n",
    "    cv=12, #кол-во фолдов\n",
    "    verbose = 4,\n",
    "    n_jobs = -1 # насколько параллелельно считаем,\n",
    "    #refit=True\n",
    "    )\n"
   ]
  },
  {
   "cell_type": "code",
   "execution_count": 1087,
   "id": "noble-johnston",
   "metadata": {},
   "outputs": [
    {
     "name": "stdout",
     "output_type": "stream",
     "text": [
      "Fitting 12 folds for each of 121 candidates, totalling 1452 fits\n"
     ]
    },
    {
     "name": "stderr",
     "output_type": "stream",
     "text": [
      "/opt/anaconda3/lib/python3.7/site-packages/sklearn/model_selection/_search.py:921: UserWarning: One or more of the test scores are non-finite: [        nan         nan         nan         nan         nan         nan\n",
      "         nan         nan         nan         nan         nan         nan\n",
      "         nan         nan         nan         nan         nan         nan\n",
      "         nan         nan         nan         nan         nan         nan\n",
      "         nan         nan         nan         nan         nan         nan\n",
      "         nan         nan         nan -0.15353359 -0.15360236 -0.15368901\n",
      " -0.15441086 -0.1553931  -0.17161617         nan         nan         nan\n",
      "         nan         nan -0.14395209 -0.14399702 -0.14405358 -0.14452277\n",
      " -0.14515479 -0.15350749         nan         nan         nan         nan\n",
      "         nan -0.13385391 -0.13385748 -0.13386213 -0.13390787 -0.13398799\n",
      " -0.13619791         nan         nan         nan         nan         nan\n",
      " -0.13550768 -0.13548278 -0.13545181 -0.13521057 -0.13492669 -0.13384713\n",
      "         nan         nan         nan         nan         nan -0.17071128\n",
      " -0.17054199 -0.17033007 -0.16862319 -0.16646107 -0.14825169         nan\n",
      "         nan         nan         nan         nan -0.20679667 -0.20655276\n",
      " -0.20624696 -0.20376441 -0.20056823 -0.17078951         nan         nan\n",
      "         nan         nan         nan -0.31108487 -0.31086258 -0.31058291\n",
      " -0.3082707  -0.30517947 -0.26798259         nan         nan         nan\n",
      "         nan         nan -0.34345558 -0.34330466 -0.34311459 -0.34153455\n",
      " -0.339398   -0.31131008         nan         nan         nan         nan\n",
      "         nan]\n",
      "  category=UserWarning\n",
      "/opt/anaconda3/lib/python3.7/site-packages/sklearn/model_selection/_search.py:921: UserWarning: One or more of the train scores are non-finite: [-0.09395617 -0.09395651 -0.09395692 -0.09396025 -0.09396446 -0.09399994\n",
      " -0.09404682         nan         nan         nan         nan -0.09373441\n",
      " -0.09373518 -0.09373615 -0.09374402 -0.0937542  -0.09385211 -0.09404668\n",
      "         nan         nan         nan         nan -0.0935962  -0.09359696\n",
      " -0.09359792 -0.09360585 -0.09361643 -0.09373411 -0.09404651         nan\n",
      "         nan         nan         nan -0.09379096 -0.09378788 -0.09378405\n",
      " -0.09375391 -0.09371766 -0.09351702 -0.09404515         nan         nan\n",
      "         nan         nan -0.09471195 -0.09470395 -0.09469395 -0.09461429\n",
      " -0.09451551 -0.09379156 -0.09404339         nan         nan         nan\n",
      "         nan -0.10262132 -0.10258439 -0.10253818 -0.10216692 -0.10169883\n",
      " -0.09778788 -0.09402892         nan         nan         nan         nan\n",
      " -0.11110899 -0.11104594 -0.11096703 -0.11033205 -0.10952869 -0.10263482\n",
      " -0.09401072         nan         nan         nan         nan -0.15888993\n",
      " -0.15869605 -0.15845323 -0.15649189 -0.15399201 -0.13175252 -0.09387366\n",
      "         nan         nan         nan         nan -0.19888334 -0.19861879\n",
      " -0.19828705 -0.1955908  -0.19211091 -0.15898758 -0.09373713         nan\n",
      "         nan         nan         nan -0.30937799 -0.30914579 -0.30885364\n",
      " -0.3064377  -0.30320634 -0.26416597 -0.09333775         nan         nan\n",
      "         nan         nan -0.34311576 -0.34295886 -0.34276125 -0.34111833\n",
      " -0.33889627 -0.30962469 -0.09338155         nan         nan         nan\n",
      "         nan]\n",
      "  category=UserWarning\n"
     ]
    },
    {
     "data": {
      "text/plain": [
       "GridSearchCV(cv=12, estimator=ElasticNet(), n_jobs=-1,\n",
       "             param_grid={'alpha': [0.001, 0.005, 0.01, 0.05, 0.1, 0.5, 1, 5, 10,\n",
       "                                   50, 100],\n",
       "                         'l1_ratio': [0.001, 0.005, 0.01, 0.05, 0.1, 0.5, 1, 5,\n",
       "                                      10, 50, 100]},\n",
       "             return_train_score=True,\n",
       "             scoring=make_scorer(<lambda>, greater_is_better=False), verbose=4)"
      ]
     },
     "execution_count": 1087,
     "metadata": {},
     "output_type": "execute_result"
    }
   ],
   "source": [
    "cv_EN.fit(x_train_norm, y_train)"
   ]
  },
  {
   "cell_type": "code",
   "execution_count": 1050,
   "id": "eastern-salmon",
   "metadata": {},
   "outputs": [
    {
     "data": {
      "text/plain": [
       "({'alpha': 1, 'l1_ratio': 0.5}, -0.13384712633923002)"
      ]
     },
     "execution_count": 1050,
     "metadata": {},
     "output_type": "execute_result"
    }
   ],
   "source": [
    "cv_EN.best_params_, cv_EN.best_score_"
   ]
  },
  {
   "cell_type": "code",
   "execution_count": 1051,
   "id": "substantial-murder",
   "metadata": {},
   "outputs": [
    {
     "data": {
      "text/plain": [
       "(ElasticNet(alpha=1),\n",
       " <bound method LinearModel.predict of ElasticNet(alpha=1)>)"
      ]
     },
     "execution_count": 1051,
     "metadata": {},
     "output_type": "execute_result"
    }
   ],
   "source": [
    "cv_EN.best_estimator_, cv_EN.best_estimator_.predict"
   ]
  },
  {
   "cell_type": "code",
   "execution_count": 1052,
   "id": "selected-injection",
   "metadata": {},
   "outputs": [
    {
     "data": {
      "text/plain": [
       "ElasticNet(alpha=1)"
      ]
     },
     "execution_count": 1052,
     "metadata": {},
     "output_type": "execute_result"
    }
   ],
   "source": [
    "cv_EN.best_estimator_.fit(x_train_norm,y_train)"
   ]
  },
  {
   "cell_type": "code",
   "execution_count": 1053,
   "id": "adjusted-andorra",
   "metadata": {},
   "outputs": [
    {
     "name": "stdout",
     "output_type": "stream",
     "text": [
      "\n",
      "    Score:\n",
      "    train 5.94\n",
      "    test 5.95  \n",
      "\n"
     ]
    }
   ],
   "source": [
    "print(f'''\n",
    "    Score:\n",
    "    train {mean_squared_log_error(y_train, cv_EN.best_estimator_.predict(x_train))**.5 :.2f}\n",
    "    test {mean_squared_log_error(y_test, cv_EN.best_estimator_.predict(x_test))**.5 :.2f}  \n",
    "''')"
   ]
  },
  {
   "cell_type": "code",
   "execution_count": 1104,
   "id": "careful-industry",
   "metadata": {},
   "outputs": [
    {
     "name": "stderr",
     "output_type": "stream",
     "text": [
      "/opt/anaconda3/lib/python3.7/site-packages/ipykernel_launcher.py:1: RuntimeWarning: overflow encountered in power\n",
      "  \"\"\"Entry point for launching an IPython kernel.\n"
     ]
    },
    {
     "data": {
      "text/plain": [
       "array([inf, inf, inf, inf, inf, inf, inf, inf, inf, inf, inf, inf, inf,\n",
       "       inf, inf, inf, inf, inf, inf, inf, inf, inf, inf, inf, inf, inf,\n",
       "       inf, inf, inf, inf, inf, inf, inf, inf, inf, inf, inf, inf, inf,\n",
       "       inf, inf, inf, inf, inf, inf, inf, inf, inf, inf, inf, inf, inf,\n",
       "       inf, inf, inf, inf, inf, inf, inf, inf, inf, inf, inf, inf, inf,\n",
       "       inf, inf, inf, inf, inf, inf, inf, inf, inf, inf, inf, inf, inf,\n",
       "       inf, inf, inf, inf, inf, inf, inf, inf, inf, inf, inf, inf, inf,\n",
       "       inf, inf, inf, inf, inf, inf, inf, inf, inf, inf, inf, inf, inf,\n",
       "       inf, inf, inf, inf, inf, inf, inf, inf, inf, inf, inf, inf, inf,\n",
       "       inf, inf, inf, inf, inf, inf, inf, inf, inf, inf, inf, inf, inf,\n",
       "       inf, inf, inf, inf, inf, inf, inf, inf, inf, inf, inf, inf, inf,\n",
       "       inf, inf, inf, inf, inf, inf, inf, inf, inf, inf, inf, inf, inf,\n",
       "       inf, inf, inf, inf, inf, inf, inf, inf, inf, inf, inf, inf, inf,\n",
       "       inf, inf, inf, inf, inf, inf, inf, inf, inf, inf, inf, inf, inf,\n",
       "       inf, inf, inf, inf, inf, inf, inf, inf, inf, inf, inf, inf, inf,\n",
       "       inf, inf, inf, inf, inf, inf, inf, inf, inf, inf, inf, inf, inf,\n",
       "       inf, inf, inf, inf, inf, inf, inf, inf, inf, inf, inf, inf, inf,\n",
       "       inf, inf, inf, inf, inf, inf, inf, inf, inf, inf, inf, inf, inf,\n",
       "       inf, inf, inf, inf, inf, inf, inf, inf, inf, inf, inf, inf, inf,\n",
       "       inf, inf, inf, inf, inf, inf, inf, inf, inf, inf, inf, inf, inf,\n",
       "       inf, inf, inf, inf, inf, inf, inf, inf, inf, inf, inf, inf, inf,\n",
       "       inf, inf, inf, inf, inf, inf, inf, inf, inf, inf, inf, inf, inf,\n",
       "       inf, inf, inf, inf, inf, inf, inf, inf, inf, inf, inf, inf, inf,\n",
       "       inf, inf, inf, inf, inf, inf, inf, inf, inf, inf, inf, inf, inf,\n",
       "       inf, inf, inf, inf, inf, inf, inf, inf, inf, inf, inf, inf, inf,\n",
       "       inf, inf, inf, inf, inf, inf, inf, inf, inf, inf, inf, inf, inf,\n",
       "       inf, inf, inf, inf, inf, inf, inf, inf, inf, inf, inf, inf, inf,\n",
       "       inf, inf, inf, inf, inf, inf, inf, inf, inf, inf, inf, inf, inf,\n",
       "       inf, inf, inf, inf, inf, inf, inf, inf, inf, inf, inf, inf, inf,\n",
       "       inf, inf, inf, inf, inf, inf, inf, inf, inf, inf, inf, inf, inf,\n",
       "       inf, inf, inf, inf, inf, inf, inf, inf, inf, inf, inf, inf, inf,\n",
       "       inf, inf, inf, inf, inf, inf, inf, inf, inf, inf, inf, inf, inf,\n",
       "       inf, inf, inf, inf, inf, inf, inf, inf, inf, inf, inf, inf, inf,\n",
       "       inf, inf, inf, inf, inf, inf, inf, inf, inf])"
      ]
     },
     "execution_count": 1104,
     "metadata": {},
     "output_type": "execute_result"
    }
   ],
   "source": [
    "np.e**cv_EN.best_estimator_.predict(x_test)"
   ]
  },
  {
   "cell_type": "code",
   "execution_count": null,
   "id": "central-johnson",
   "metadata": {},
   "outputs": [],
   "source": []
  }
 ],
 "metadata": {
  "kernelspec": {
   "display_name": "Python 3",
   "language": "python",
   "name": "python3"
  },
  "language_info": {
   "codemirror_mode": {
    "name": "ipython",
    "version": 3
   },
   "file_extension": ".py",
   "mimetype": "text/x-python",
   "name": "python",
   "nbconvert_exporter": "python",
   "pygments_lexer": "ipython3",
   "version": "3.7.4"
  }
 },
 "nbformat": 4,
 "nbformat_minor": 5
}
