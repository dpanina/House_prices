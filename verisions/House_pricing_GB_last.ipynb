{
 "cells": [
  {
   "cell_type": "code",
   "execution_count": 1,
   "id": "single-button",
   "metadata": {},
   "outputs": [],
   "source": [
    "import pandas as pd\n",
    "import numpy as np\n",
    "import matplotlib.pyplot as plt\n",
    "import seaborn as sns\n",
    "\n",
    "import sklearn\n",
    "from sklearn.metrics import accuracy_score\n",
    "from sklearn.model_selection import train_test_split\n",
    "\n",
    "from sklearn.model_selection import GridSearchCV\n",
    "from sklearn.neighbors import KNeighborsRegressor\n",
    "from sklearn.ensemble import GradientBoostingRegressor \n",
    "from sklearn.metrics import mean_squared_error, r2_score\n",
    "from sklearn.metrics import make_scorer, mean_squared_log_error\n",
    "from sklearn.linear_model import ElasticNet"
   ]
  },
  {
   "cell_type": "markdown",
   "id": "worldwide-interval",
   "metadata": {},
   "source": [
    "# train_test_valid"
   ]
  },
  {
   "cell_type": "code",
   "execution_count": 3,
   "id": "light-shower",
   "metadata": {},
   "outputs": [],
   "source": [
    "df_all = pd.read_csv('df_clear_new_wo_out.csv', index_col = ['Id'])\n",
    "df_sample = pd.read_csv('sample_submission.csv')"
   ]
  },
  {
   "cell_type": "code",
   "execution_count": 4,
   "id": "settled-excuse",
   "metadata": {},
   "outputs": [],
   "source": [
    "df_train = df_all[df_all['train_test']=='train']\n",
    "df_test = df_all[df_all['train_test']=='test']\n",
    "#target = df_train['SalePrice']\n",
    "target = np.log(df_train['SalePrice'])\n",
    "df_train = df_train.drop(['train_test', 'SalePrice'], axis = 1).copy()\n",
    "df_test = df_test.drop(['train_test', 'SalePrice'], axis = 1).copy()\n"
   ]
  },
  {
   "cell_type": "code",
   "execution_count": 5,
   "id": "quick-retrieval",
   "metadata": {},
   "outputs": [
    {
     "data": {
      "text/plain": [
       "0.0    1418\n",
       "1.0      12\n",
       "Name: Functional_Maj1, dtype: int64"
      ]
     },
     "execution_count": 5,
     "metadata": {},
     "output_type": "execute_result"
    }
   ],
   "source": [
    "df_train.iloc[:,218].value_counts()"
   ]
  },
  {
   "cell_type": "code",
   "execution_count": 6,
   "id": "statewide-isolation",
   "metadata": {},
   "outputs": [
    {
     "data": {
      "text/plain": [
       "0.0    1454\n",
       "1.0       5\n",
       "Name: Functional_Maj1, dtype: int64"
      ]
     },
     "execution_count": 6,
     "metadata": {},
     "output_type": "execute_result"
    }
   ],
   "source": [
    "df_test.iloc[:,218].value_counts()"
   ]
  },
  {
   "cell_type": "code",
   "execution_count": 7,
   "id": "decent-consultation",
   "metadata": {},
   "outputs": [
    {
     "data": {
      "text/plain": [
       "<AxesSubplot:xlabel='SalePrice', ylabel='Count'>"
      ]
     },
     "execution_count": 7,
     "metadata": {},
     "output_type": "execute_result"
    },
    {
     "data": {
      "image/png": "[encoded data removed]",
      "text/plain": [
       "<Figure size 432x288 with 1 Axes>"
      ]
     },
     "metadata": {
      "needs_background": "light"
     },
     "output_type": "display_data"
    }
   ],
   "source": [
    "sns.histplot(target, kde = True)"
   ]
  },
  {
   "cell_type": "code",
   "execution_count": 8,
   "id": "efficient-techno",
   "metadata": {},
   "outputs": [],
   "source": [
    "x, y = df_train.to_numpy(), target.to_numpy()"
   ]
  },
  {
   "cell_type": "code",
   "execution_count": 9,
   "id": "southwest-funeral",
   "metadata": {},
   "outputs": [],
   "source": [
    "x_train, x_valid, y_train, y_valid = train_test_split(x, y, test_size=.3, random_state=1)\n",
    "x_train.shape,  x_valid.shape, y_train.shape, y_valid.shape\n",
    "\n",
    "#Normalizaton\n",
    "from sklearn.preprocessing import StandardScaler\n",
    "scaler = StandardScaler()\n",
    "x_train_norm = scaler.fit_transform(x_train)\n",
    "x_valid_norm = scaler.transform(x_valid)"
   ]
  },
  {
   "cell_type": "code",
   "execution_count": 10,
   "id": "searching-superintendent",
   "metadata": {},
   "outputs": [],
   "source": [
    "#sns.histplot(pd.DataFrame(x_train_norm), kde = True)"
   ]
  },
  {
   "cell_type": "code",
   "execution_count": 11,
   "id": "hundred-lincoln",
   "metadata": {},
   "outputs": [
    {
     "data": {
      "text/plain": [
       "(1430, 270)"
      ]
     },
     "execution_count": 11,
     "metadata": {},
     "output_type": "execute_result"
    }
   ],
   "source": [
    "x_train.shape,  x_valid.shape, y_train.shape, y_valid.shape\n",
    "df_train.shape"
   ]
  },
  {
   "cell_type": "markdown",
   "id": "internal-murray",
   "metadata": {},
   "source": [
    "x_train, x_valid, y_train, y_valid = train_valid_split(x, y, test_size=.3, random_state=1)\n",
    "x_train.shape,  x_valid.shape, y_train.shape, y_valid.shape\n",
    "\n",
    "from sklearn.preprocessing import PowerTransformer\n",
    "scaler = PowerTransformer()\n",
    "x_train_norm = scaler.fit_transform(x_train)\n",
    "x_valid_norm = scaler.transform(x_valid)"
   ]
  },
  {
   "cell_type": "markdown",
   "id": "opposed-ocean",
   "metadata": {},
   "source": [
    "# GBR"
   ]
  },
  {
   "cell_type": "code",
   "execution_count": 19,
   "id": "precise-cedar",
   "metadata": {},
   "outputs": [],
   "source": [
    "GBR = GradientBoostingRegressor()\n",
    "\n",
    "# будут рассмотрены все возможные комбинаци этих значений\n",
    "param_grid = {\n",
    "    'loss': ['ls', 'lad','huber'],\n",
    "    'learning_rate': [0.02, 0.05, 0.06],\n",
    "    'n_estimators': [500, 1000],\n",
    "    'max_depth': [3,4],\n",
    "    'max_leaf_nodes': [25],\n",
    "    'max_features': ['log2', 'sqrt'],\n",
    "    'tol': [0.005, 0.003],\n",
    "    'min_samples_leaf': [1, 5, 8],\n",
    "    'min_samples_split': [2, 4, 6]\n",
    "}\n",
    "\n",
    "# создаем объект\n",
    "cv = GridSearchCV(\n",
    "    estimator=GBR,\n",
    "    param_grid=param_grid,\n",
    "    scoring=make_scorer(lambda t,p: mean_squared_error(t,p)**.5, greater_is_better=False),\n",
    "    return_train_score=True,\n",
    "    #refit=True,\n",
    "    cv=5, # количество фолдов\n",
    "    verbose=4, # сколько печатать сообщений\n",
    "    n_jobs=-1, # насколько параллелельно считаем\n",
    ")"
   ]
  },
  {
   "cell_type": "code",
   "execution_count": 20,
   "id": "swiss-spray",
   "metadata": {},
   "outputs": [
    {
     "name": "stdout",
     "output_type": "stream",
     "text": [
      "Fitting 5 folds for each of 1296 candidates, totalling 6480 fits\n"
     ]
    },
    {
     "data": {
      "text/plain": [
       "GridSearchCV(cv=5, estimator=GradientBoostingRegressor(), n_jobs=-1,\n",
       "             param_grid={'learning_rate': [0.02, 0.05, 0.06],\n",
       "                         'loss': ['ls', 'lad', 'huber'], 'max_depth': [3, 4],\n",
       "                         'max_features': ['log2', 'sqrt'],\n",
       "                         'max_leaf_nodes': [25], 'min_samples_leaf': [1, 5, 8],\n",
       "                         'min_samples_split': [2, 4, 6],\n",
       "                         'n_estimators': [500, 1000], 'tol': [0.005, 0.003]},\n",
       "             return_train_score=True,\n",
       "             scoring=make_scorer(<lambda>, greater_is_better=False), verbose=4)"
      ]
     },
     "execution_count": 20,
     "metadata": {},
     "output_type": "execute_result"
    }
   ],
   "source": [
    "cv.fit(x_train_norm, y_train)"
   ]
  },
  {
   "cell_type": "code",
   "execution_count": 21,
   "id": "starting-necklace",
   "metadata": {},
   "outputs": [
    {
     "data": {
      "text/plain": [
       "({'learning_rate': 0.05,\n",
       "  'loss': 'huber',\n",
       "  'max_depth': 4,\n",
       "  'max_features': 'log2',\n",
       "  'max_leaf_nodes': 25,\n",
       "  'min_samples_leaf': 1,\n",
       "  'min_samples_split': 6,\n",
       "  'n_estimators': 1000,\n",
       "  'tol': 0.005},\n",
       " -0.11714954949386328)"
      ]
     },
     "execution_count": 21,
     "metadata": {},
     "output_type": "execute_result"
    }
   ],
   "source": [
    "cv.best_params_, cv.best_score_"
   ]
  },
  {
   "cell_type": "code",
   "execution_count": 26,
   "id": "expanded-torture",
   "metadata": {},
   "outputs": [
    {
     "data": {
      "text/html": [
       "<div>\n",
       "<style scoped>\n",
       "    .dataframe tbody tr th:only-of-type {\n",
       "        vertical-align: middle;\n",
       "    }\n",
       "\n",
       "    .dataframe tbody tr th {\n",
       "        vertical-align: top;\n",
       "    }\n",
       "\n",
       "    .dataframe thead th {\n",
       "        text-align: right;\n",
       "    }\n",
       "</style>\n",
       "<table border=\"1\" class=\"dataframe\">\n",
       "  <thead>\n",
       "    <tr style=\"text-align: right;\">\n",
       "      <th></th>\n",
       "      <th>mean_train_score</th>\n",
       "      <th>mean_test_score</th>\n",
       "      <th>params</th>\n",
       "    </tr>\n",
       "  </thead>\n",
       "  <tbody>\n",
       "    <tr>\n",
       "      <th>802</th>\n",
       "      <td>-0.043910</td>\n",
       "      <td>-0.117150</td>\n",
       "      <td>{'learning_rate': 0.05, 'loss': 'huber', 'max_...</td>\n",
       "    </tr>\n",
       "    <tr>\n",
       "      <th>402</th>\n",
       "      <td>-0.055619</td>\n",
       "      <td>-0.117804</td>\n",
       "      <td>{'learning_rate': 0.02, 'loss': 'huber', 'max_...</td>\n",
       "    </tr>\n",
       "    <tr>\n",
       "      <th>362</th>\n",
       "      <td>-0.060348</td>\n",
       "      <td>-0.118353</td>\n",
       "      <td>{'learning_rate': 0.02, 'loss': 'huber', 'max_...</td>\n",
       "    </tr>\n",
       "    <tr>\n",
       "      <th>761</th>\n",
       "      <td>-0.068036</td>\n",
       "      <td>-0.118474</td>\n",
       "      <td>{'learning_rate': 0.05, 'loss': 'huber', 'max_...</td>\n",
       "    </tr>\n",
       "    <tr>\n",
       "      <th>1214</th>\n",
       "      <td>-0.063855</td>\n",
       "      <td>-0.118490</td>\n",
       "      <td>{'learning_rate': 0.06, 'loss': 'huber', 'max_...</td>\n",
       "    </tr>\n",
       "    <tr>\n",
       "      <th>...</th>\n",
       "      <td>...</td>\n",
       "      <td>...</td>\n",
       "      <td>...</td>\n",
       "    </tr>\n",
       "    <tr>\n",
       "      <th>169</th>\n",
       "      <td>-0.116419</td>\n",
       "      <td>-0.134204</td>\n",
       "      <td>{'learning_rate': 0.02, 'loss': 'lad', 'max_de...</td>\n",
       "    </tr>\n",
       "    <tr>\n",
       "      <th>160</th>\n",
       "      <td>-0.115678</td>\n",
       "      <td>-0.134316</td>\n",
       "      <td>{'learning_rate': 0.02, 'loss': 'lad', 'max_de...</td>\n",
       "    </tr>\n",
       "    <tr>\n",
       "      <th>173</th>\n",
       "      <td>-0.117089</td>\n",
       "      <td>-0.134322</td>\n",
       "      <td>{'learning_rate': 0.02, 'loss': 'lad', 'max_de...</td>\n",
       "    </tr>\n",
       "    <tr>\n",
       "      <th>156</th>\n",
       "      <td>-0.115269</td>\n",
       "      <td>-0.134745</td>\n",
       "      <td>{'learning_rate': 0.02, 'loss': 'lad', 'max_de...</td>\n",
       "    </tr>\n",
       "    <tr>\n",
       "      <th>177</th>\n",
       "      <td>-0.117268</td>\n",
       "      <td>-0.135108</td>\n",
       "      <td>{'learning_rate': 0.02, 'loss': 'lad', 'max_de...</td>\n",
       "    </tr>\n",
       "  </tbody>\n",
       "</table>\n",
       "<p>1296 rows × 3 columns</p>\n",
       "</div>"
      ],
      "text/plain": [
       "      mean_train_score  mean_test_score  \\\n",
       "802          -0.043910        -0.117150   \n",
       "402          -0.055619        -0.117804   \n",
       "362          -0.060348        -0.118353   \n",
       "761          -0.068036        -0.118474   \n",
       "1214         -0.063855        -0.118490   \n",
       "...                ...              ...   \n",
       "169          -0.116419        -0.134204   \n",
       "160          -0.115678        -0.134316   \n",
       "173          -0.117089        -0.134322   \n",
       "156          -0.115269        -0.134745   \n",
       "177          -0.117268        -0.135108   \n",
       "\n",
       "                                                 params  \n",
       "802   {'learning_rate': 0.05, 'loss': 'huber', 'max_...  \n",
       "402   {'learning_rate': 0.02, 'loss': 'huber', 'max_...  \n",
       "362   {'learning_rate': 0.02, 'loss': 'huber', 'max_...  \n",
       "761   {'learning_rate': 0.05, 'loss': 'huber', 'max_...  \n",
       "1214  {'learning_rate': 0.06, 'loss': 'huber', 'max_...  \n",
       "...                                                 ...  \n",
       "169   {'learning_rate': 0.02, 'loss': 'lad', 'max_de...  \n",
       "160   {'learning_rate': 0.02, 'loss': 'lad', 'max_de...  \n",
       "173   {'learning_rate': 0.02, 'loss': 'lad', 'max_de...  \n",
       "156   {'learning_rate': 0.02, 'loss': 'lad', 'max_de...  \n",
       "177   {'learning_rate': 0.02, 'loss': 'lad', 'max_de...  \n",
       "\n",
       "[1296 rows x 3 columns]"
      ]
     },
     "execution_count": 26,
     "metadata": {},
     "output_type": "execute_result"
    }
   ],
   "source": [
    "pd.DataFrame(cv.cv_results_)[['mean_train_score', 'mean_test_score', 'params']].sort_values('mean_test_score', ascending = False)"
   ]
  },
  {
   "cell_type": "code",
   "execution_count": 367,
   "id": "raising-demand",
   "metadata": {},
   "outputs": [
    {
     "data": {
      "text/plain": [
       "(GradientBoostingRegressor(learning_rate=0.05, loss='huber', max_features='sqrt',\n",
       "                           n_estimators=500, tol=0.001),\n",
       " <bound method GradientBoostingRegressor.predict of GradientBoostingRegressor(learning_rate=0.05, loss='huber', max_features='sqrt',\n",
       "                           n_estimators=500, tol=0.001)>)"
      ]
     },
     "execution_count": 367,
     "metadata": {},
     "output_type": "execute_result"
    }
   ],
   "source": [
    "cv.best_estimator_, cv.best_estimator_.predict"
   ]
  },
  {
   "cell_type": "code",
   "execution_count": 368,
   "id": "constant-suite",
   "metadata": {},
   "outputs": [
    {
     "data": {
      "text/plain": [
       "GradientBoostingRegressor(learning_rate=0.05, loss='huber', max_features='sqrt',\n",
       "                          n_estimators=500, tol=0.001)"
      ]
     },
     "execution_count": 368,
     "metadata": {},
     "output_type": "execute_result"
    }
   ],
   "source": [
    "cv.best_estimator_.fit(x_train_norm,y_train)"
   ]
  },
  {
   "cell_type": "code",
   "execution_count": 27,
   "id": "alternative-compatibility",
   "metadata": {},
   "outputs": [
    {
     "data": {
      "text/plain": [
       "GradientBoostingRegressor(learning_rate=0.05, loss='huber', max_depth=4,\n",
       "                          max_features='log2', max_leaf_nodes=25,\n",
       "                          min_samples_split=6, n_estimators=1000, tol=0.005)"
      ]
     },
     "execution_count": 27,
     "metadata": {},
     "output_type": "execute_result"
    }
   ],
   "source": [
    "gb = GradientBoostingRegressor(**cv.best_params_)\n",
    "gb.fit(x_train, y_train)"
   ]
  },
  {
   "cell_type": "code",
   "execution_count": 28,
   "id": "effective-particular",
   "metadata": {},
   "outputs": [
    {
     "data": {
      "text/plain": [
       "array([12.01684326, 12.19047016, 11.63580311, ..., 11.77199693,\n",
       "       12.62570038, 11.9515796 ])"
      ]
     },
     "execution_count": 28,
     "metadata": {},
     "output_type": "execute_result"
    }
   ],
   "source": [
    "gb.predict(x_train)"
   ]
  },
  {
   "cell_type": "code",
   "execution_count": 370,
   "id": "flush-prophet",
   "metadata": {},
   "outputs": [
    {
     "data": {
      "text/plain": [
       "array([12.36001096, 12.5096602 , 12.36496999, ..., 12.4766185 ,\n",
       "       12.50140669, 12.34773576])"
      ]
     },
     "execution_count": 370,
     "metadata": {},
     "output_type": "execute_result"
    }
   ],
   "source": [
    "cv.predict(x_train)"
   ]
  },
  {
   "cell_type": "code",
   "execution_count": 371,
   "id": "general-multimedia",
   "metadata": {},
   "outputs": [
    {
     "data": {
      "image/png": "[encoded data removed]",
      "text/plain": [
       "<Figure size 432x288 with 1 Axes>"
      ]
     },
     "metadata": {
      "needs_background": "light"
     },
     "output_type": "display_data"
    }
   ],
   "source": [
    "plt.hist(y_train, alpha=0.5, color='b')\n",
    "plt.hist(cv.predict(x_train), alpha=0.5, color='r');\n",
    "plt.hist(gb.predict(x_train), alpha=0.5, color='orange');"
   ]
  },
  {
   "cell_type": "code",
   "execution_count": 373,
   "id": "prerequisite-ebony",
   "metadata": {},
   "outputs": [
    {
     "name": "stdout",
     "output_type": "stream",
     "text": [
      "\n",
      "    Score:\n",
      "    train 0.07\n",
      "    test 0.15\n",
      "\n"
     ]
    }
   ],
   "source": [
    "print(f'''\n",
    "    Score:\n",
    "    train {mean_squared_error(y_train, cv.predict(x_train_norm))**.5 :.2f}\n",
    "    test {mean_squared_error(y_valid, cv.predict(x_valid_norm))**.5 :.2f}\n",
    "''')\n",
    "#np.e**elastic_net.predict(test)})"
   ]
  },
  {
   "cell_type": "code",
   "execution_count": 333,
   "id": "contemporary-vacuum",
   "metadata": {},
   "outputs": [
    {
     "name": "stdout",
     "output_type": "stream",
     "text": [
      "(96, 26)\n"
     ]
    },
    {
     "ename": "NameError",
     "evalue": "name 'df' is not defined",
     "output_type": "error",
     "traceback": [
      "\u001b[0;31m---------------------------------------------------------------------------\u001b[0m",
      "\u001b[0;31mNameError\u001b[0m                                 Traceback (most recent call last)",
      "\u001b[0;32m<ipython-input-333-897c67920988>\u001b[0m in \u001b[0;36m<module>\u001b[0;34m\u001b[0m\n\u001b[1;32m      4\u001b[0m \u001b[0mres\u001b[0m\u001b[0;34m.\u001b[0m\u001b[0mhead\u001b[0m\u001b[0;34m(\u001b[0m\u001b[0;34m)\u001b[0m\u001b[0;34m\u001b[0m\u001b[0;34m\u001b[0m\u001b[0m\n\u001b[1;32m      5\u001b[0m \u001b[0;34m\u001b[0m\u001b[0m\n\u001b[0;32m----> 6\u001b[0;31m \u001b[0mdf\u001b[0m\u001b[0;34m[\u001b[0m\u001b[0;34m'LotFrontage'\u001b[0m\u001b[0;34m]\u001b[0m\u001b[0;34m.\u001b[0m\u001b[0mstd\u001b[0m\u001b[0;34m\u001b[0m\u001b[0;34m\u001b[0m\u001b[0m\n\u001b[0m",
      "\u001b[0;31mNameError\u001b[0m: name 'df' is not defined"
     ]
    }
   ],
   "source": [
    "# исследуем результаты в DataFrame\n",
    "res = pd.DataFrame(cv.cv_results_)\n",
    "print(res.shape)\n",
    "res.head()"
   ]
  },
  {
   "cell_type": "code",
   "execution_count": 184,
   "id": "behavioral-montana",
   "metadata": {},
   "outputs": [
    {
     "data": {
      "text/html": [
       "<div>\n",
       "<style scoped>\n",
       "    .dataframe tbody tr th:only-of-type {\n",
       "        vertical-align: middle;\n",
       "    }\n",
       "\n",
       "    .dataframe tbody tr th {\n",
       "        vertical-align: top;\n",
       "    }\n",
       "\n",
       "    .dataframe thead th {\n",
       "        text-align: right;\n",
       "    }\n",
       "</style>\n",
       "<table border=\"1\" class=\"dataframe\">\n",
       "  <thead>\n",
       "    <tr style=\"text-align: right;\">\n",
       "      <th></th>\n",
       "      <th>param_learning_rate</th>\n",
       "      <th>param_loss</th>\n",
       "      <th>param_max_depth</th>\n",
       "      <th>param_max_features</th>\n",
       "      <th>param_max_leaf_nodes</th>\n",
       "      <th>param_n_estimators</th>\n",
       "      <th>param_tol</th>\n",
       "      <th>mean_test_score</th>\n",
       "      <th>std_test_score</th>\n",
       "    </tr>\n",
       "  </thead>\n",
       "  <tbody>\n",
       "    <tr>\n",
       "      <th>112</th>\n",
       "      <td>0.1</td>\n",
       "      <td>huber</td>\n",
       "      <td>3</td>\n",
       "      <td>sqrt</td>\n",
       "      <td>25</td>\n",
       "      <td>500</td>\n",
       "      <td>0.0005</td>\n",
       "      <td>-0.127672</td>\n",
       "      <td>0.009031</td>\n",
       "    </tr>\n",
       "    <tr>\n",
       "      <th>23</th>\n",
       "      <td>0.1</td>\n",
       "      <td>ls</td>\n",
       "      <td>3</td>\n",
       "      <td>sqrt</td>\n",
       "      <td>None</td>\n",
       "      <td>500</td>\n",
       "      <td>0.001</td>\n",
       "      <td>-0.127647</td>\n",
       "      <td>0.011265</td>\n",
       "    </tr>\n",
       "    <tr>\n",
       "      <th>70</th>\n",
       "      <td>0.1</td>\n",
       "      <td>lad</td>\n",
       "      <td>3</td>\n",
       "      <td>sqrt</td>\n",
       "      <td>None</td>\n",
       "      <td>500</td>\n",
       "      <td>0.0005</td>\n",
       "      <td>-0.127235</td>\n",
       "      <td>0.013972</td>\n",
       "    </tr>\n",
       "    <tr>\n",
       "      <th>116</th>\n",
       "      <td>0.1</td>\n",
       "      <td>huber</td>\n",
       "      <td>3</td>\n",
       "      <td>sqrt</td>\n",
       "      <td>None</td>\n",
       "      <td>200</td>\n",
       "      <td>0.0005</td>\n",
       "      <td>-0.126905</td>\n",
       "      <td>0.010244</td>\n",
       "    </tr>\n",
       "    <tr>\n",
       "      <th>118</th>\n",
       "      <td>0.1</td>\n",
       "      <td>huber</td>\n",
       "      <td>3</td>\n",
       "      <td>sqrt</td>\n",
       "      <td>None</td>\n",
       "      <td>500</td>\n",
       "      <td>0.0005</td>\n",
       "      <td>-0.126100</td>\n",
       "      <td>0.011707</td>\n",
       "    </tr>\n",
       "  </tbody>\n",
       "</table>\n",
       "</div>"
      ],
      "text/plain": [
       "    param_learning_rate param_loss param_max_depth param_max_features  \\\n",
       "112                 0.1      huber               3               sqrt   \n",
       "23                  0.1         ls               3               sqrt   \n",
       "70                  0.1        lad               3               sqrt   \n",
       "116                 0.1      huber               3               sqrt   \n",
       "118                 0.1      huber               3               sqrt   \n",
       "\n",
       "    param_max_leaf_nodes param_n_estimators param_tol  mean_test_score  \\\n",
       "112                   25                500    0.0005        -0.127672   \n",
       "23                  None                500     0.001        -0.127647   \n",
       "70                  None                500    0.0005        -0.127235   \n",
       "116                 None                200    0.0005        -0.126905   \n",
       "118                 None                500    0.0005        -0.126100   \n",
       "\n",
       "     std_test_score  \n",
       "112        0.009031  \n",
       "23         0.011265  \n",
       "70         0.013972  \n",
       "116        0.010244  \n",
       "118        0.011707  "
      ]
     },
     "execution_count": 184,
     "metadata": {},
     "output_type": "execute_result"
    }
   ],
   "source": [
    "# выделим только нужные колонки\n",
    "res1[[x for x in res1 if 'param_' in x] + ['mean_test_score', 'std_test_score']].sort_values('mean_test_score').tail(5)"
   ]
  },
  {
   "cell_type": "markdown",
   "id": "specialized-birthday",
   "metadata": {},
   "source": [
    "# Kaggle"
   ]
  },
  {
   "cell_type": "code",
   "execution_count": 29,
   "id": "russian-habitat",
   "metadata": {},
   "outputs": [],
   "source": [
    "x_test_kag = df_test.to_numpy()\n",
    "x_test_norm = scaler.transform(x_test_kag)"
   ]
  },
  {
   "cell_type": "code",
   "execution_count": 30,
   "id": "radio-blood",
   "metadata": {},
   "outputs": [
    {
     "data": {
      "text/plain": [
       "(1459, 270)"
      ]
     },
     "execution_count": 30,
     "metadata": {},
     "output_type": "execute_result"
    }
   ],
   "source": [
    "x_test_kag.shape"
   ]
  },
  {
   "cell_type": "code",
   "execution_count": 31,
   "id": "banned-daniel",
   "metadata": {},
   "outputs": [
    {
     "data": {
      "text/plain": [
       "array([126077.87643435, 154031.87447271, 184788.51071458, ...,\n",
       "       152703.11546466, 116504.27822386, 211133.29285555])"
      ]
     },
     "execution_count": 31,
     "metadata": {},
     "output_type": "execute_result"
    }
   ],
   "source": [
    "np.e**cv.best_estimator_.predict(x_test_norm)"
   ]
  },
  {
   "cell_type": "code",
   "execution_count": 32,
   "id": "colored-establishment",
   "metadata": {},
   "outputs": [],
   "source": [
    "df_sample['SalePrice'] = np.e**cv.best_estimator_.predict(x_test_norm)"
   ]
  },
  {
   "cell_type": "code",
   "execution_count": 33,
   "id": "musical-september",
   "metadata": {},
   "outputs": [],
   "source": [
    "df_sample.to_csv('house_prices_kag_boost2_wo_out.csv',columns = ['Id','SalePrice'],index=False)"
   ]
  },
  {
   "cell_type": "markdown",
   "id": "electric-special",
   "metadata": {},
   "source": [
    "# Mark"
   ]
  },
  {
   "cell_type": "markdown",
   "id": "primary-florida",
   "metadata": {},
   "source": []
  },
  {
   "cell_type": "code",
   "execution_count": 269,
   "id": "piano-terrain",
   "metadata": {},
   "outputs": [
    {
     "data": {
      "image/png": "[encoded data removed]",
      "text/plain": [
       "<Figure size 432x288 with 1 Axes>"
      ]
     },
     "metadata": {
      "needs_background": "light"
     },
     "output_type": "display_data"
    },
    {
     "data": {
      "image/png": "[encoded data removed]",
      "text/plain": [
       "<Figure size 432x288 with 1 Axes>"
      ]
     },
     "metadata": {
      "needs_background": "light"
     },
     "output_type": "display_data"
    }
   ],
   "source": [
    "plt.hist(x_test_norm.mean(axis=0));\n",
    "plt.show()\n",
    "plt.hist(x_test_norm.std(axis=0));"
   ]
  },
  {
   "cell_type": "code",
   "execution_count": 314,
   "id": "relevant-muscle",
   "metadata": {},
   "outputs": [
    {
     "data": {
      "text/plain": [
       "0.7268579582620178"
      ]
     },
     "execution_count": 314,
     "metadata": {},
     "output_type": "execute_result"
    }
   ],
   "source": [
    "x_test_norm.std(axis=0)[218]"
   ]
  },
  {
   "cell_type": "markdown",
   "id": "original-action",
   "metadata": {},
   "source": [
    "# KNN"
   ]
  },
  {
   "cell_type": "code",
   "execution_count": 323,
   "id": "unavailable-toolbox",
   "metadata": {},
   "outputs": [],
   "source": [
    "# Grid search + cross validation\n",
    "from sklearn.model_selection import GridSearchCV\n",
    "from sklearn.neighbors import KNeighborsRegressor\n",
    "# создаем объект, не задавая параметры. Можно задать параметры, которые не будет изменяться при GS\n",
    "KNR = KNeighborsRegressor( )\n",
    "\n",
    "# будут рассмотрены все возможные комбинаци этих значений\n",
    "param_grid = {\n",
    "    'n_neighbors': [3,5,7],\n",
    "    'p': [1,2,3],\n",
    "    'weights': ['uniform', 'distance'],\n",
    "    'leaf_size':[9, 10] \n",
    "}\n",
    "\n",
    "# создаем объект\n",
    "cv_knn = GridSearchCV(\n",
    "    estimator = KNR, \n",
    "    param_grid = param_grid,\n",
    "    scoring = make_scorer(lambda t,p: mean_squared_log_error(t,p)**.5, greater_is_better=False), # метрика, которую будем *максимизировать*\n",
    "    return_train_score= True,\n",
    "    cv=5, #кол-во фолдов\n",
    "    verbose = 4,\n",
    "    n_jobs = -1, # насколько параллелельно считаем,\n",
    "    refit=True\n",
    "    )"
   ]
  },
  {
   "cell_type": "code",
   "execution_count": 324,
   "id": "green-exception",
   "metadata": {},
   "outputs": [
    {
     "name": "stdout",
     "output_type": "stream",
     "text": [
      "Fitting 5 folds for each of 36 candidates, totalling 180 fits\n"
     ]
    },
    {
     "data": {
      "text/plain": [
       "GridSearchCV(cv=5, estimator=KNeighborsRegressor(), n_jobs=-1,\n",
       "             param_grid={'leaf_size': [9, 10], 'n_neighbors': [3, 5, 7],\n",
       "                         'p': [1, 2, 3], 'weights': ['uniform', 'distance']},\n",
       "             return_train_score=True,\n",
       "             scoring=make_scorer(<lambda>, greater_is_better=False), verbose=4)"
      ]
     },
     "execution_count": 324,
     "metadata": {},
     "output_type": "execute_result"
    }
   ],
   "source": [
    "cv_knn.fit(x_train_norm, y_train)"
   ]
  },
  {
   "cell_type": "code",
   "execution_count": 325,
   "id": "entertaining-minute",
   "metadata": {},
   "outputs": [
    {
     "data": {
      "text/plain": [
       "({'leaf_size': 9, 'n_neighbors': 5, 'p': 1, 'weights': 'distance'},\n",
       " -0.013865228118902364)"
      ]
     },
     "execution_count": 325,
     "metadata": {},
     "output_type": "execute_result"
    }
   ],
   "source": [
    "cv_knn.best_params_, cv_knn.best_score_"
   ]
  },
  {
   "cell_type": "code",
   "execution_count": 326,
   "id": "robust-segment",
   "metadata": {},
   "outputs": [
    {
     "data": {
      "text/plain": [
       "(KNeighborsRegressor(leaf_size=9, p=1, weights='distance'),\n",
       " <bound method KNeighborsRegressor.predict of KNeighborsRegressor(leaf_size=9, p=1, weights='distance')>)"
      ]
     },
     "execution_count": 326,
     "metadata": {},
     "output_type": "execute_result"
    }
   ],
   "source": [
    "cv_knn.best_estimator_, cv_knn.best_estimator_.predict"
   ]
  },
  {
   "cell_type": "code",
   "execution_count": 328,
   "id": "collect-employer",
   "metadata": {},
   "outputs": [],
   "source": [
    "#cv_knn.fit(x_train_norm,y_train)"
   ]
  },
  {
   "cell_type": "code",
   "execution_count": 331,
   "id": "regulated-singles",
   "metadata": {},
   "outputs": [
    {
     "name": "stdout",
     "output_type": "stream",
     "text": [
      "\n",
      "    Score:\n",
      "    train 0.00\n",
      "    test 0.21  \n",
      "\n"
     ]
    }
   ],
   "source": [
    "print(f'''\n",
    "    Score:\n",
    "    train {mean_squared_error(y_train, cv_knn.predict(x_train_norm))**.5 :.2f}\n",
    "    test {mean_squared_error(y_valid, cv_knn.predict(x_valid_norm))**.5 :.2f}  \n",
    "''')"
   ]
  },
  {
   "cell_type": "code",
   "execution_count": null,
   "id": "graphic-assist",
   "metadata": {},
   "outputs": [],
   "source": []
  }
 ],
 "metadata": {
  "kernelspec": {
   "display_name": "Python 3",
   "language": "python",
   "name": "python3"
  },
  "language_info": {
   "codemirror_mode": {
    "name": "ipython",
    "version": 3
   },
   "file_extension": ".py",
   "mimetype": "text/x-python",
   "name": "python",
   "nbconvert_exporter": "python",
   "pygments_lexer": "ipython3",
   "version": "3.7.4"
  }
 },
 "nbformat": 4,
 "nbformat_minor": 5
}
